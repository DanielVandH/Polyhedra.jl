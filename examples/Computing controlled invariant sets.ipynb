{
 "cells": [
  {
   "cell_type": "markdown",
   "metadata": {},
   "source": [
    "This notebook shows how to use [CDD](https://www.inf.ethz.ch/personal/fukudak/cdd_home/) to compute controlled invariant sets for an hybrid system.\n",
    "We consider the `cruise_control.jl` example of HybridSystems.jl which comes from [this paper](https://dl.acm.org/citation.cfm?id=2461378)."
   ]
  },
  {
   "cell_type": "code",
   "execution_count": null,
   "metadata": {},
   "outputs": [],
   "source": [
    "include(Pkg.dir(\"HybridSystems\", \"examples\", \"cruise_control.jl\"));"
   ]
  },
  {
   "cell_type": "code",
   "execution_count": null,
   "metadata": {
    "collapsed": true
   },
   "outputs": [],
   "source": [
    "const va = 15.6\n",
    "const vb = 24.5\n",
    "const vc = 29.5\n",
    "const v = (va, vb, vc)\n",
    "const U = 4.\n",
    "const m0 = 500\n",
    "const T = 2\n",
    "const N = 10\n",
    "const M = 1\n",
    "const H = 0.8;"
   ]
  },
  {
   "cell_type": "code",
   "execution_count": null,
   "metadata": {},
   "outputs": [],
   "source": [
    "macro _time(x)\n",
    "    quote\n",
    "        y = @timed $(esc(x))\n",
    "        # y[1] is returned value\n",
    "        # y[2] is time in seconds\n",
    "        y[2]\n",
    "    end\n",
    "end"
   ]
  },
  {
   "cell_type": "code",
   "execution_count": null,
   "metadata": {},
   "outputs": [],
   "source": [
    "function liftu(S, sys::HybridSystems.DiscreteLinearControlSystem)\n",
    "    [sys.A sys.B] \\ S\n",
    "end\n",
    "function new_constraint(hs, S, q, t)\n",
    "    @assert source(hs, t) == q\n",
    "    σ = symbol(hs, t)\n",
    "    r = target(hs, t)\n",
    "    ABset = liftu(S[1], hs.resetmaps[σ])\n",
    "    project(ABset, 1:statedim(hs, q))\n",
    "end\n",
    "function new_constraints(hs, S, q)\n",
    "    map(t -> new_constraint(hs, S, q, t), out_transitions(hs, q))\n",
    "end\n",
    "function add_hrep!(S, h::HalfSpace)\n",
    "    if S ⊆ h # If S ⊆ h, then adding h will not change affect S\n",
    "        false\n",
    "    else\n",
    "        push!(S, SimpleHRepresentation(reshape(h.a, 1, length(h.a)), [h.β]))\n",
    "        true\n",
    "    end\n",
    "end\n",
    "function add_constraint!(S, P)\n",
    "    added = count(map(h -> add_hrep!(S, h), ineqs(P))) + count(map(h -> add_hrep!(S, h), eqs(P)))\n",
    "    removehredundancy!(S)\n",
    "    added\n",
    "end\n",
    "function add_constraints!(S::Polyhedron, Ps::Vector{<:Polyhedron})\n",
    "    added = 0\n",
    "    for P in Ps\n",
    "        added += add_constraint!(S, P)\n",
    "    end\n",
    "    added\n",
    "end\n",
    "function set_iteration!(hs, S)\n",
    "    Ps = map(q -> new_constraints(hs, S, q), states(hs))\n",
    "    added = add_constraints!.(S, Ps)\n",
    "    @show added\n",
    "end\n",
    "function iterate!(hs, S, nit)\n",
    "    sum = 0.\n",
    "    for i in 1:2\n",
    "        @show i\n",
    "        cur = @_time set_iteration!(hs, S);\n",
    "        @show cur\n",
    "        sum += cur\n",
    "    end\n",
    "    sum\n",
    "end"
   ]
  },
  {
   "cell_type": "code",
   "execution_count": null,
   "metadata": {
    "collapsed": true
   },
   "outputs": [],
   "source": [
    "t = zeros(10)"
   ]
  },
  {
   "cell_type": "code",
   "execution_count": null,
   "metadata": {},
   "outputs": [],
   "source": [
    "for m in 1:1\n",
    "    hs = cruise_control_example(N, m, vmin = 5., v=(va, vb, vc), U=U, H=H, sym=false, m0=500);\n",
    "    I0 = hs.invariants;\n",
    "    @show nineqs(I0[1])\n",
    "    I = copy(I0);\n",
    "    @show m\n",
    "    t[m] = iterate!(hs, I, 2)\n",
    "    @show t[m]\n",
    "end"
   ]
  },
  {
   "cell_type": "code",
   "execution_count": null,
   "metadata": {},
   "outputs": [],
   "source": [
    "using Plots\n",
    "pyplot()\n",
    "_savefig(name) = Plots.savefig(\"/home/blegat/Dropbox/Research/Images/CruiseControl$name.png\");"
   ]
  },
  {
   "cell_type": "code",
   "execution_count": null,
   "metadata": {},
   "outputs": [],
   "source": [
    "MM = 1:10\n",
    "te = [0.10468482971191406, 0.2330489158630371, 0.8677887916564941, 1.4519941806793213, 2.107150077819824, 3.5698659420013428, 4.80554986000061, 7.2393341064453125, 11.002917051315308, 15.073602199554443]\n",
    "Plots.plot(MM, te, color=:blue, label=\"\", xlabel = \"Number of trailers\", ylabel=\"Solve Time [s]\", xticks=1:10)\n",
    "Plots.scatter!(MM, te, color=:blue, label=\"Ellipsoidal : Full computation\")\n",
    "Plots.plot!(MM, t, color=:red, label=\"\")\n",
    "Plots.scatter!(MM, t, color=:red, label=\"Polyhedral : only 2 iterations\")\n",
    "_savefig(\"Benchmark\")\n",
    "Plots.plot!()"
   ]
  },
  {
   "cell_type": "code",
   "execution_count": null,
   "metadata": {
    "collapsed": true
   },
   "outputs": [],
   "source": []
  }
 ],
 "metadata": {
  "kernelspec": {
   "display_name": "Julia 0.6.1",
   "language": "julia",
   "name": "julia-0.6"
  },
  "language_info": {
   "file_extension": ".jl",
   "mimetype": "application/julia",
   "name": "julia",
   "version": "0.6.1"
  }
 },
 "nbformat": 4,
 "nbformat_minor": 2
}
