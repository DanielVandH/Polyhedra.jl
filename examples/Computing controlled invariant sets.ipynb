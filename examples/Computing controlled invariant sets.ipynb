{
 "cells": [
  {
   "cell_type": "markdown",
   "metadata": {},
   "source": [
    "This notebook shows how to use [CDD](https://www.inf.ethz.ch/personal/fukudak/cdd_home/) to compute controlled invariant sets for an hybrid system."
   ]
  },
  {
   "cell_type": "code",
   "execution_count": 24,
   "metadata": {},
   "outputs": [
    {
     "name": "stdout",
     "output_type": "stream",
     "text": [
      "\u001b[32m\u001b[1m Resolving\u001b[22m\u001b[39m package versions...\n",
      "\u001b[32m\u001b[1m Installed\u001b[22m\u001b[39m CDDLib ─ v0.6.0\n",
      "\u001b[32m\u001b[1m  Updating\u001b[22m\u001b[39m `~/.julia/dev/Polyhedra/examples/Project.toml`\n",
      " \u001b[90m [3391f64e]\u001b[39m\u001b[92m + CDDLib v0.6.0\u001b[39m\n",
      "\u001b[32m\u001b[1m  Updating\u001b[22m\u001b[39m `~/.julia/dev/Polyhedra/examples/Manifest.toml`\n",
      " \u001b[90m [3391f64e]\u001b[39m\u001b[92m + CDDLib v0.6.0\u001b[39m\n",
      "\u001b[32m\u001b[1m  Building\u001b[22m\u001b[39m CDDLib → `~/.julia/packages/CDDLib/UOZHh/deps/build.log`\n"
     ]
    }
   ],
   "source": [
    "using Pkg\n",
    "pkg\"add CDDLib\""
   ]
  },
  {
   "cell_type": "code",
   "execution_count": 32,
   "metadata": {},
   "outputs": [
    {
     "data": {
      "text/plain": [
       "iterate! (generic function with 1 method)"
      ]
     },
     "execution_count": 32,
     "metadata": {},
     "output_type": "execute_result"
    }
   ],
   "source": [
    "using MathematicalSystems\n",
    "using Polyhedra\n",
    "function liftu(S, sys::LinearControlDiscreteSystem)\n",
    "    [sys.A sys.B] \\ S\n",
    "end\n",
    "function new_constraint(sys::LinearControlDiscreteSystem, S)\n",
    "    ABset = liftu(S, sys)\n",
    "    project(ABset, 1:statedim(sys))\n",
    "end\n",
    "function add_hrep!(S, h::HalfSpace)\n",
    "    # I was using LP cycling errors when using CDD's LP solver\n",
    "    if issubset(S, h) # If S ⊆ h, then adding h will not change affect S\n",
    "        false\n",
    "    else\n",
    "        intersect!(S, h)\n",
    "        true\n",
    "    end\n",
    "end\n",
    "function add_constraint!(S, P)\n",
    "    added = count(map(h -> add_hrep!(S, h), hyperplanes(P))) + count(map(h -> add_hrep!(S, h), halfspaces(P)))\n",
    "    removehredundancy!(S) # CDD throws LP cycling error\n",
    "    added\n",
    "end\n",
    "function set_iteration!(S, sys::LinearControlDiscreteSystem)\n",
    "    Ps = new_constraint(sys, S)\n",
    "    added = add_constraint!(S, Ps)\n",
    "    @show added\n",
    "end\n",
    "function iterate!(S, sys, nit)\n",
    "    map(i -> (gc(); @elapsed set_iteration!(S, sys)), 1:nit)\n",
    "end"
   ]
  },
  {
   "cell_type": "code",
   "execution_count": 80,
   "metadata": {},
   "outputs": [
    {
     "data": {
      "text/plain": [
       "LinearControlDiscreteSystem{Float64,Array{Float64,2},Array{Float64,2}}([1.0 0.5 0.0; -0.5 1.0 0.5; 0.0 0.0 0.0], [0.0; 0.0; 1.0])"
      ]
     },
     "execution_count": 80,
     "metadata": {},
     "output_type": "execute_result"
    }
   ],
   "source": [
    "using LinearAlgebra\n",
    "Δt = 0.5\n",
    "k = 1.0\n",
    "c = 0.0\n",
    "A = [I zeros(2, 1); zeros(1, 3)] + Δt * [0 1 0; -k -c 1; 0 0 0]\n",
    "B = reshape([0.0, 0.0, 1.0], 3, 1)\n",
    "sys = LinearControlDiscreteSystem(A, B)"
   ]
  },
  {
   "cell_type": "code",
   "execution_count": 66,
   "metadata": {},
   "outputs": [
    {
     "data": {
      "text/plain": [
       "H-representation Polyhedra.Intersection{Float64,Array{Float64,1},Int64}:\n",
       "2-element iterator of HalfSpace{Float64,Array{Float64,1}}:\n",
       " HalfSpace([1.0], 1.0)\n",
       " HalfSpace([-1.0], 1.0)"
      ]
     },
     "execution_count": 66,
     "metadata": {},
     "output_type": "execute_result"
    }
   ],
   "source": [
    "interval = HalfSpace([1.0], 1.0) ∩ HalfSpace([-1.0], 1.0)"
   ]
  },
  {
   "cell_type": "code",
   "execution_count": 67,
   "metadata": {},
   "outputs": [
    {
     "data": {
      "text/plain": [
       "H-representation Polyhedra.Intersection{Float64,Array{Float64,1},Int64}:\n",
       "6-element iterator of HalfSpace{Float64,Array{Float64,1}}:\n",
       " HalfSpace([1.0, 0.0, 0.0], 1.0)\n",
       " HalfSpace([-1.0, 0.0, 0.0], 1.0)\n",
       " HalfSpace([0.0, 1.0, 0.0], 1.0)\n",
       " HalfSpace([0.0, -1.0, 0.0], 1.0)\n",
       " HalfSpace([0.0, 0.0, 1.0], 1.0)\n",
       " HalfSpace([0.0, 0.0, -1.0], 1.0)"
      ]
     },
     "execution_count": 67,
     "metadata": {},
     "output_type": "execute_result"
    }
   ],
   "source": [
    "X = interval * interval * interval"
   ]
  },
  {
   "cell_type": "code",
   "execution_count": 81,
   "metadata": {},
   "outputs": [
    {
     "data": {
      "text/plain": [
       "Polyhedron CDDLib.Polyhedron{Float64}:\n",
       "6-element iterator of HalfSpace{Float64,Array{Float64,1}}:\n",
       " HalfSpace([1.0, 0.0, 0.0], 1.0)\n",
       " HalfSpace([-1.0, 0.0, 0.0], 1.0)\n",
       " HalfSpace([0.0, 1.0, 0.0], 1.0)\n",
       " HalfSpace([0.0, -1.0, 0.0], 1.0)\n",
       " HalfSpace([0.0, 0.0, 1.0], 1.0)\n",
       " HalfSpace([0.0, 0.0, -1.0], 1.0)"
      ]
     },
     "execution_count": 81,
     "metadata": {},
     "output_type": "execute_result"
    }
   ],
   "source": [
    "using CDDLib\n",
    "p = polyhedron(X, CDDLib.Library())"
   ]
  },
  {
   "cell_type": "code",
   "execution_count": 85,
   "metadata": {},
   "outputs": [
    {
     "name": "stdout",
     "output_type": "stream",
     "text": [
      "added = 0\n"
     ]
    },
    {
     "data": {
      "text/plain": [
       "0"
      ]
     },
     "execution_count": 85,
     "metadata": {},
     "output_type": "execute_result"
    }
   ],
   "source": [
    "set_iteration!(p, sys)"
   ]
  },
  {
   "cell_type": "code",
   "execution_count": 89,
   "metadata": {},
   "outputs": [
    {
     "data": {
      "image/svg+xml": [
       "<?xml version=\"1.0\" encoding=\"utf-8\"?>\n",
       "<svg xmlns=\"http://www.w3.org/2000/svg\" xmlns:xlink=\"http://www.w3.org/1999/xlink\" width=\"600\" height=\"400\" viewBox=\"0 0 2400 1600\">\n",
       "<defs>\n",
       "  <clipPath id=\"clip7800\">\n",
       "    <rect x=\"0\" y=\"0\" width=\"2400\" height=\"1600\"/>\n",
       "  </clipPath>\n",
       "</defs>\n",
       "<path clip-path=\"url(#clip7800)\" d=\"\n",
       "M0 1600 L2400 1600 L2400 0 L0 0  Z\n",
       "  \" fill=\"#ffffff\" fill-rule=\"evenodd\" fill-opacity=\"1\"/>\n",
       "<defs>\n",
       "  <clipPath id=\"clip7801\">\n",
       "    <rect x=\"480\" y=\"0\" width=\"1681\" height=\"1600\"/>\n",
       "  </clipPath>\n",
       "</defs>\n",
       "<path clip-path=\"url(#clip7800)\" d=\"\n",
       "M182.008 1487.47 L2352.76 1487.47 L2352.76 47.2441 L182.008 47.2441  Z\n",
       "  \" fill=\"#ffffff\" fill-rule=\"evenodd\" fill-opacity=\"1\"/>\n",
       "<defs>\n",
       "  <clipPath id=\"clip7802\">\n",
       "    <rect x=\"182\" y=\"47\" width=\"2172\" height=\"1441\"/>\n",
       "  </clipPath>\n",
       "</defs>\n",
       "<polyline clip-path=\"url(#clip7802)\" style=\"stroke:#000000; stroke-width:2; stroke-opacity:0.1; fill:none\" points=\"\n",
       "  243.444,1487.47 243.444,47.2441 \n",
       "  \"/>\n",
       "<polyline clip-path=\"url(#clip7802)\" style=\"stroke:#000000; stroke-width:2; stroke-opacity:0.1; fill:none\" points=\"\n",
       "  755.413,1487.47 755.413,47.2441 \n",
       "  \"/>\n",
       "<polyline clip-path=\"url(#clip7802)\" style=\"stroke:#000000; stroke-width:2; stroke-opacity:0.1; fill:none\" points=\"\n",
       "  1267.38,1487.47 1267.38,47.2441 \n",
       "  \"/>\n",
       "<polyline clip-path=\"url(#clip7802)\" style=\"stroke:#000000; stroke-width:2; stroke-opacity:0.1; fill:none\" points=\"\n",
       "  1779.35,1487.47 1779.35,47.2441 \n",
       "  \"/>\n",
       "<polyline clip-path=\"url(#clip7802)\" style=\"stroke:#000000; stroke-width:2; stroke-opacity:0.1; fill:none\" points=\"\n",
       "  2291.32,1487.47 2291.32,47.2441 \n",
       "  \"/>\n",
       "<polyline clip-path=\"url(#clip7802)\" style=\"stroke:#000000; stroke-width:2; stroke-opacity:0.1; fill:none\" points=\"\n",
       "  182.008,1446.71 2352.76,1446.71 \n",
       "  \"/>\n",
       "<polyline clip-path=\"url(#clip7802)\" style=\"stroke:#000000; stroke-width:2; stroke-opacity:0.1; fill:none\" points=\"\n",
       "  182.008,1107.04 2352.76,1107.04 \n",
       "  \"/>\n",
       "<polyline clip-path=\"url(#clip7802)\" style=\"stroke:#000000; stroke-width:2; stroke-opacity:0.1; fill:none\" points=\"\n",
       "  182.008,767.359 2352.76,767.359 \n",
       "  \"/>\n",
       "<polyline clip-path=\"url(#clip7802)\" style=\"stroke:#000000; stroke-width:2; stroke-opacity:0.1; fill:none\" points=\"\n",
       "  182.008,427.682 2352.76,427.682 \n",
       "  \"/>\n",
       "<polyline clip-path=\"url(#clip7802)\" style=\"stroke:#000000; stroke-width:2; stroke-opacity:0.1; fill:none\" points=\"\n",
       "  182.008,88.0053 2352.76,88.0053 \n",
       "  \"/>\n",
       "<polyline clip-path=\"url(#clip7800)\" style=\"stroke:#000000; stroke-width:4; stroke-opacity:1; fill:none\" points=\"\n",
       "  182.008,1487.47 2352.76,1487.47 \n",
       "  \"/>\n",
       "<polyline clip-path=\"url(#clip7800)\" style=\"stroke:#000000; stroke-width:4; stroke-opacity:1; fill:none\" points=\"\n",
       "  182.008,1487.47 182.008,47.2441 \n",
       "  \"/>\n",
       "<polyline clip-path=\"url(#clip7800)\" style=\"stroke:#000000; stroke-width:4; stroke-opacity:1; fill:none\" points=\"\n",
       "  243.444,1487.47 243.444,1470.19 \n",
       "  \"/>\n",
       "<polyline clip-path=\"url(#clip7800)\" style=\"stroke:#000000; stroke-width:4; stroke-opacity:1; fill:none\" points=\"\n",
       "  755.413,1487.47 755.413,1470.19 \n",
       "  \"/>\n",
       "<polyline clip-path=\"url(#clip7800)\" style=\"stroke:#000000; stroke-width:4; stroke-opacity:1; fill:none\" points=\"\n",
       "  1267.38,1487.47 1267.38,1470.19 \n",
       "  \"/>\n",
       "<polyline clip-path=\"url(#clip7800)\" style=\"stroke:#000000; stroke-width:4; stroke-opacity:1; fill:none\" points=\"\n",
       "  1779.35,1487.47 1779.35,1470.19 \n",
       "  \"/>\n",
       "<polyline clip-path=\"url(#clip7800)\" style=\"stroke:#000000; stroke-width:4; stroke-opacity:1; fill:none\" points=\"\n",
       "  2291.32,1487.47 2291.32,1470.19 \n",
       "  \"/>\n",
       "<polyline clip-path=\"url(#clip7800)\" style=\"stroke:#000000; stroke-width:4; stroke-opacity:1; fill:none\" points=\"\n",
       "  182.008,1446.71 208.057,1446.71 \n",
       "  \"/>\n",
       "<polyline clip-path=\"url(#clip7800)\" style=\"stroke:#000000; stroke-width:4; stroke-opacity:1; fill:none\" points=\"\n",
       "  182.008,1107.04 208.057,1107.04 \n",
       "  \"/>\n",
       "<polyline clip-path=\"url(#clip7800)\" style=\"stroke:#000000; stroke-width:4; stroke-opacity:1; fill:none\" points=\"\n",
       "  182.008,767.359 208.057,767.359 \n",
       "  \"/>\n",
       "<polyline clip-path=\"url(#clip7800)\" style=\"stroke:#000000; stroke-width:4; stroke-opacity:1; fill:none\" points=\"\n",
       "  182.008,427.682 208.057,427.682 \n",
       "  \"/>\n",
       "<polyline clip-path=\"url(#clip7800)\" style=\"stroke:#000000; stroke-width:4; stroke-opacity:1; fill:none\" points=\"\n",
       "  182.008,88.0053 208.057,88.0053 \n",
       "  \"/>\n",
       "<g clip-path=\"url(#clip7800)\">\n",
       "<text style=\"fill:#000000; fill-opacity:1; font-family:Arial,Helvetica Neue,Helvetica,sans-serif; font-size:48px; text-anchor:middle;\" transform=\"rotate(0, 243.444, 1541.47)\" x=\"243.444\" y=\"1541.47\">-1.0</text>\n",
       "</g>\n",
       "<g clip-path=\"url(#clip7800)\">\n",
       "<text style=\"fill:#000000; fill-opacity:1; font-family:Arial,Helvetica Neue,Helvetica,sans-serif; font-size:48px; text-anchor:middle;\" transform=\"rotate(0, 755.413, 1541.47)\" x=\"755.413\" y=\"1541.47\">-0.5</text>\n",
       "</g>\n",
       "<g clip-path=\"url(#clip7800)\">\n",
       "<text style=\"fill:#000000; fill-opacity:1; font-family:Arial,Helvetica Neue,Helvetica,sans-serif; font-size:48px; text-anchor:middle;\" transform=\"rotate(0, 1267.38, 1541.47)\" x=\"1267.38\" y=\"1541.47\">0.0</text>\n",
       "</g>\n",
       "<g clip-path=\"url(#clip7800)\">\n",
       "<text style=\"fill:#000000; fill-opacity:1; font-family:Arial,Helvetica Neue,Helvetica,sans-serif; font-size:48px; text-anchor:middle;\" transform=\"rotate(0, 1779.35, 1541.47)\" x=\"1779.35\" y=\"1541.47\">0.5</text>\n",
       "</g>\n",
       "<g clip-path=\"url(#clip7800)\">\n",
       "<text style=\"fill:#000000; fill-opacity:1; font-family:Arial,Helvetica Neue,Helvetica,sans-serif; font-size:48px; text-anchor:middle;\" transform=\"rotate(0, 2291.32, 1541.47)\" x=\"2291.32\" y=\"1541.47\">1.0</text>\n",
       "</g>\n",
       "<g clip-path=\"url(#clip7800)\">\n",
       "<text style=\"fill:#000000; fill-opacity:1; font-family:Arial,Helvetica Neue,Helvetica,sans-serif; font-size:48px; text-anchor:end;\" transform=\"rotate(0, 158.008, 1464.21)\" x=\"158.008\" y=\"1464.21\">-1.0</text>\n",
       "</g>\n",
       "<g clip-path=\"url(#clip7800)\">\n",
       "<text style=\"fill:#000000; fill-opacity:1; font-family:Arial,Helvetica Neue,Helvetica,sans-serif; font-size:48px; text-anchor:end;\" transform=\"rotate(0, 158.008, 1124.54)\" x=\"158.008\" y=\"1124.54\">-0.5</text>\n",
       "</g>\n",
       "<g clip-path=\"url(#clip7800)\">\n",
       "<text style=\"fill:#000000; fill-opacity:1; font-family:Arial,Helvetica Neue,Helvetica,sans-serif; font-size:48px; text-anchor:end;\" transform=\"rotate(0, 158.008, 784.859)\" x=\"158.008\" y=\"784.859\">0.0</text>\n",
       "</g>\n",
       "<g clip-path=\"url(#clip7800)\">\n",
       "<text style=\"fill:#000000; fill-opacity:1; font-family:Arial,Helvetica Neue,Helvetica,sans-serif; font-size:48px; text-anchor:end;\" transform=\"rotate(0, 158.008, 445.182)\" x=\"158.008\" y=\"445.182\">0.5</text>\n",
       "</g>\n",
       "<g clip-path=\"url(#clip7800)\">\n",
       "<text style=\"fill:#000000; fill-opacity:1; font-family:Arial,Helvetica Neue,Helvetica,sans-serif; font-size:48px; text-anchor:end;\" transform=\"rotate(0, 158.008, 105.505)\" x=\"158.008\" y=\"105.505\">1.0</text>\n",
       "</g>\n",
       "<path clip-path=\"url(#clip7802)\" d=\"\n",
       "M243.444 88.0053 L1608.69 88.0053 L1881.74 223.876 L2291.32 767.359 L2291.32 1446.71 L926.069 1446.71 L653.019 1310.84 L243.444 767.359 L243.444 88.0053 L243.444 88.0053 \n",
       "   Z\n",
       "  \" fill=\"#009af9\" fill-rule=\"evenodd\" fill-opacity=\"1\"/>\n",
       "<polyline clip-path=\"url(#clip7802)\" style=\"stroke:#000000; stroke-width:4; stroke-opacity:1; fill:none\" points=\"\n",
       "  243.444,88.0053 1608.69,88.0053 1881.74,223.876 2291.32,767.359 2291.32,1446.71 926.069,1446.71 653.019,1310.84 243.444,767.359 243.444,88.0053 \n",
       "  \n",
       "  \"/>\n",
       "</svg>\n"
      ]
     },
     "execution_count": 89,
     "metadata": {},
     "output_type": "execute_result"
    }
   ],
   "source": [
    "using Plots\n",
    "vrep(p)\n",
    "plot(project(p, [1,2]))"
   ]
  },
  {
   "cell_type": "markdown",
   "metadata": {},
   "source": [
    "We consider the `cruise_control.jl` example of HybridSystems.jl which comes from [this paper](https://dl.acm.org/citation.cfm?id=2461378)."
   ]
  },
  {
   "cell_type": "code",
   "execution_count": null,
   "metadata": {},
   "outputs": [],
   "source": [
    "include(Pkg.dir(\"HybridSystems\", \"examples\", \"cruise_control.jl\"));"
   ]
  },
  {
   "cell_type": "code",
   "execution_count": null,
   "metadata": {
    "collapsed": true
   },
   "outputs": [],
   "source": [
    "const va = 15.6\n",
    "const vb = 24.5\n",
    "const vc = 29.5\n",
    "const v = (va, vb, vc)\n",
    "const U = 4.\n",
    "const m0 = 500\n",
    "const T = 2\n",
    "const N = 10\n",
    "const M = 1\n",
    "const H = 0.8;"
   ]
  },
  {
   "cell_type": "code",
   "execution_count": null,
   "metadata": {},
   "outputs": [],
   "source": [
    "function liftu(S, sys::HybridSystems.DiscreteLinearControlSystem)\n",
    "    [sys.A sys.B] \\ S\n",
    "end\n",
    "function new_constraint(hs, S, q, t)\n",
    "    @assert source(hs, t) == q\n",
    "    σ = symbol(hs, t)\n",
    "    r = target(hs, t)\n",
    "    ABset = liftu(S[1], hs.resetmaps[σ])\n",
    "    project(ABset, 1:statedim(hs, q))\n",
    "end\n",
    "function new_constraints(hs, S, q)\n",
    "    map(t -> new_constraint(hs, S, q, t), out_transitions(hs, q))\n",
    "end\n",
    "function add_hrep!(S, h::HalfSpace)\n",
    "    # I was using LP cycling errors when using CDD's LP solver\n",
    "    if issubset(S, h) # If S ⊆ h, then adding h will not change affect S\n",
    "        false\n",
    "    else\n",
    "        push!(S, SimpleHRepresentation(reshape(h.a, 1, length(h.a)), [h.β]))\n",
    "        true\n",
    "    end\n",
    "end\n",
    "function add_constraint!(S, P)\n",
    "    added = count(map(h -> add_hrep!(S, h), ineqs(P))) + count(map(h -> add_hrep!(S, h), eqs(P)))\n",
    "    removehredundancy!(S) # CDD throws LP cycling error\n",
    "    added\n",
    "end\n",
    "function add_constraints!(S::Polyhedron, Ps::Vector{<:Polyhedron})\n",
    "    sum(P -> add_constraint!(S, P), Ps)\n",
    "end\n",
    "function set_iteration!(hs, S)\n",
    "    Ps = map(q -> new_constraints(hs, S, q), states(hs))\n",
    "    added = add_constraints!.(S, Ps)\n",
    "    @show added\n",
    "end\n",
    "function iterate!(hs, S, nit)\n",
    "    map(i -> (gc(); @elapsed set_iteration!(hs, S)), 1:nit)\n",
    "end"
   ]
  },
  {
   "cell_type": "code",
   "execution_count": null,
   "metadata": {},
   "outputs": [],
   "source": [
    "Mmax = 1\n",
    "nit = 2\n",
    "t = zeros(Mmax, nit)\n",
    "Hs = Vector{HybridSystem}(Mmax)\n",
    "CIS = Vector{Vector{Polyhedron}}(Mmax)\n",
    "for m in 1:Mmax\n",
    "    Hs[m] = cruise_control_example(N, m, vmin = 5., v=(va, vb, vc), U=U, H=H, sym=false, m0=500);\n",
    "    I0 = Hs[m].invariants;\n",
    "    @show nineqs(I0[1])\n",
    "    CIS[m] = deepcopy(I0);\n",
    "    @show m\n",
    "    t[m, :] = iterate!(Hs[m], CIS[m], nit)\n",
    "    @show t[m, :]\n",
    "end\n",
    "t"
   ]
  },
  {
   "cell_type": "code",
   "execution_count": null,
   "metadata": {},
   "outputs": [],
   "source": [
    "Mmax = size(t, 1)\n",
    "nit = 1\n",
    "previt = size(t, 2)\n",
    "t = [t zeros(Mmax, nit)]\n",
    "totit = size(t, 2)\n",
    "for m in 1:Mmax\n",
    "    t[m, previt+(1:nit)] = iterate!(Hs[m], CIS[m], nit)\n",
    "    @show t[m, :]\n",
    "end\n",
    "t"
   ]
  },
  {
   "cell_type": "code",
   "execution_count": null,
   "metadata": {},
   "outputs": [],
   "source": [
    "import Plots\n",
    "Plots.pyplot()"
   ]
  },
  {
   "cell_type": "code",
   "execution_count": null,
   "metadata": {},
   "outputs": [],
   "source": [
    "D = [1, 2]\n",
    "Plots.plot(project(Hs[1].invariants[1], D))\n",
    "Plots.plot!(project(CIS[1][1], D))"
   ]
  },
  {
   "cell_type": "code",
   "execution_count": null,
   "metadata": {
    "collapsed": true
   },
   "outputs": [],
   "source": [
    "Plots.savefig(\"dist_trailerspeed.png\")"
   ]
  },
  {
   "cell_type": "code",
   "execution_count": null,
   "metadata": {
    "collapsed": true
   },
   "outputs": [],
   "source": [
    "t"
   ]
  }
 ],
 "metadata": {
  "@webio": {
   "lastCommId": null,
   "lastKernelId": null
  },
  "kernelspec": {
   "display_name": "Julia 1.3.1",
   "language": "julia",
   "name": "julia-1.3"
  },
  "language_info": {
   "file_extension": ".jl",
   "mimetype": "application/julia",
   "name": "julia",
   "version": "1.3.1"
  }
 },
 "nbformat": 4,
 "nbformat_minor": 2
}
