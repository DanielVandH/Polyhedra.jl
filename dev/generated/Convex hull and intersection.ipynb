{
 "cells": [
  {
   "cell_type": "markdown",
   "source": [
    "These examples illustrate common operations on polyhedra using [Polyhedra.jl](https://github.com/JuliaPolyhedra/Polyhedra.jl):\n",
    "\n",
    "- [Convex hull](#Convex-hull).\n",
    "- [Intersection](#Intersection).\n",
    "\n",
    "We start by choosing a polyhedral library that will be used for computing the H-representation from the V-representation and vice-versa as well as removing redundant points.\n",
    "In these example, we use the default library available in Polyhedra but it can be replaced by any other library listed [here](https://juliapolyhedra.github.io/), e.g. by changing the last two lines below by `import CDDLib` and `lib = CDDLib.Library()` to use [CDDLib](https://github.com/JuliaPolyhedra/CDDLib.jl)."
   ],
   "metadata": {}
  },
  {
   "outputs": [
    {
     "output_type": "execute_result",
     "data": {
      "text/plain": "DefaultLibrary{Float64}(GLPK.Optimizer)"
     },
     "metadata": {},
     "execution_count": 1
    }
   ],
   "cell_type": "code",
   "source": [
    "using Polyhedra\n",
    "import GLPK\n",
    "lib = DefaultLibrary{Float64}(GLPK.Optimizer)"
   ],
   "metadata": {},
   "execution_count": 1
  },
  {
   "cell_type": "markdown",
   "source": [
    "### Convex hull <a name=\"Convex-hull\"></a>\n",
    "\n",
    "The binary convex hull operation between two polyhedra is obtained with the [`convexhull`](https://juliapolyhedra.github.io/Polyhedra.jl/latest/utilities.html#Polyhedra.convexhull) function.\n",
    "\n",
    "Below we compute the convex hull of the union of two polygons from their V-representation."
   ],
   "metadata": {}
  },
  {
   "outputs": [
    {
     "output_type": "execute_result",
     "data": {
      "text/plain": "Polyhedron DefaultPolyhedron{Float64,MixedMatHRep{Float64,Array{Float64,2}},MixedMatVRep{Float64,Array{Float64,2}}}:\n10-element iterator of Array{Float64,1}:\n [-1.9, -1.7]\n [-1.8, 0.5]\n [1.7, 0.7]\n [1.9, -0.3]\n [0.9, -1.1]\n [-2.5, -1.1]\n [-0.8, 0.8]\n [0.1, 0.9]\n [1.8, -1.2]\n [1.3, 0.1]"
     },
     "metadata": {},
     "execution_count": 2
    }
   ],
   "cell_type": "code",
   "source": [
    "P1 = polyhedron(vrep([\n",
    "    -1.9 -1.7\n",
    "    -1.8  0.5\n",
    "     1.7  0.7\n",
    "     1.9 -0.3\n",
    "     0.9 -1.1\n",
    "]), lib)\n",
    "\n",
    "P2 = polyhedron(vrep([\n",
    "    -2.5 -1.1\n",
    "    -0.8  0.8\n",
    "     0.1  0.9\n",
    "     1.8 -1.2\n",
    "     1.3  0.1\n",
    "]), lib)\n",
    "\n",
    "Pch = convexhull(P1, P2)"
   ],
   "metadata": {},
   "execution_count": 2
  },
  {
   "cell_type": "markdown",
   "source": [
    "Note that the convex hull operation is done in the V-representation so no representation conversion is needed for this operation since `P1` and `P2` where constructed from their V-representation:"
   ],
   "metadata": {}
  },
  {
   "outputs": [
    {
     "output_type": "execute_result",
     "data": {
      "text/plain": "(false, false, false)"
     },
     "metadata": {},
     "execution_count": 3
    }
   ],
   "cell_type": "code",
   "source": [
    "hrepiscomputed(P1), hrepiscomputed(P2), hrepiscomputed(Pch)"
   ],
   "metadata": {},
   "execution_count": 3
  },
  {
   "cell_type": "markdown",
   "source": [
    "Let us note that the `convexhull` of a V-representation contains points and rays and represents the convex hull of the points together with the conic hull of the rays. So, `convexhull(P1, P2)` does the union of the vertices:"
   ],
   "metadata": {}
  },
  {
   "outputs": [
    {
     "output_type": "execute_result",
     "data": {
      "text/plain": "10"
     },
     "metadata": {},
     "execution_count": 4
    }
   ],
   "cell_type": "code",
   "source": [
    "npoints(Pch)"
   ],
   "metadata": {},
   "execution_count": 4
  },
  {
   "cell_type": "markdown",
   "source": [
    "However, if we want to remove the redundant points we can use `removevredundancy!`:"
   ],
   "metadata": {}
  },
  {
   "outputs": [
    {
     "output_type": "execute_result",
     "data": {
      "text/plain": "8"
     },
     "metadata": {},
     "execution_count": 5
    }
   ],
   "cell_type": "code",
   "source": [
    "removevredundancy!(Pch)\n",
    "npoints(Pch)"
   ],
   "metadata": {},
   "execution_count": 5
  },
  {
   "cell_type": "markdown",
   "source": [
    "We can plot the polygons and the convex hull of their union using the `plot` function. For further plotting options see the [Plots.jl](http://docs.juliaplots.org/latest/) documentation.\n",
    "We can see below the 8 redundant points highlighted with green dots, the two points that are not highlighted are the redundant ones."
   ],
   "metadata": {}
  },
  {
   "outputs": [
    {
     "output_type": "execute_result",
     "data": {
      "text/plain": "Plot{Plots.GRBackend() n=4}",
      "image/png": "[encoded data removed]",
      "text/html": [
       "<?xml version=\"1.0\" encoding=\"utf-8\"?>\n",
       "<svg xmlns=\"http://www.w3.org/2000/svg\" xmlns:xlink=\"http://www.w3.org/1999/xlink\" width=\"600\" height=\"400\" viewBox=\"0 0 2400 1600\">\n",
       "<defs>\n",
       "  <clipPath id=\"clip510\">\n",
       "    <rect x=\"0\" y=\"0\" width=\"2400\" height=\"1600\"/>\n",
       "  </clipPath>\n",
       "</defs>\n",
       "<path clip-path=\"url(#clip510)\" d=\"\n",
       "M0 1600 L2400 1600 L2400 0 L0 0  Z\n",
       "  \" fill=\"#ffffff\" fill-rule=\"evenodd\" fill-opacity=\"1\"/>\n",
       "<defs>\n",
       "  <clipPath id=\"clip511\">\n",
       "    <rect x=\"480\" y=\"0\" width=\"1681\" height=\"1600\"/>\n",
       "  </clipPath>\n",
       "</defs>\n",
       "<path clip-path=\"url(#clip510)\" d=\"\n",
       "M86.9921 1521.01 L2352.76 1521.01 L2352.76 47.2441 L86.9921 47.2441  Z\n",
       "  \" fill=\"#ffffff\" fill-rule=\"evenodd\" fill-opacity=\"1\"/>\n",
       "<defs>\n",
       "  <clipPath id=\"clip512\">\n",
       "    <rect x=\"86\" y=\"47\" width=\"2267\" height=\"1475\"/>\n",
       "  </clipPath>\n",
       "</defs>\n",
       "<polyline clip-path=\"url(#clip512)\" style=\"stroke:#000000; stroke-width:2; stroke-opacity:0.1; fill:none\" points=\"\n",
       "  394.017,1521.01 394.017,47.2441 \n",
       "  \"/>\n",
       "<polyline clip-path=\"url(#clip512)\" style=\"stroke:#000000; stroke-width:2; stroke-opacity:0.1; fill:none\" points=\"\n",
       "  879.815,1521.01 879.815,47.2441 \n",
       "  \"/>\n",
       "<polyline clip-path=\"url(#clip512)\" style=\"stroke:#000000; stroke-width:2; stroke-opacity:0.1; fill:none\" points=\"\n",
       "  1365.61,1521.01 1365.61,47.2441 \n",
       "  \"/>\n",
       "<polyline clip-path=\"url(#clip512)\" style=\"stroke:#000000; stroke-width:2; stroke-opacity:0.1; fill:none\" points=\"\n",
       "  1851.41,1521.01 1851.41,47.2441 \n",
       "  \"/>\n",
       "<polyline clip-path=\"url(#clip512)\" style=\"stroke:#000000; stroke-width:2; stroke-opacity:0.1; fill:none\" points=\"\n",
       "  2337.21,1521.01 2337.21,47.2441 \n",
       "  \"/>\n",
       "<polyline clip-path=\"url(#clip512)\" style=\"stroke:#000000; stroke-width:2; stroke-opacity:0.1; fill:none\" points=\"\n",
       "  86.9921,1372.35 2352.76,1372.35 \n",
       "  \"/>\n",
       "<polyline clip-path=\"url(#clip512)\" style=\"stroke:#000000; stroke-width:2; stroke-opacity:0.1; fill:none\" points=\"\n",
       "  86.9921,1104.97 2352.76,1104.97 \n",
       "  \"/>\n",
       "<polyline clip-path=\"url(#clip512)\" style=\"stroke:#000000; stroke-width:2; stroke-opacity:0.1; fill:none\" points=\"\n",
       "  86.9921,837.601 2352.76,837.601 \n",
       "  \"/>\n",
       "<polyline clip-path=\"url(#clip512)\" style=\"stroke:#000000; stroke-width:2; stroke-opacity:0.1; fill:none\" points=\"\n",
       "  86.9921,570.227 2352.76,570.227 \n",
       "  \"/>\n",
       "<polyline clip-path=\"url(#clip512)\" style=\"stroke:#000000; stroke-width:2; stroke-opacity:0.1; fill:none\" points=\"\n",
       "  86.9921,302.853 2352.76,302.853 \n",
       "  \"/>\n",
       "<polyline clip-path=\"url(#clip510)\" style=\"stroke:#000000; stroke-width:4; stroke-opacity:1; fill:none\" points=\"\n",
       "  86.9921,1521.01 2352.76,1521.01 \n",
       "  \"/>\n",
       "<polyline clip-path=\"url(#clip510)\" style=\"stroke:#000000; stroke-width:4; stroke-opacity:1; fill:none\" points=\"\n",
       "  86.9921,1521.01 86.9921,47.2441 \n",
       "  \"/>\n",
       "<polyline clip-path=\"url(#clip510)\" style=\"stroke:#000000; stroke-width:4; stroke-opacity:1; fill:none\" points=\"\n",
       "  394.017,1521.01 394.017,1503.32 \n",
       "  \"/>\n",
       "<polyline clip-path=\"url(#clip510)\" style=\"stroke:#000000; stroke-width:4; stroke-opacity:1; fill:none\" points=\"\n",
       "  879.815,1521.01 879.815,1503.32 \n",
       "  \"/>\n",
       "<polyline clip-path=\"url(#clip510)\" style=\"stroke:#000000; stroke-width:4; stroke-opacity:1; fill:none\" points=\"\n",
       "  1365.61,1521.01 1365.61,1503.32 \n",
       "  \"/>\n",
       "<polyline clip-path=\"url(#clip510)\" style=\"stroke:#000000; stroke-width:4; stroke-opacity:1; fill:none\" points=\"\n",
       "  1851.41,1521.01 1851.41,1503.32 \n",
       "  \"/>\n",
       "<polyline clip-path=\"url(#clip510)\" style=\"stroke:#000000; stroke-width:4; stroke-opacity:1; fill:none\" points=\"\n",
       "  2337.21,1521.01 2337.21,1503.32 \n",
       "  \"/>\n",
       "<polyline clip-path=\"url(#clip510)\" style=\"stroke:#000000; stroke-width:4; stroke-opacity:1; fill:none\" points=\"\n",
       "  86.9921,1372.35 114.181,1372.35 \n",
       "  \"/>\n",
       "<polyline clip-path=\"url(#clip510)\" style=\"stroke:#000000; stroke-width:4; stroke-opacity:1; fill:none\" points=\"\n",
       "  86.9921,1104.97 114.181,1104.97 \n",
       "  \"/>\n",
       "<polyline clip-path=\"url(#clip510)\" style=\"stroke:#000000; stroke-width:4; stroke-opacity:1; fill:none\" points=\"\n",
       "  86.9921,837.601 114.181,837.601 \n",
       "  \"/>\n",
       "<polyline clip-path=\"url(#clip510)\" style=\"stroke:#000000; stroke-width:4; stroke-opacity:1; fill:none\" points=\"\n",
       "  86.9921,570.227 114.181,570.227 \n",
       "  \"/>\n",
       "<polyline clip-path=\"url(#clip510)\" style=\"stroke:#000000; stroke-width:4; stroke-opacity:1; fill:none\" points=\"\n",
       "  86.9921,302.853 114.181,302.853 \n",
       "  \"/>\n",
       "<path clip-path=\"url(#clip510)\" d=\"M 0 0 M375.07 1559.6 L387.547 1559.6 L387.547 1563.39 L375.07 1563.39 L375.07 1559.6 Z\" fill=\"#000000\" fill-rule=\"evenodd\" fill-opacity=\"1\" /><path clip-path=\"url(#clip510)\" d=\"M 0 0 M396.644 1570.54 L412.963 1570.54 L412.963 1574.48 L391.019 1574.48 L391.019 1570.54 Q393.681 1567.79 398.264 1563.16 Q402.871 1558.51 404.051 1557.17 Q406.297 1554.64 407.176 1552.91 Q408.079 1551.15 408.079 1549.46 Q408.079 1546.7 406.135 1544.97 Q404.213 1543.23 401.112 1543.23 Q398.913 1543.23 396.459 1543.99 Q394.028 1544.76 391.251 1546.31 L391.251 1541.59 Q394.075 1540.45 396.528 1539.87 Q398.982 1539.29 401.019 1539.29 Q406.389 1539.29 409.584 1541.98 Q412.778 1544.67 412.778 1549.16 Q412.778 1551.29 411.968 1553.21 Q411.181 1555.1 409.075 1557.7 Q408.496 1558.37 405.394 1561.59 Q402.292 1564.78 396.644 1570.54 Z\" fill=\"#000000\" fill-rule=\"evenodd\" fill-opacity=\"1\" /><path clip-path=\"url(#clip510)\" d=\"M 0 0 M860.683 1559.6 L873.16 1559.6 L873.16 1563.39 L860.683 1563.39 L860.683 1559.6 Z\" fill=\"#000000\" fill-rule=\"evenodd\" fill-opacity=\"1\" /><path clip-path=\"url(#clip510)\" d=\"M 0 0 M879.04 1570.54 L886.679 1570.54 L886.679 1544.18 L878.368 1545.85 L878.368 1541.59 L886.632 1539.92 L891.308 1539.92 L891.308 1570.54 L898.947 1570.54 L898.947 1574.48 L879.04 1574.48 L879.04 1570.54 Z\" fill=\"#000000\" fill-rule=\"evenodd\" fill-opacity=\"1\" /><path clip-path=\"url(#clip510)\" d=\"M 0 0 M1365.61 1543 Q1362 1543 1360.17 1546.56 Q1358.37 1550.11 1358.37 1557.23 Q1358.37 1564.34 1360.17 1567.91 Q1362 1571.45 1365.61 1571.45 Q1369.25 1571.45 1371.05 1567.91 Q1372.88 1564.34 1372.88 1557.23 Q1372.88 1550.11 1371.05 1546.56 Q1369.25 1543 1365.61 1543 M1365.61 1539.29 Q1371.42 1539.29 1374.48 1543.9 Q1377.56 1548.48 1377.56 1557.23 Q1377.56 1565.96 1374.48 1570.57 Q1371.42 1575.15 1365.61 1575.15 Q1359.8 1575.15 1356.72 1570.57 Q1353.67 1565.96 1353.67 1557.23 Q1353.67 1548.48 1356.72 1543.9 Q1359.8 1539.29 1365.61 1539.29 Z\" fill=\"#000000\" fill-rule=\"evenodd\" fill-opacity=\"1\" /><path clip-path=\"url(#clip510)\" d=\"M 0 0 M1841.79 1570.54 L1849.43 1570.54 L1849.43 1544.18 L1841.12 1545.85 L1841.12 1541.59 L1849.39 1539.92 L1854.06 1539.92 L1854.06 1570.54 L1861.7 1570.54 L1861.7 1574.48 L1841.79 1574.48 L1841.79 1570.54 Z\" fill=\"#000000\" fill-rule=\"evenodd\" fill-opacity=\"1\" /><path clip-path=\"url(#clip510)\" d=\"M 0 0 M2331.86 1570.54 L2348.18 1570.54 L2348.18 1574.48 L2326.24 1574.48 L2326.24 1570.54 Q2328.9 1567.79 2333.48 1563.16 Q2338.09 1558.51 2339.27 1557.17 Q2341.52 1554.64 2342.4 1552.91 Q2343.3 1551.15 2343.3 1549.46 Q2343.3 1546.7 2341.35 1544.97 Q2339.43 1543.23 2336.33 1543.23 Q2334.13 1543.23 2331.68 1543.99 Q2329.25 1544.76 2326.47 1546.31 L2326.47 1541.59 Q2329.29 1540.45 2331.75 1539.87 Q2334.2 1539.29 2336.24 1539.29 Q2341.61 1539.29 2344.8 1541.98 Q2348 1544.67 2348 1549.16 Q2348 1551.29 2347.19 1553.21 Q2346.4 1555.1 2344.29 1557.7 Q2343.71 1558.37 2340.61 1561.59 Q2337.51 1564.78 2331.86 1570.54 Z\" fill=\"#000000\" fill-rule=\"evenodd\" fill-opacity=\"1\" /><path clip-path=\"url(#clip510)\" d=\"M 0 0 M-11.2436 1374.74 L1.2332 1374.74 L1.2332 1378.54 L-11.2436 1378.54 L-11.2436 1374.74 Z\" fill=\"#000000\" fill-rule=\"evenodd\" fill-opacity=\"1\" /><path clip-path=\"url(#clip510)\" d=\"M 0 0 M7.1128 1385.69 L14.7516 1385.69 L14.7516 1359.33 L6.4415 1360.99 L6.4415 1356.73 L14.7053 1355.07 L19.3812 1355.07 L19.3812 1385.69 L27.0201 1385.69 L27.0201 1389.63 L7.1128 1389.63 L7.1128 1385.69 Z\" fill=\"#000000\" fill-rule=\"evenodd\" fill-opacity=\"1\" /><path clip-path=\"url(#clip510)\" d=\"M 0 0 M32.0895 1383.75 L36.9737 1383.75 L36.9737 1389.63 L32.0895 1389.63 L32.0895 1383.75 Z\" fill=\"#000000\" fill-rule=\"evenodd\" fill-opacity=\"1\" /><path clip-path=\"url(#clip510)\" d=\"M 0 0 M42.0895 1355.07 L60.4458 1355.07 L60.4458 1359 L46.3718 1359 L46.3718 1367.48 Q47.3904 1367.13 48.4089 1366.97 Q49.4274 1366.78 50.4459 1366.78 Q56.2329 1366.78 59.6125 1369.95 Q62.9921 1373.12 62.9921 1378.54 Q62.9921 1384.12 59.5199 1387.22 Q56.0477 1390.3 49.7283 1390.3 Q47.5524 1390.3 45.2839 1389.93 Q43.0385 1389.56 40.6311 1388.82 L40.6311 1384.12 Q42.7145 1385.25 44.9367 1385.81 Q47.1589 1386.36 49.6357 1386.36 Q53.6403 1386.36 55.9783 1384.26 Q58.3162 1382.15 58.3162 1378.54 Q58.3162 1374.93 55.9783 1372.82 Q53.6403 1370.72 49.6357 1370.72 Q47.7607 1370.72 45.8857 1371.13 Q44.0339 1371.55 42.0895 1372.43 L42.0895 1355.07 Z\" fill=\"#000000\" fill-rule=\"evenodd\" fill-opacity=\"1\" /><path clip-path=\"url(#clip510)\" d=\"M 0 0 M-12.239 1107.37 L0.237833 1107.37 L0.237833 1111.17 L-12.239 1111.17 L-12.239 1107.37 Z\" fill=\"#000000\" fill-rule=\"evenodd\" fill-opacity=\"1\" /><path clip-path=\"url(#clip510)\" d=\"M 0 0 M6.11743 1118.32 L13.7563 1118.32 L13.7563 1091.95 L5.44614 1093.62 L5.44614 1089.36 L13.71 1087.69 L18.3859 1087.69 L18.3859 1118.32 L26.0247 1118.32 L26.0247 1122.25 L6.11743 1122.25 L6.11743 1118.32 Z\" fill=\"#000000\" fill-rule=\"evenodd\" fill-opacity=\"1\" /><path clip-path=\"url(#clip510)\" d=\"M 0 0 M31.0941 1116.37 L35.9784 1116.37 L35.9784 1122.25 L31.0941 1122.25 L31.0941 1116.37 Z\" fill=\"#000000\" fill-rule=\"evenodd\" fill-opacity=\"1\" /><path clip-path=\"url(#clip510)\" d=\"M 0 0 M51.0477 1090.77 Q47.4367 1090.77 45.608 1094.34 Q43.8024 1097.88 43.8024 1105.01 Q43.8024 1112.12 45.608 1115.68 Q47.4367 1119.22 51.0477 1119.22 Q54.682 1119.22 56.4875 1115.68 Q58.3162 1112.12 58.3162 1105.01 Q58.3162 1097.88 56.4875 1094.34 Q54.682 1090.77 51.0477 1090.77 M51.0477 1087.07 Q56.8579 1087.07 59.9134 1091.68 Q62.9921 1096.26 62.9921 1105.01 Q62.9921 1113.74 59.9134 1118.34 Q56.8579 1122.93 51.0477 1122.93 Q45.2376 1122.93 42.1589 1118.34 Q39.1034 1113.74 39.1034 1105.01 Q39.1034 1096.26 42.1589 1091.68 Q45.2376 1087.07 51.0477 1087.07 Z\" fill=\"#000000\" fill-rule=\"evenodd\" fill-opacity=\"1\" /><path clip-path=\"url(#clip510)\" d=\"M 0 0 M-12.4704 839.997 L0.00635237 839.997 L0.00635237 843.793 L-12.4704 843.793 L-12.4704 839.997 Z\" fill=\"#000000\" fill-rule=\"evenodd\" fill-opacity=\"1\" /><path clip-path=\"url(#clip510)\" d=\"M 0 0 M15.0757 823.399 Q11.4646 823.399 9.63593 826.964 Q7.83038 830.506 7.83038 837.635 Q7.83038 844.742 9.63593 848.307 Q11.4646 851.848 15.0757 851.848 Q18.71 851.848 20.5155 848.307 Q22.3442 844.742 22.3442 837.635 Q22.3442 830.506 20.5155 826.964 Q18.71 823.399 15.0757 823.399 M15.0757 819.696 Q20.8859 819.696 23.9414 824.302 Q27.0201 828.885 27.0201 837.635 Q27.0201 846.362 23.9414 850.969 Q20.8859 855.552 15.0757 855.552 Q9.26556 855.552 6.18687 850.969 Q3.13134 846.362 3.13134 837.635 Q3.13134 828.885 6.18687 824.302 Q9.26556 819.696 15.0757 819.696 Z\" fill=\"#000000\" fill-rule=\"evenodd\" fill-opacity=\"1\" /><path clip-path=\"url(#clip510)\" d=\"M 0 0 M32.0895 849.001 L36.9737 849.001 L36.9737 854.881 L32.0895 854.881 L32.0895 849.001 Z\" fill=\"#000000\" fill-rule=\"evenodd\" fill-opacity=\"1\" /><path clip-path=\"url(#clip510)\" d=\"M 0 0 M42.0895 820.321 L60.4458 820.321 L60.4458 824.256 L46.3718 824.256 L46.3718 832.728 Q47.3904 832.381 48.4089 832.219 Q49.4274 832.034 50.4459 832.034 Q56.2329 832.034 59.6125 835.205 Q62.9921 838.376 62.9921 843.793 Q62.9921 849.371 59.5199 852.473 Q56.0477 855.552 49.7283 855.552 Q47.5524 855.552 45.2839 855.182 Q43.0385 854.811 40.6311 854.071 L40.6311 849.371 Q42.7145 850.506 44.9367 851.061 Q47.1589 851.617 49.6357 851.617 Q53.6403 851.617 55.9783 849.51 Q58.3162 847.404 58.3162 843.793 Q58.3162 840.182 55.9783 838.075 Q53.6403 835.969 49.6357 835.969 Q47.7607 835.969 45.8857 836.385 Q44.0339 836.802 42.0895 837.682 L42.0895 820.321 Z\" fill=\"#000000\" fill-rule=\"evenodd\" fill-opacity=\"1\" /><path clip-path=\"url(#clip510)\" d=\"M 0 0 M14.0804 556.026 Q10.4693 556.026 8.64057 559.591 Q6.83502 563.132 6.83502 570.262 Q6.83502 577.368 8.64057 580.933 Q10.4693 584.475 14.0804 584.475 Q17.7146 584.475 19.5201 580.933 Q21.3488 577.368 21.3488 570.262 Q21.3488 563.132 19.5201 559.591 Q17.7146 556.026 14.0804 556.026 M14.0804 552.322 Q19.8905 552.322 22.946 556.928 Q26.0247 561.512 26.0247 570.262 Q26.0247 578.989 22.946 583.595 Q19.8905 588.178 14.0804 588.178 Q8.2702 588.178 5.19151 583.595 Q2.13597 578.989 2.13597 570.262 Q2.13597 561.512 5.19151 556.928 Q8.2702 552.322 14.0804 552.322 Z\" fill=\"#000000\" fill-rule=\"evenodd\" fill-opacity=\"1\" /><path clip-path=\"url(#clip510)\" d=\"M 0 0 M31.0941 581.627 L35.9784 581.627 L35.9784 587.507 L31.0941 587.507 L31.0941 581.627 Z\" fill=\"#000000\" fill-rule=\"evenodd\" fill-opacity=\"1\" /><path clip-path=\"url(#clip510)\" d=\"M 0 0 M51.0477 556.026 Q47.4367 556.026 45.608 559.591 Q43.8024 563.132 43.8024 570.262 Q43.8024 577.368 45.608 580.933 Q47.4367 584.475 51.0477 584.475 Q54.682 584.475 56.4875 580.933 Q58.3162 577.368 58.3162 570.262 Q58.3162 563.132 56.4875 559.591 Q54.682 556.026 51.0477 556.026 M51.0477 552.322 Q56.8579 552.322 59.9134 556.928 Q62.9921 561.512 62.9921 570.262 Q62.9921 578.989 59.9134 583.595 Q56.8579 588.178 51.0477 588.178 Q45.2376 588.178 42.1589 583.595 Q39.1034 578.989 39.1034 570.262 Q39.1034 561.512 42.1589 556.928 Q45.2376 552.322 51.0477 552.322 Z\" fill=\"#000000\" fill-rule=\"evenodd\" fill-opacity=\"1\" /><path clip-path=\"url(#clip510)\" d=\"M 0 0 M15.0757 288.652 Q11.4646 288.652 9.63593 292.217 Q7.83038 295.758 7.83038 302.888 Q7.83038 309.995 9.63593 313.559 Q11.4646 317.101 15.0757 317.101 Q18.71 317.101 20.5155 313.559 Q22.3442 309.995 22.3442 302.888 Q22.3442 295.758 20.5155 292.217 Q18.71 288.652 15.0757 288.652 M15.0757 284.948 Q20.8859 284.948 23.9414 289.555 Q27.0201 294.138 27.0201 302.888 Q27.0201 311.615 23.9414 316.221 Q20.8859 320.805 15.0757 320.805 Q9.26556 320.805 6.18687 316.221 Q3.13134 311.615 3.13134 302.888 Q3.13134 294.138 6.18687 289.555 Q9.26556 284.948 15.0757 284.948 Z\" fill=\"#000000\" fill-rule=\"evenodd\" fill-opacity=\"1\" /><path clip-path=\"url(#clip510)\" d=\"M 0 0 M32.0895 314.254 L36.9737 314.254 L36.9737 320.133 L32.0895 320.133 L32.0895 314.254 Z\" fill=\"#000000\" fill-rule=\"evenodd\" fill-opacity=\"1\" /><path clip-path=\"url(#clip510)\" d=\"M 0 0 M42.0895 285.573 L60.4458 285.573 L60.4458 289.509 L46.3718 289.509 L46.3718 297.981 Q47.3904 297.633 48.4089 297.471 Q49.4274 297.286 50.4459 297.286 Q56.2329 297.286 59.6125 300.458 Q62.9921 303.629 62.9921 309.045 Q62.9921 314.624 59.5199 317.726 Q56.0477 320.805 49.7283 320.805 Q47.5524 320.805 45.2839 320.434 Q43.0385 320.064 40.6311 319.323 L40.6311 314.624 Q42.7145 315.758 44.9367 316.314 Q47.1589 316.869 49.6357 316.869 Q53.6403 316.869 55.9783 314.763 Q58.3162 312.657 58.3162 309.045 Q58.3162 305.434 55.9783 303.328 Q53.6403 301.221 49.6357 301.221 Q47.7607 301.221 45.8857 301.638 Q44.0339 302.055 42.0895 302.934 L42.0895 285.573 Z\" fill=\"#000000\" fill-rule=\"evenodd\" fill-opacity=\"1\" /><path clip-path=\"url(#clip512)\" d=\"\n",
       "M442.597 1479.3 L491.176 302.853 L2191.47 195.904 L2288.63 730.651 L1802.83 1158.45 L442.597 1479.3 L442.597 1479.3  Z\n",
       "  \" fill=\"#0000ff\" fill-rule=\"evenodd\" fill-opacity=\"0.2\"/>\n",
       "<polyline clip-path=\"url(#clip512)\" style=\"stroke:#000000; stroke-width:4; stroke-opacity:0.2; fill:none\" points=\"\n",
       "  442.597,1479.3 491.176,302.853 2191.47,195.904 2288.63,730.651 1802.83,1158.45 442.597,1479.3 \n",
       "  \"/>\n",
       "<path clip-path=\"url(#clip512)\" d=\"\n",
       "M151.118 1158.45 L976.975 142.429 L1414.19 88.9544 L1997.15 516.752 L2240.05 1211.92 L151.118 1158.45 L151.118 1158.45  Z\n",
       "  \" fill=\"#ff0000\" fill-rule=\"evenodd\" fill-opacity=\"0.2\"/>\n",
       "<polyline clip-path=\"url(#clip512)\" style=\"stroke:#000000; stroke-width:4; stroke-opacity:0.2; fill:none\" points=\"\n",
       "  151.118,1158.45 976.975,142.429 1414.19,88.9544 1997.15,516.752 2240.05,1211.92 151.118,1158.45 \n",
       "  \"/>\n",
       "<path clip-path=\"url(#clip512)\" d=\"\n",
       "M151.118 1158.45 L491.176 302.853 L976.975 142.429 L1414.19 88.9544 L2191.47 195.904 L2288.63 730.651 L2240.05 1211.92 L442.597 1479.3 L151.118 1158.45 L151.118 1158.45 \n",
       "   Z\n",
       "  \" fill=\"#008000\" fill-rule=\"evenodd\" fill-opacity=\"0.1\"/>\n",
       "<polyline clip-path=\"url(#clip512)\" style=\"stroke:#000000; stroke-width:4; stroke-opacity:0.1; fill:none\" points=\"\n",
       "  151.118,1158.45 491.176,302.853 976.975,142.429 1414.19,88.9544 2191.47,195.904 2288.63,730.651 2240.05,1211.92 442.597,1479.3 151.118,1158.45 \n",
       "  \n",
       "  \"/>\n",
       "<circle clip-path=\"url(#clip512)\" cx=\"151.118\" cy=\"1158.45\" r=\"14\" fill=\"#008000\" fill-rule=\"evenodd\" fill-opacity=\"1\" stroke=\"#000000\" stroke-opacity=\"1\" stroke-width=\"3.2\"/>\n",
       "<circle clip-path=\"url(#clip512)\" cx=\"491.176\" cy=\"302.853\" r=\"14\" fill=\"#008000\" fill-rule=\"evenodd\" fill-opacity=\"1\" stroke=\"#000000\" stroke-opacity=\"1\" stroke-width=\"3.2\"/>\n",
       "<circle clip-path=\"url(#clip512)\" cx=\"976.975\" cy=\"142.429\" r=\"14\" fill=\"#008000\" fill-rule=\"evenodd\" fill-opacity=\"1\" stroke=\"#000000\" stroke-opacity=\"1\" stroke-width=\"3.2\"/>\n",
       "<circle clip-path=\"url(#clip512)\" cx=\"1414.19\" cy=\"88.9544\" r=\"14\" fill=\"#008000\" fill-rule=\"evenodd\" fill-opacity=\"1\" stroke=\"#000000\" stroke-opacity=\"1\" stroke-width=\"3.2\"/>\n",
       "<circle clip-path=\"url(#clip512)\" cx=\"2191.47\" cy=\"195.904\" r=\"14\" fill=\"#008000\" fill-rule=\"evenodd\" fill-opacity=\"1\" stroke=\"#000000\" stroke-opacity=\"1\" stroke-width=\"3.2\"/>\n",
       "<circle clip-path=\"url(#clip512)\" cx=\"2288.63\" cy=\"730.651\" r=\"14\" fill=\"#008000\" fill-rule=\"evenodd\" fill-opacity=\"1\" stroke=\"#000000\" stroke-opacity=\"1\" stroke-width=\"3.2\"/>\n",
       "<circle clip-path=\"url(#clip512)\" cx=\"2240.05\" cy=\"1211.92\" r=\"14\" fill=\"#008000\" fill-rule=\"evenodd\" fill-opacity=\"1\" stroke=\"#000000\" stroke-opacity=\"1\" stroke-width=\"3.2\"/>\n",
       "<circle clip-path=\"url(#clip512)\" cx=\"442.597\" cy=\"1479.3\" r=\"14\" fill=\"#008000\" fill-rule=\"evenodd\" fill-opacity=\"1\" stroke=\"#000000\" stroke-opacity=\"1\" stroke-width=\"3.2\"/>\n",
       "<circle clip-path=\"url(#clip512)\" cx=\"151.118\" cy=\"1158.45\" r=\"14\" fill=\"#008000\" fill-rule=\"evenodd\" fill-opacity=\"1\" stroke=\"#000000\" stroke-opacity=\"1\" stroke-width=\"3.2\"/>\n",
       "</svg>\n"
      ],
      "image/svg+xml": [
       "<?xml version=\"1.0\" encoding=\"utf-8\"?>\n",
       "<svg xmlns=\"http://www.w3.org/2000/svg\" xmlns:xlink=\"http://www.w3.org/1999/xlink\" width=\"600\" height=\"400\" viewBox=\"0 0 2400 1600\">\n",
       "<defs>\n",
       "  <clipPath id=\"clip480\">\n",
       "    <rect x=\"0\" y=\"0\" width=\"2400\" height=\"1600\"/>\n",
       "  </clipPath>\n",
       "</defs>\n",
       "<path clip-path=\"url(#clip480)\" d=\"\n",
       "M0 1600 L2400 1600 L2400 0 L0 0  Z\n",
       "  \" fill=\"#ffffff\" fill-rule=\"evenodd\" fill-opacity=\"1\"/>\n",
       "<defs>\n",
       "  <clipPath id=\"clip481\">\n",
       "    <rect x=\"480\" y=\"0\" width=\"1681\" height=\"1600\"/>\n",
       "  </clipPath>\n",
       "</defs>\n",
       "<path clip-path=\"url(#clip480)\" d=\"\n",
       "M86.9921 1521.01 L2352.76 1521.01 L2352.76 47.2441 L86.9921 47.2441  Z\n",
       "  \" fill=\"#ffffff\" fill-rule=\"evenodd\" fill-opacity=\"1\"/>\n",
       "<defs>\n",
       "  <clipPath id=\"clip482\">\n",
       "    <rect x=\"86\" y=\"47\" width=\"2267\" height=\"1475\"/>\n",
       "  </clipPath>\n",
       "</defs>\n",
       "<polyline clip-path=\"url(#clip482)\" style=\"stroke:#000000; stroke-width:2; stroke-opacity:0.1; fill:none\" points=\"\n",
       "  394.017,1521.01 394.017,47.2441 \n",
       "  \"/>\n",
       "<polyline clip-path=\"url(#clip482)\" style=\"stroke:#000000; stroke-width:2; stroke-opacity:0.1; fill:none\" points=\"\n",
       "  879.815,1521.01 879.815,47.2441 \n",
       "  \"/>\n",
       "<polyline clip-path=\"url(#clip482)\" style=\"stroke:#000000; stroke-width:2; stroke-opacity:0.1; fill:none\" points=\"\n",
       "  1365.61,1521.01 1365.61,47.2441 \n",
       "  \"/>\n",
       "<polyline clip-path=\"url(#clip482)\" style=\"stroke:#000000; stroke-width:2; stroke-opacity:0.1; fill:none\" points=\"\n",
       "  1851.41,1521.01 1851.41,47.2441 \n",
       "  \"/>\n",
       "<polyline clip-path=\"url(#clip482)\" style=\"stroke:#000000; stroke-width:2; stroke-opacity:0.1; fill:none\" points=\"\n",
       "  2337.21,1521.01 2337.21,47.2441 \n",
       "  \"/>\n",
       "<polyline clip-path=\"url(#clip482)\" style=\"stroke:#000000; stroke-width:2; stroke-opacity:0.1; fill:none\" points=\"\n",
       "  86.9921,1372.35 2352.76,1372.35 \n",
       "  \"/>\n",
       "<polyline clip-path=\"url(#clip482)\" style=\"stroke:#000000; stroke-width:2; stroke-opacity:0.1; fill:none\" points=\"\n",
       "  86.9921,1104.97 2352.76,1104.97 \n",
       "  \"/>\n",
       "<polyline clip-path=\"url(#clip482)\" style=\"stroke:#000000; stroke-width:2; stroke-opacity:0.1; fill:none\" points=\"\n",
       "  86.9921,837.601 2352.76,837.601 \n",
       "  \"/>\n",
       "<polyline clip-path=\"url(#clip482)\" style=\"stroke:#000000; stroke-width:2; stroke-opacity:0.1; fill:none\" points=\"\n",
       "  86.9921,570.227 2352.76,570.227 \n",
       "  \"/>\n",
       "<polyline clip-path=\"url(#clip482)\" style=\"stroke:#000000; stroke-width:2; stroke-opacity:0.1; fill:none\" points=\"\n",
       "  86.9921,302.853 2352.76,302.853 \n",
       "  \"/>\n",
       "<polyline clip-path=\"url(#clip480)\" style=\"stroke:#000000; stroke-width:4; stroke-opacity:1; fill:none\" points=\"\n",
       "  86.9921,1521.01 2352.76,1521.01 \n",
       "  \"/>\n",
       "<polyline clip-path=\"url(#clip480)\" style=\"stroke:#000000; stroke-width:4; stroke-opacity:1; fill:none\" points=\"\n",
       "  86.9921,1521.01 86.9921,47.2441 \n",
       "  \"/>\n",
       "<polyline clip-path=\"url(#clip480)\" style=\"stroke:#000000; stroke-width:4; stroke-opacity:1; fill:none\" points=\"\n",
       "  394.017,1521.01 394.017,1503.32 \n",
       "  \"/>\n",
       "<polyline clip-path=\"url(#clip480)\" style=\"stroke:#000000; stroke-width:4; stroke-opacity:1; fill:none\" points=\"\n",
       "  879.815,1521.01 879.815,1503.32 \n",
       "  \"/>\n",
       "<polyline clip-path=\"url(#clip480)\" style=\"stroke:#000000; stroke-width:4; stroke-opacity:1; fill:none\" points=\"\n",
       "  1365.61,1521.01 1365.61,1503.32 \n",
       "  \"/>\n",
       "<polyline clip-path=\"url(#clip480)\" style=\"stroke:#000000; stroke-width:4; stroke-opacity:1; fill:none\" points=\"\n",
       "  1851.41,1521.01 1851.41,1503.32 \n",
       "  \"/>\n",
       "<polyline clip-path=\"url(#clip480)\" style=\"stroke:#000000; stroke-width:4; stroke-opacity:1; fill:none\" points=\"\n",
       "  2337.21,1521.01 2337.21,1503.32 \n",
       "  \"/>\n",
       "<polyline clip-path=\"url(#clip480)\" style=\"stroke:#000000; stroke-width:4; stroke-opacity:1; fill:none\" points=\"\n",
       "  86.9921,1372.35 114.181,1372.35 \n",
       "  \"/>\n",
       "<polyline clip-path=\"url(#clip480)\" style=\"stroke:#000000; stroke-width:4; stroke-opacity:1; fill:none\" points=\"\n",
       "  86.9921,1104.97 114.181,1104.97 \n",
       "  \"/>\n",
       "<polyline clip-path=\"url(#clip480)\" style=\"stroke:#000000; stroke-width:4; stroke-opacity:1; fill:none\" points=\"\n",
       "  86.9921,837.601 114.181,837.601 \n",
       "  \"/>\n",
       "<polyline clip-path=\"url(#clip480)\" style=\"stroke:#000000; stroke-width:4; stroke-opacity:1; fill:none\" points=\"\n",
       "  86.9921,570.227 114.181,570.227 \n",
       "  \"/>\n",
       "<polyline clip-path=\"url(#clip480)\" style=\"stroke:#000000; stroke-width:4; stroke-opacity:1; fill:none\" points=\"\n",
       "  86.9921,302.853 114.181,302.853 \n",
       "  \"/>\n",
       "<path clip-path=\"url(#clip480)\" d=\"M 0 0 M375.07 1559.6 L387.547 1559.6 L387.547 1563.39 L375.07 1563.39 L375.07 1559.6 Z\" fill=\"#000000\" fill-rule=\"evenodd\" fill-opacity=\"1\" /><path clip-path=\"url(#clip480)\" d=\"M 0 0 M396.644 1570.54 L412.963 1570.54 L412.963 1574.48 L391.019 1574.48 L391.019 1570.54 Q393.681 1567.79 398.264 1563.16 Q402.871 1558.51 404.051 1557.17 Q406.297 1554.64 407.176 1552.91 Q408.079 1551.15 408.079 1549.46 Q408.079 1546.7 406.135 1544.97 Q404.213 1543.23 401.112 1543.23 Q398.913 1543.23 396.459 1543.99 Q394.028 1544.76 391.251 1546.31 L391.251 1541.59 Q394.075 1540.45 396.528 1539.87 Q398.982 1539.29 401.019 1539.29 Q406.389 1539.29 409.584 1541.98 Q412.778 1544.67 412.778 1549.16 Q412.778 1551.29 411.968 1553.21 Q411.181 1555.1 409.075 1557.7 Q408.496 1558.37 405.394 1561.59 Q402.292 1564.78 396.644 1570.54 Z\" fill=\"#000000\" fill-rule=\"evenodd\" fill-opacity=\"1\" /><path clip-path=\"url(#clip480)\" d=\"M 0 0 M860.683 1559.6 L873.16 1559.6 L873.16 1563.39 L860.683 1563.39 L860.683 1559.6 Z\" fill=\"#000000\" fill-rule=\"evenodd\" fill-opacity=\"1\" /><path clip-path=\"url(#clip480)\" d=\"M 0 0 M879.04 1570.54 L886.679 1570.54 L886.679 1544.18 L878.368 1545.85 L878.368 1541.59 L886.632 1539.92 L891.308 1539.92 L891.308 1570.54 L898.947 1570.54 L898.947 1574.48 L879.04 1574.48 L879.04 1570.54 Z\" fill=\"#000000\" fill-rule=\"evenodd\" fill-opacity=\"1\" /><path clip-path=\"url(#clip480)\" d=\"M 0 0 M1365.61 1543 Q1362 1543 1360.17 1546.56 Q1358.37 1550.11 1358.37 1557.23 Q1358.37 1564.34 1360.17 1567.91 Q1362 1571.45 1365.61 1571.45 Q1369.25 1571.45 1371.05 1567.91 Q1372.88 1564.34 1372.88 1557.23 Q1372.88 1550.11 1371.05 1546.56 Q1369.25 1543 1365.61 1543 M1365.61 1539.29 Q1371.42 1539.29 1374.48 1543.9 Q1377.56 1548.48 1377.56 1557.23 Q1377.56 1565.96 1374.48 1570.57 Q1371.42 1575.15 1365.61 1575.15 Q1359.8 1575.15 1356.72 1570.57 Q1353.67 1565.96 1353.67 1557.23 Q1353.67 1548.48 1356.72 1543.9 Q1359.8 1539.29 1365.61 1539.29 Z\" fill=\"#000000\" fill-rule=\"evenodd\" fill-opacity=\"1\" /><path clip-path=\"url(#clip480)\" d=\"M 0 0 M1841.79 1570.54 L1849.43 1570.54 L1849.43 1544.18 L1841.12 1545.85 L1841.12 1541.59 L1849.39 1539.92 L1854.06 1539.92 L1854.06 1570.54 L1861.7 1570.54 L1861.7 1574.48 L1841.79 1574.48 L1841.79 1570.54 Z\" fill=\"#000000\" fill-rule=\"evenodd\" fill-opacity=\"1\" /><path clip-path=\"url(#clip480)\" d=\"M 0 0 M2331.86 1570.54 L2348.18 1570.54 L2348.18 1574.48 L2326.24 1574.48 L2326.24 1570.54 Q2328.9 1567.79 2333.48 1563.16 Q2338.09 1558.51 2339.27 1557.17 Q2341.52 1554.64 2342.4 1552.91 Q2343.3 1551.15 2343.3 1549.46 Q2343.3 1546.7 2341.35 1544.97 Q2339.43 1543.23 2336.33 1543.23 Q2334.13 1543.23 2331.68 1543.99 Q2329.25 1544.76 2326.47 1546.31 L2326.47 1541.59 Q2329.29 1540.45 2331.75 1539.87 Q2334.2 1539.29 2336.24 1539.29 Q2341.61 1539.29 2344.8 1541.98 Q2348 1544.67 2348 1549.16 Q2348 1551.29 2347.19 1553.21 Q2346.4 1555.1 2344.29 1557.7 Q2343.71 1558.37 2340.61 1561.59 Q2337.51 1564.78 2331.86 1570.54 Z\" fill=\"#000000\" fill-rule=\"evenodd\" fill-opacity=\"1\" /><path clip-path=\"url(#clip480)\" d=\"M 0 0 M-11.2436 1374.74 L1.2332 1374.74 L1.2332 1378.54 L-11.2436 1378.54 L-11.2436 1374.74 Z\" fill=\"#000000\" fill-rule=\"evenodd\" fill-opacity=\"1\" /><path clip-path=\"url(#clip480)\" d=\"M 0 0 M7.1128 1385.69 L14.7516 1385.69 L14.7516 1359.33 L6.4415 1360.99 L6.4415 1356.73 L14.7053 1355.07 L19.3812 1355.07 L19.3812 1385.69 L27.0201 1385.69 L27.0201 1389.63 L7.1128 1389.63 L7.1128 1385.69 Z\" fill=\"#000000\" fill-rule=\"evenodd\" fill-opacity=\"1\" /><path clip-path=\"url(#clip480)\" d=\"M 0 0 M32.0895 1383.75 L36.9737 1383.75 L36.9737 1389.63 L32.0895 1389.63 L32.0895 1383.75 Z\" fill=\"#000000\" fill-rule=\"evenodd\" fill-opacity=\"1\" /><path clip-path=\"url(#clip480)\" d=\"M 0 0 M42.0895 1355.07 L60.4458 1355.07 L60.4458 1359 L46.3718 1359 L46.3718 1367.48 Q47.3904 1367.13 48.4089 1366.97 Q49.4274 1366.78 50.4459 1366.78 Q56.2329 1366.78 59.6125 1369.95 Q62.9921 1373.12 62.9921 1378.54 Q62.9921 1384.12 59.5199 1387.22 Q56.0477 1390.3 49.7283 1390.3 Q47.5524 1390.3 45.2839 1389.93 Q43.0385 1389.56 40.6311 1388.82 L40.6311 1384.12 Q42.7145 1385.25 44.9367 1385.81 Q47.1589 1386.36 49.6357 1386.36 Q53.6403 1386.36 55.9783 1384.26 Q58.3162 1382.15 58.3162 1378.54 Q58.3162 1374.93 55.9783 1372.82 Q53.6403 1370.72 49.6357 1370.72 Q47.7607 1370.72 45.8857 1371.13 Q44.0339 1371.55 42.0895 1372.43 L42.0895 1355.07 Z\" fill=\"#000000\" fill-rule=\"evenodd\" fill-opacity=\"1\" /><path clip-path=\"url(#clip480)\" d=\"M 0 0 M-12.239 1107.37 L0.237833 1107.37 L0.237833 1111.17 L-12.239 1111.17 L-12.239 1107.37 Z\" fill=\"#000000\" fill-rule=\"evenodd\" fill-opacity=\"1\" /><path clip-path=\"url(#clip480)\" d=\"M 0 0 M6.11743 1118.32 L13.7563 1118.32 L13.7563 1091.95 L5.44614 1093.62 L5.44614 1089.36 L13.71 1087.69 L18.3859 1087.69 L18.3859 1118.32 L26.0247 1118.32 L26.0247 1122.25 L6.11743 1122.25 L6.11743 1118.32 Z\" fill=\"#000000\" fill-rule=\"evenodd\" fill-opacity=\"1\" /><path clip-path=\"url(#clip480)\" d=\"M 0 0 M31.0941 1116.37 L35.9784 1116.37 L35.9784 1122.25 L31.0941 1122.25 L31.0941 1116.37 Z\" fill=\"#000000\" fill-rule=\"evenodd\" fill-opacity=\"1\" /><path clip-path=\"url(#clip480)\" d=\"M 0 0 M51.0477 1090.77 Q47.4367 1090.77 45.608 1094.34 Q43.8024 1097.88 43.8024 1105.01 Q43.8024 1112.12 45.608 1115.68 Q47.4367 1119.22 51.0477 1119.22 Q54.682 1119.22 56.4875 1115.68 Q58.3162 1112.12 58.3162 1105.01 Q58.3162 1097.88 56.4875 1094.34 Q54.682 1090.77 51.0477 1090.77 M51.0477 1087.07 Q56.8579 1087.07 59.9134 1091.68 Q62.9921 1096.26 62.9921 1105.01 Q62.9921 1113.74 59.9134 1118.34 Q56.8579 1122.93 51.0477 1122.93 Q45.2376 1122.93 42.1589 1118.34 Q39.1034 1113.74 39.1034 1105.01 Q39.1034 1096.26 42.1589 1091.68 Q45.2376 1087.07 51.0477 1087.07 Z\" fill=\"#000000\" fill-rule=\"evenodd\" fill-opacity=\"1\" /><path clip-path=\"url(#clip480)\" d=\"M 0 0 M-12.4704 839.997 L0.00635237 839.997 L0.00635237 843.793 L-12.4704 843.793 L-12.4704 839.997 Z\" fill=\"#000000\" fill-rule=\"evenodd\" fill-opacity=\"1\" /><path clip-path=\"url(#clip480)\" d=\"M 0 0 M15.0757 823.399 Q11.4646 823.399 9.63593 826.964 Q7.83038 830.506 7.83038 837.635 Q7.83038 844.742 9.63593 848.307 Q11.4646 851.848 15.0757 851.848 Q18.71 851.848 20.5155 848.307 Q22.3442 844.742 22.3442 837.635 Q22.3442 830.506 20.5155 826.964 Q18.71 823.399 15.0757 823.399 M15.0757 819.696 Q20.8859 819.696 23.9414 824.302 Q27.0201 828.885 27.0201 837.635 Q27.0201 846.362 23.9414 850.969 Q20.8859 855.552 15.0757 855.552 Q9.26556 855.552 6.18687 850.969 Q3.13134 846.362 3.13134 837.635 Q3.13134 828.885 6.18687 824.302 Q9.26556 819.696 15.0757 819.696 Z\" fill=\"#000000\" fill-rule=\"evenodd\" fill-opacity=\"1\" /><path clip-path=\"url(#clip480)\" d=\"M 0 0 M32.0895 849.001 L36.9737 849.001 L36.9737 854.881 L32.0895 854.881 L32.0895 849.001 Z\" fill=\"#000000\" fill-rule=\"evenodd\" fill-opacity=\"1\" /><path clip-path=\"url(#clip480)\" d=\"M 0 0 M42.0895 820.321 L60.4458 820.321 L60.4458 824.256 L46.3718 824.256 L46.3718 832.728 Q47.3904 832.381 48.4089 832.219 Q49.4274 832.034 50.4459 832.034 Q56.2329 832.034 59.6125 835.205 Q62.9921 838.376 62.9921 843.793 Q62.9921 849.371 59.5199 852.473 Q56.0477 855.552 49.7283 855.552 Q47.5524 855.552 45.2839 855.182 Q43.0385 854.811 40.6311 854.071 L40.6311 849.371 Q42.7145 850.506 44.9367 851.061 Q47.1589 851.617 49.6357 851.617 Q53.6403 851.617 55.9783 849.51 Q58.3162 847.404 58.3162 843.793 Q58.3162 840.182 55.9783 838.075 Q53.6403 835.969 49.6357 835.969 Q47.7607 835.969 45.8857 836.385 Q44.0339 836.802 42.0895 837.682 L42.0895 820.321 Z\" fill=\"#000000\" fill-rule=\"evenodd\" fill-opacity=\"1\" /><path clip-path=\"url(#clip480)\" d=\"M 0 0 M14.0804 556.026 Q10.4693 556.026 8.64057 559.591 Q6.83502 563.132 6.83502 570.262 Q6.83502 577.368 8.64057 580.933 Q10.4693 584.475 14.0804 584.475 Q17.7146 584.475 19.5201 580.933 Q21.3488 577.368 21.3488 570.262 Q21.3488 563.132 19.5201 559.591 Q17.7146 556.026 14.0804 556.026 M14.0804 552.322 Q19.8905 552.322 22.946 556.928 Q26.0247 561.512 26.0247 570.262 Q26.0247 578.989 22.946 583.595 Q19.8905 588.178 14.0804 588.178 Q8.2702 588.178 5.19151 583.595 Q2.13597 578.989 2.13597 570.262 Q2.13597 561.512 5.19151 556.928 Q8.2702 552.322 14.0804 552.322 Z\" fill=\"#000000\" fill-rule=\"evenodd\" fill-opacity=\"1\" /><path clip-path=\"url(#clip480)\" d=\"M 0 0 M31.0941 581.627 L35.9784 581.627 L35.9784 587.507 L31.0941 587.507 L31.0941 581.627 Z\" fill=\"#000000\" fill-rule=\"evenodd\" fill-opacity=\"1\" /><path clip-path=\"url(#clip480)\" d=\"M 0 0 M51.0477 556.026 Q47.4367 556.026 45.608 559.591 Q43.8024 563.132 43.8024 570.262 Q43.8024 577.368 45.608 580.933 Q47.4367 584.475 51.0477 584.475 Q54.682 584.475 56.4875 580.933 Q58.3162 577.368 58.3162 570.262 Q58.3162 563.132 56.4875 559.591 Q54.682 556.026 51.0477 556.026 M51.0477 552.322 Q56.8579 552.322 59.9134 556.928 Q62.9921 561.512 62.9921 570.262 Q62.9921 578.989 59.9134 583.595 Q56.8579 588.178 51.0477 588.178 Q45.2376 588.178 42.1589 583.595 Q39.1034 578.989 39.1034 570.262 Q39.1034 561.512 42.1589 556.928 Q45.2376 552.322 51.0477 552.322 Z\" fill=\"#000000\" fill-rule=\"evenodd\" fill-opacity=\"1\" /><path clip-path=\"url(#clip480)\" d=\"M 0 0 M15.0757 288.652 Q11.4646 288.652 9.63593 292.217 Q7.83038 295.758 7.83038 302.888 Q7.83038 309.995 9.63593 313.559 Q11.4646 317.101 15.0757 317.101 Q18.71 317.101 20.5155 313.559 Q22.3442 309.995 22.3442 302.888 Q22.3442 295.758 20.5155 292.217 Q18.71 288.652 15.0757 288.652 M15.0757 284.948 Q20.8859 284.948 23.9414 289.555 Q27.0201 294.138 27.0201 302.888 Q27.0201 311.615 23.9414 316.221 Q20.8859 320.805 15.0757 320.805 Q9.26556 320.805 6.18687 316.221 Q3.13134 311.615 3.13134 302.888 Q3.13134 294.138 6.18687 289.555 Q9.26556 284.948 15.0757 284.948 Z\" fill=\"#000000\" fill-rule=\"evenodd\" fill-opacity=\"1\" /><path clip-path=\"url(#clip480)\" d=\"M 0 0 M32.0895 314.254 L36.9737 314.254 L36.9737 320.133 L32.0895 320.133 L32.0895 314.254 Z\" fill=\"#000000\" fill-rule=\"evenodd\" fill-opacity=\"1\" /><path clip-path=\"url(#clip480)\" d=\"M 0 0 M42.0895 285.573 L60.4458 285.573 L60.4458 289.509 L46.3718 289.509 L46.3718 297.981 Q47.3904 297.633 48.4089 297.471 Q49.4274 297.286 50.4459 297.286 Q56.2329 297.286 59.6125 300.458 Q62.9921 303.629 62.9921 309.045 Q62.9921 314.624 59.5199 317.726 Q56.0477 320.805 49.7283 320.805 Q47.5524 320.805 45.2839 320.434 Q43.0385 320.064 40.6311 319.323 L40.6311 314.624 Q42.7145 315.758 44.9367 316.314 Q47.1589 316.869 49.6357 316.869 Q53.6403 316.869 55.9783 314.763 Q58.3162 312.657 58.3162 309.045 Q58.3162 305.434 55.9783 303.328 Q53.6403 301.221 49.6357 301.221 Q47.7607 301.221 45.8857 301.638 Q44.0339 302.055 42.0895 302.934 L42.0895 285.573 Z\" fill=\"#000000\" fill-rule=\"evenodd\" fill-opacity=\"1\" /><path clip-path=\"url(#clip482)\" d=\"\n",
       "M442.597 1479.3 L491.176 302.853 L2191.47 195.904 L2288.63 730.651 L1802.83 1158.45 L442.597 1479.3 L442.597 1479.3  Z\n",
       "  \" fill=\"#0000ff\" fill-rule=\"evenodd\" fill-opacity=\"0.2\"/>\n",
       "<polyline clip-path=\"url(#clip482)\" style=\"stroke:#000000; stroke-width:4; stroke-opacity:0.2; fill:none\" points=\"\n",
       "  442.597,1479.3 491.176,302.853 2191.47,195.904 2288.63,730.651 1802.83,1158.45 442.597,1479.3 \n",
       "  \"/>\n",
       "<path clip-path=\"url(#clip482)\" d=\"\n",
       "M151.118 1158.45 L976.975 142.429 L1414.19 88.9544 L1997.15 516.752 L2240.05 1211.92 L151.118 1158.45 L151.118 1158.45  Z\n",
       "  \" fill=\"#ff0000\" fill-rule=\"evenodd\" fill-opacity=\"0.2\"/>\n",
       "<polyline clip-path=\"url(#clip482)\" style=\"stroke:#000000; stroke-width:4; stroke-opacity:0.2; fill:none\" points=\"\n",
       "  151.118,1158.45 976.975,142.429 1414.19,88.9544 1997.15,516.752 2240.05,1211.92 151.118,1158.45 \n",
       "  \"/>\n",
       "<path clip-path=\"url(#clip482)\" d=\"\n",
       "M151.118 1158.45 L491.176 302.853 L976.975 142.429 L1414.19 88.9544 L2191.47 195.904 L2288.63 730.651 L2240.05 1211.92 L442.597 1479.3 L151.118 1158.45 L151.118 1158.45 \n",
       "   Z\n",
       "  \" fill=\"#008000\" fill-rule=\"evenodd\" fill-opacity=\"0.1\"/>\n",
       "<polyline clip-path=\"url(#clip482)\" style=\"stroke:#000000; stroke-width:4; stroke-opacity:0.1; fill:none\" points=\"\n",
       "  151.118,1158.45 491.176,302.853 976.975,142.429 1414.19,88.9544 2191.47,195.904 2288.63,730.651 2240.05,1211.92 442.597,1479.3 151.118,1158.45 \n",
       "  \n",
       "  \"/>\n",
       "<circle clip-path=\"url(#clip482)\" cx=\"151.118\" cy=\"1158.45\" r=\"14\" fill=\"#008000\" fill-rule=\"evenodd\" fill-opacity=\"1\" stroke=\"#000000\" stroke-opacity=\"1\" stroke-width=\"3.2\"/>\n",
       "<circle clip-path=\"url(#clip482)\" cx=\"491.176\" cy=\"302.853\" r=\"14\" fill=\"#008000\" fill-rule=\"evenodd\" fill-opacity=\"1\" stroke=\"#000000\" stroke-opacity=\"1\" stroke-width=\"3.2\"/>\n",
       "<circle clip-path=\"url(#clip482)\" cx=\"976.975\" cy=\"142.429\" r=\"14\" fill=\"#008000\" fill-rule=\"evenodd\" fill-opacity=\"1\" stroke=\"#000000\" stroke-opacity=\"1\" stroke-width=\"3.2\"/>\n",
       "<circle clip-path=\"url(#clip482)\" cx=\"1414.19\" cy=\"88.9544\" r=\"14\" fill=\"#008000\" fill-rule=\"evenodd\" fill-opacity=\"1\" stroke=\"#000000\" stroke-opacity=\"1\" stroke-width=\"3.2\"/>\n",
       "<circle clip-path=\"url(#clip482)\" cx=\"2191.47\" cy=\"195.904\" r=\"14\" fill=\"#008000\" fill-rule=\"evenodd\" fill-opacity=\"1\" stroke=\"#000000\" stroke-opacity=\"1\" stroke-width=\"3.2\"/>\n",
       "<circle clip-path=\"url(#clip482)\" cx=\"2288.63\" cy=\"730.651\" r=\"14\" fill=\"#008000\" fill-rule=\"evenodd\" fill-opacity=\"1\" stroke=\"#000000\" stroke-opacity=\"1\" stroke-width=\"3.2\"/>\n",
       "<circle clip-path=\"url(#clip482)\" cx=\"2240.05\" cy=\"1211.92\" r=\"14\" fill=\"#008000\" fill-rule=\"evenodd\" fill-opacity=\"1\" stroke=\"#000000\" stroke-opacity=\"1\" stroke-width=\"3.2\"/>\n",
       "<circle clip-path=\"url(#clip482)\" cx=\"442.597\" cy=\"1479.3\" r=\"14\" fill=\"#008000\" fill-rule=\"evenodd\" fill-opacity=\"1\" stroke=\"#000000\" stroke-opacity=\"1\" stroke-width=\"3.2\"/>\n",
       "<circle clip-path=\"url(#clip482)\" cx=\"151.118\" cy=\"1158.45\" r=\"14\" fill=\"#008000\" fill-rule=\"evenodd\" fill-opacity=\"1\" stroke=\"#000000\" stroke-opacity=\"1\" stroke-width=\"3.2\"/>\n",
       "</svg>\n"
      ]
     },
     "metadata": {},
     "execution_count": 6
    }
   ],
   "cell_type": "code",
   "source": [
    "using Plots\n",
    "plot(P1, color=\"blue\", alpha=0.2)\n",
    "plot!(P2, color=\"red\", alpha=0.2)\n",
    "plot!(Pch, color=\"green\", alpha=0.1)\n",
    "scatter!(Pch, color=\"green\")"
   ],
   "metadata": {},
   "execution_count": 6
  },
  {
   "cell_type": "markdown",
   "source": [
    "### Intersection <a name=\"Intersection\"></a>\n",
    "\n",
    "Intersection of polyhedra is obtained with the [`intersect`](https://juliapolyhedra.github.io/Polyhedra.jl/latest/utilities.html#Base.intersect) function.\n",
    "\n",
    "Below we compute the intersection of the two polygons from the previous example."
   ],
   "metadata": {}
  },
  {
   "outputs": [
    {
     "output_type": "execute_result",
     "data": {
      "text/plain": "Polyhedron DefaultPolyhedron{Float64,MixedMatHRep{Float64,Array{Float64,2}},MixedMatVRep{Float64,Array{Float64,2}}}:\n10-element iterator of HalfSpace{Float64,Array{Float64,1}}:\n HalfSpace([-0.34557, 0.0157077], 0.6298806953588169)\n HalfSpace([-0.00171661, 0.0300407], 0.018110248496529084)\n HalfSpace([0.0060738, 0.00121476], 0.011175796331559292)\n HalfSpace([0.00331806, -0.0154843], 0.020018945441193432)\n HalfSpace([0.00592712, -0.00740891], 0.01348420916976144)\n HalfSpace([-0.00653015, -0.280796], 0.325201448953944)\n HalfSpace([-0.133214, 0.119192], 0.2019247260027254)\n HalfSpace([-0.0174502, 0.157052], 0.13960140136700427)\n HalfSpace([0.105589, 0.040611], 0.141326191956095)\n HalfSpace([0.0804143, 0.120621], 0.11660077754098985)"
     },
     "metadata": {},
     "execution_count": 7
    }
   ],
   "cell_type": "code",
   "source": [
    "Pint = intersect(P1, P2)"
   ],
   "metadata": {},
   "execution_count": 7
  },
  {
   "cell_type": "markdown",
   "source": [
    "While `P1` and `P2` have been constructed from their V-representation, their H-representation has been computed to build the intersection `Pint`."
   ],
   "metadata": {}
  },
  {
   "outputs": [
    {
     "output_type": "execute_result",
     "data": {
      "text/plain": "(true, true, true, true)"
     },
     "metadata": {},
     "execution_count": 8
    }
   ],
   "cell_type": "code",
   "source": [
    "hrepiscomputed(P1), vrepiscomputed(P1), hrepiscomputed(P2), vrepiscomputed(P2)"
   ],
   "metadata": {},
   "execution_count": 8
  },
  {
   "cell_type": "markdown",
   "source": [
    "On the other hand, `Pint` is constructed from its H-representation hence its V-representation has not been computed yet."
   ],
   "metadata": {}
  },
  {
   "outputs": [
    {
     "output_type": "execute_result",
     "data": {
      "text/plain": "(true, false)"
     },
     "metadata": {},
     "execution_count": 9
    }
   ],
   "cell_type": "code",
   "source": [
    "hrepiscomputed(Pint), vrepiscomputed(Pint)"
   ],
   "metadata": {},
   "execution_count": 9
  },
  {
   "cell_type": "markdown",
   "source": [
    "We can obtain the number of points in the intersection with `npoints` as follows:"
   ],
   "metadata": {}
  },
  {
   "outputs": [
    {
     "output_type": "execute_result",
     "data": {
      "text/plain": "8"
     },
     "metadata": {},
     "execution_count": 10
    }
   ],
   "cell_type": "code",
   "source": [
    "npoints(Pint)"
   ],
   "metadata": {},
   "execution_count": 10
  },
  {
   "cell_type": "markdown",
   "source": [
    "Note that this triggers the computation of the V-representation:"
   ],
   "metadata": {}
  },
  {
   "outputs": [
    {
     "output_type": "execute_result",
     "data": {
      "text/plain": "(true, true)"
     },
     "metadata": {},
     "execution_count": 11
    }
   ],
   "cell_type": "code",
   "source": [
    "hrepiscomputed(Pint), vrepiscomputed(Pint)"
   ],
   "metadata": {},
   "execution_count": 11
  },
  {
   "cell_type": "markdown",
   "source": [
    "We can plot the polygons and their intersection using the `plot` function."
   ],
   "metadata": {}
  },
  {
   "outputs": [
    {
     "output_type": "execute_result",
     "data": {
      "text/plain": "Plot{Plots.GRBackend() n=3}",
      "image/png": "[encoded data removed]",
      "text/html": [
       "<?xml version=\"1.0\" encoding=\"utf-8\"?>\n",
       "<svg xmlns=\"http://www.w3.org/2000/svg\" xmlns:xlink=\"http://www.w3.org/1999/xlink\" width=\"600\" height=\"400\" viewBox=\"0 0 2400 1600\">\n",
       "<defs>\n",
       "  <clipPath id=\"clip570\">\n",
       "    <rect x=\"0\" y=\"0\" width=\"2400\" height=\"1600\"/>\n",
       "  </clipPath>\n",
       "</defs>\n",
       "<path clip-path=\"url(#clip570)\" d=\"\n",
       "M0 1600 L2400 1600 L2400 0 L0 0  Z\n",
       "  \" fill=\"#ffffff\" fill-rule=\"evenodd\" fill-opacity=\"1\"/>\n",
       "<defs>\n",
       "  <clipPath id=\"clip571\">\n",
       "    <rect x=\"480\" y=\"0\" width=\"1681\" height=\"1600\"/>\n",
       "  </clipPath>\n",
       "</defs>\n",
       "<path clip-path=\"url(#clip570)\" d=\"\n",
       "M86.9921 1521.01 L2352.76 1521.01 L2352.76 47.2441 L86.9921 47.2441  Z\n",
       "  \" fill=\"#ffffff\" fill-rule=\"evenodd\" fill-opacity=\"1\"/>\n",
       "<defs>\n",
       "  <clipPath id=\"clip572\">\n",
       "    <rect x=\"86\" y=\"47\" width=\"2267\" height=\"1475\"/>\n",
       "  </clipPath>\n",
       "</defs>\n",
       "<polyline clip-path=\"url(#clip572)\" style=\"stroke:#000000; stroke-width:2; stroke-opacity:0.1; fill:none\" points=\"\n",
       "  394.017,1521.01 394.017,47.2441 \n",
       "  \"/>\n",
       "<polyline clip-path=\"url(#clip572)\" style=\"stroke:#000000; stroke-width:2; stroke-opacity:0.1; fill:none\" points=\"\n",
       "  879.815,1521.01 879.815,47.2441 \n",
       "  \"/>\n",
       "<polyline clip-path=\"url(#clip572)\" style=\"stroke:#000000; stroke-width:2; stroke-opacity:0.1; fill:none\" points=\"\n",
       "  1365.61,1521.01 1365.61,47.2441 \n",
       "  \"/>\n",
       "<polyline clip-path=\"url(#clip572)\" style=\"stroke:#000000; stroke-width:2; stroke-opacity:0.1; fill:none\" points=\"\n",
       "  1851.41,1521.01 1851.41,47.2441 \n",
       "  \"/>\n",
       "<polyline clip-path=\"url(#clip572)\" style=\"stroke:#000000; stroke-width:2; stroke-opacity:0.1; fill:none\" points=\"\n",
       "  2337.21,1521.01 2337.21,47.2441 \n",
       "  \"/>\n",
       "<polyline clip-path=\"url(#clip572)\" style=\"stroke:#000000; stroke-width:2; stroke-opacity:0.1; fill:none\" points=\"\n",
       "  86.9921,1372.35 2352.76,1372.35 \n",
       "  \"/>\n",
       "<polyline clip-path=\"url(#clip572)\" style=\"stroke:#000000; stroke-width:2; stroke-opacity:0.1; fill:none\" points=\"\n",
       "  86.9921,1104.97 2352.76,1104.97 \n",
       "  \"/>\n",
       "<polyline clip-path=\"url(#clip572)\" style=\"stroke:#000000; stroke-width:2; stroke-opacity:0.1; fill:none\" points=\"\n",
       "  86.9921,837.601 2352.76,837.601 \n",
       "  \"/>\n",
       "<polyline clip-path=\"url(#clip572)\" style=\"stroke:#000000; stroke-width:2; stroke-opacity:0.1; fill:none\" points=\"\n",
       "  86.9921,570.227 2352.76,570.227 \n",
       "  \"/>\n",
       "<polyline clip-path=\"url(#clip572)\" style=\"stroke:#000000; stroke-width:2; stroke-opacity:0.1; fill:none\" points=\"\n",
       "  86.9921,302.853 2352.76,302.853 \n",
       "  \"/>\n",
       "<polyline clip-path=\"url(#clip570)\" style=\"stroke:#000000; stroke-width:4; stroke-opacity:1; fill:none\" points=\"\n",
       "  86.9921,1521.01 2352.76,1521.01 \n",
       "  \"/>\n",
       "<polyline clip-path=\"url(#clip570)\" style=\"stroke:#000000; stroke-width:4; stroke-opacity:1; fill:none\" points=\"\n",
       "  86.9921,1521.01 86.9921,47.2441 \n",
       "  \"/>\n",
       "<polyline clip-path=\"url(#clip570)\" style=\"stroke:#000000; stroke-width:4; stroke-opacity:1; fill:none\" points=\"\n",
       "  394.017,1521.01 394.017,1503.32 \n",
       "  \"/>\n",
       "<polyline clip-path=\"url(#clip570)\" style=\"stroke:#000000; stroke-width:4; stroke-opacity:1; fill:none\" points=\"\n",
       "  879.815,1521.01 879.815,1503.32 \n",
       "  \"/>\n",
       "<polyline clip-path=\"url(#clip570)\" style=\"stroke:#000000; stroke-width:4; stroke-opacity:1; fill:none\" points=\"\n",
       "  1365.61,1521.01 1365.61,1503.32 \n",
       "  \"/>\n",
       "<polyline clip-path=\"url(#clip570)\" style=\"stroke:#000000; stroke-width:4; stroke-opacity:1; fill:none\" points=\"\n",
       "  1851.41,1521.01 1851.41,1503.32 \n",
       "  \"/>\n",
       "<polyline clip-path=\"url(#clip570)\" style=\"stroke:#000000; stroke-width:4; stroke-opacity:1; fill:none\" points=\"\n",
       "  2337.21,1521.01 2337.21,1503.32 \n",
       "  \"/>\n",
       "<polyline clip-path=\"url(#clip570)\" style=\"stroke:#000000; stroke-width:4; stroke-opacity:1; fill:none\" points=\"\n",
       "  86.9921,1372.35 114.181,1372.35 \n",
       "  \"/>\n",
       "<polyline clip-path=\"url(#clip570)\" style=\"stroke:#000000; stroke-width:4; stroke-opacity:1; fill:none\" points=\"\n",
       "  86.9921,1104.97 114.181,1104.97 \n",
       "  \"/>\n",
       "<polyline clip-path=\"url(#clip570)\" style=\"stroke:#000000; stroke-width:4; stroke-opacity:1; fill:none\" points=\"\n",
       "  86.9921,837.601 114.181,837.601 \n",
       "  \"/>\n",
       "<polyline clip-path=\"url(#clip570)\" style=\"stroke:#000000; stroke-width:4; stroke-opacity:1; fill:none\" points=\"\n",
       "  86.9921,570.227 114.181,570.227 \n",
       "  \"/>\n",
       "<polyline clip-path=\"url(#clip570)\" style=\"stroke:#000000; stroke-width:4; stroke-opacity:1; fill:none\" points=\"\n",
       "  86.9921,302.853 114.181,302.853 \n",
       "  \"/>\n",
       "<path clip-path=\"url(#clip570)\" d=\"M 0 0 M375.07 1559.6 L387.547 1559.6 L387.547 1563.39 L375.07 1563.39 L375.07 1559.6 Z\" fill=\"#000000\" fill-rule=\"evenodd\" fill-opacity=\"1\" /><path clip-path=\"url(#clip570)\" d=\"M 0 0 M396.644 1570.54 L412.963 1570.54 L412.963 1574.48 L391.019 1574.48 L391.019 1570.54 Q393.681 1567.79 398.264 1563.16 Q402.871 1558.51 404.051 1557.17 Q406.297 1554.64 407.176 1552.91 Q408.079 1551.15 408.079 1549.46 Q408.079 1546.7 406.135 1544.97 Q404.213 1543.23 401.112 1543.23 Q398.913 1543.23 396.459 1543.99 Q394.028 1544.76 391.251 1546.31 L391.251 1541.59 Q394.075 1540.45 396.528 1539.87 Q398.982 1539.29 401.019 1539.29 Q406.389 1539.29 409.584 1541.98 Q412.778 1544.67 412.778 1549.16 Q412.778 1551.29 411.968 1553.21 Q411.181 1555.1 409.075 1557.7 Q408.496 1558.37 405.394 1561.59 Q402.292 1564.78 396.644 1570.54 Z\" fill=\"#000000\" fill-rule=\"evenodd\" fill-opacity=\"1\" /><path clip-path=\"url(#clip570)\" d=\"M 0 0 M860.683 1559.6 L873.16 1559.6 L873.16 1563.39 L860.683 1563.39 L860.683 1559.6 Z\" fill=\"#000000\" fill-rule=\"evenodd\" fill-opacity=\"1\" /><path clip-path=\"url(#clip570)\" d=\"M 0 0 M879.04 1570.54 L886.679 1570.54 L886.679 1544.18 L878.368 1545.85 L878.368 1541.59 L886.632 1539.92 L891.308 1539.92 L891.308 1570.54 L898.947 1570.54 L898.947 1574.48 L879.04 1574.48 L879.04 1570.54 Z\" fill=\"#000000\" fill-rule=\"evenodd\" fill-opacity=\"1\" /><path clip-path=\"url(#clip570)\" d=\"M 0 0 M1365.61 1543 Q1362 1543 1360.17 1546.56 Q1358.37 1550.11 1358.37 1557.23 Q1358.37 1564.34 1360.17 1567.91 Q1362 1571.45 1365.61 1571.45 Q1369.25 1571.45 1371.05 1567.91 Q1372.88 1564.34 1372.88 1557.23 Q1372.88 1550.11 1371.05 1546.56 Q1369.25 1543 1365.61 1543 M1365.61 1539.29 Q1371.42 1539.29 1374.48 1543.9 Q1377.56 1548.48 1377.56 1557.23 Q1377.56 1565.96 1374.48 1570.57 Q1371.42 1575.15 1365.61 1575.15 Q1359.8 1575.15 1356.72 1570.57 Q1353.67 1565.96 1353.67 1557.23 Q1353.67 1548.48 1356.72 1543.9 Q1359.8 1539.29 1365.61 1539.29 Z\" fill=\"#000000\" fill-rule=\"evenodd\" fill-opacity=\"1\" /><path clip-path=\"url(#clip570)\" d=\"M 0 0 M1841.79 1570.54 L1849.43 1570.54 L1849.43 1544.18 L1841.12 1545.85 L1841.12 1541.59 L1849.39 1539.92 L1854.06 1539.92 L1854.06 1570.54 L1861.7 1570.54 L1861.7 1574.48 L1841.79 1574.48 L1841.79 1570.54 Z\" fill=\"#000000\" fill-rule=\"evenodd\" fill-opacity=\"1\" /><path clip-path=\"url(#clip570)\" d=\"M 0 0 M2331.86 1570.54 L2348.18 1570.54 L2348.18 1574.48 L2326.24 1574.48 L2326.24 1570.54 Q2328.9 1567.79 2333.48 1563.16 Q2338.09 1558.51 2339.27 1557.17 Q2341.52 1554.64 2342.4 1552.91 Q2343.3 1551.15 2343.3 1549.46 Q2343.3 1546.7 2341.35 1544.97 Q2339.43 1543.23 2336.33 1543.23 Q2334.13 1543.23 2331.68 1543.99 Q2329.25 1544.76 2326.47 1546.31 L2326.47 1541.59 Q2329.29 1540.45 2331.75 1539.87 Q2334.2 1539.29 2336.24 1539.29 Q2341.61 1539.29 2344.8 1541.98 Q2348 1544.67 2348 1549.16 Q2348 1551.29 2347.19 1553.21 Q2346.4 1555.1 2344.29 1557.7 Q2343.71 1558.37 2340.61 1561.59 Q2337.51 1564.78 2331.86 1570.54 Z\" fill=\"#000000\" fill-rule=\"evenodd\" fill-opacity=\"1\" /><path clip-path=\"url(#clip570)\" d=\"M 0 0 M-11.2436 1374.74 L1.2332 1374.74 L1.2332 1378.54 L-11.2436 1378.54 L-11.2436 1374.74 Z\" fill=\"#000000\" fill-rule=\"evenodd\" fill-opacity=\"1\" /><path clip-path=\"url(#clip570)\" d=\"M 0 0 M7.1128 1385.69 L14.7516 1385.69 L14.7516 1359.33 L6.4415 1360.99 L6.4415 1356.73 L14.7053 1355.07 L19.3812 1355.07 L19.3812 1385.69 L27.0201 1385.69 L27.0201 1389.63 L7.1128 1389.63 L7.1128 1385.69 Z\" fill=\"#000000\" fill-rule=\"evenodd\" fill-opacity=\"1\" /><path clip-path=\"url(#clip570)\" d=\"M 0 0 M32.0895 1383.75 L36.9737 1383.75 L36.9737 1389.63 L32.0895 1389.63 L32.0895 1383.75 Z\" fill=\"#000000\" fill-rule=\"evenodd\" fill-opacity=\"1\" /><path clip-path=\"url(#clip570)\" d=\"M 0 0 M42.0895 1355.07 L60.4458 1355.07 L60.4458 1359 L46.3718 1359 L46.3718 1367.48 Q47.3904 1367.13 48.4089 1366.97 Q49.4274 1366.78 50.4459 1366.78 Q56.2329 1366.78 59.6125 1369.95 Q62.9921 1373.12 62.9921 1378.54 Q62.9921 1384.12 59.5199 1387.22 Q56.0477 1390.3 49.7283 1390.3 Q47.5524 1390.3 45.2839 1389.93 Q43.0385 1389.56 40.6311 1388.82 L40.6311 1384.12 Q42.7145 1385.25 44.9367 1385.81 Q47.1589 1386.36 49.6357 1386.36 Q53.6403 1386.36 55.9783 1384.26 Q58.3162 1382.15 58.3162 1378.54 Q58.3162 1374.93 55.9783 1372.82 Q53.6403 1370.72 49.6357 1370.72 Q47.7607 1370.72 45.8857 1371.13 Q44.0339 1371.55 42.0895 1372.43 L42.0895 1355.07 Z\" fill=\"#000000\" fill-rule=\"evenodd\" fill-opacity=\"1\" /><path clip-path=\"url(#clip570)\" d=\"M 0 0 M-12.239 1107.37 L0.237833 1107.37 L0.237833 1111.17 L-12.239 1111.17 L-12.239 1107.37 Z\" fill=\"#000000\" fill-rule=\"evenodd\" fill-opacity=\"1\" /><path clip-path=\"url(#clip570)\" d=\"M 0 0 M6.11743 1118.32 L13.7563 1118.32 L13.7563 1091.95 L5.44614 1093.62 L5.44614 1089.36 L13.71 1087.69 L18.3859 1087.69 L18.3859 1118.32 L26.0247 1118.32 L26.0247 1122.25 L6.11743 1122.25 L6.11743 1118.32 Z\" fill=\"#000000\" fill-rule=\"evenodd\" fill-opacity=\"1\" /><path clip-path=\"url(#clip570)\" d=\"M 0 0 M31.0941 1116.37 L35.9784 1116.37 L35.9784 1122.25 L31.0941 1122.25 L31.0941 1116.37 Z\" fill=\"#000000\" fill-rule=\"evenodd\" fill-opacity=\"1\" /><path clip-path=\"url(#clip570)\" d=\"M 0 0 M51.0477 1090.77 Q47.4367 1090.77 45.608 1094.34 Q43.8024 1097.88 43.8024 1105.01 Q43.8024 1112.12 45.608 1115.68 Q47.4367 1119.22 51.0477 1119.22 Q54.682 1119.22 56.4875 1115.68 Q58.3162 1112.12 58.3162 1105.01 Q58.3162 1097.88 56.4875 1094.34 Q54.682 1090.77 51.0477 1090.77 M51.0477 1087.07 Q56.8579 1087.07 59.9134 1091.68 Q62.9921 1096.26 62.9921 1105.01 Q62.9921 1113.74 59.9134 1118.34 Q56.8579 1122.93 51.0477 1122.93 Q45.2376 1122.93 42.1589 1118.34 Q39.1034 1113.74 39.1034 1105.01 Q39.1034 1096.26 42.1589 1091.68 Q45.2376 1087.07 51.0477 1087.07 Z\" fill=\"#000000\" fill-rule=\"evenodd\" fill-opacity=\"1\" /><path clip-path=\"url(#clip570)\" d=\"M 0 0 M-12.4704 839.997 L0.00635237 839.997 L0.00635237 843.793 L-12.4704 843.793 L-12.4704 839.997 Z\" fill=\"#000000\" fill-rule=\"evenodd\" fill-opacity=\"1\" /><path clip-path=\"url(#clip570)\" d=\"M 0 0 M15.0757 823.399 Q11.4646 823.399 9.63593 826.964 Q7.83038 830.506 7.83038 837.635 Q7.83038 844.742 9.63593 848.307 Q11.4646 851.848 15.0757 851.848 Q18.71 851.848 20.5155 848.307 Q22.3442 844.742 22.3442 837.635 Q22.3442 830.506 20.5155 826.964 Q18.71 823.399 15.0757 823.399 M15.0757 819.696 Q20.8859 819.696 23.9414 824.302 Q27.0201 828.885 27.0201 837.635 Q27.0201 846.362 23.9414 850.969 Q20.8859 855.552 15.0757 855.552 Q9.26556 855.552 6.18687 850.969 Q3.13134 846.362 3.13134 837.635 Q3.13134 828.885 6.18687 824.302 Q9.26556 819.696 15.0757 819.696 Z\" fill=\"#000000\" fill-rule=\"evenodd\" fill-opacity=\"1\" /><path clip-path=\"url(#clip570)\" d=\"M 0 0 M32.0895 849.001 L36.9737 849.001 L36.9737 854.881 L32.0895 854.881 L32.0895 849.001 Z\" fill=\"#000000\" fill-rule=\"evenodd\" fill-opacity=\"1\" /><path clip-path=\"url(#clip570)\" d=\"M 0 0 M42.0895 820.321 L60.4458 820.321 L60.4458 824.256 L46.3718 824.256 L46.3718 832.728 Q47.3904 832.381 48.4089 832.219 Q49.4274 832.034 50.4459 832.034 Q56.2329 832.034 59.6125 835.205 Q62.9921 838.376 62.9921 843.793 Q62.9921 849.371 59.5199 852.473 Q56.0477 855.552 49.7283 855.552 Q47.5524 855.552 45.2839 855.182 Q43.0385 854.811 40.6311 854.071 L40.6311 849.371 Q42.7145 850.506 44.9367 851.061 Q47.1589 851.617 49.6357 851.617 Q53.6403 851.617 55.9783 849.51 Q58.3162 847.404 58.3162 843.793 Q58.3162 840.182 55.9783 838.075 Q53.6403 835.969 49.6357 835.969 Q47.7607 835.969 45.8857 836.385 Q44.0339 836.802 42.0895 837.682 L42.0895 820.321 Z\" fill=\"#000000\" fill-rule=\"evenodd\" fill-opacity=\"1\" /><path clip-path=\"url(#clip570)\" d=\"M 0 0 M14.0804 556.026 Q10.4693 556.026 8.64057 559.591 Q6.83502 563.132 6.83502 570.262 Q6.83502 577.368 8.64057 580.933 Q10.4693 584.475 14.0804 584.475 Q17.7146 584.475 19.5201 580.933 Q21.3488 577.368 21.3488 570.262 Q21.3488 563.132 19.5201 559.591 Q17.7146 556.026 14.0804 556.026 M14.0804 552.322 Q19.8905 552.322 22.946 556.928 Q26.0247 561.512 26.0247 570.262 Q26.0247 578.989 22.946 583.595 Q19.8905 588.178 14.0804 588.178 Q8.2702 588.178 5.19151 583.595 Q2.13597 578.989 2.13597 570.262 Q2.13597 561.512 5.19151 556.928 Q8.2702 552.322 14.0804 552.322 Z\" fill=\"#000000\" fill-rule=\"evenodd\" fill-opacity=\"1\" /><path clip-path=\"url(#clip570)\" d=\"M 0 0 M31.0941 581.627 L35.9784 581.627 L35.9784 587.507 L31.0941 587.507 L31.0941 581.627 Z\" fill=\"#000000\" fill-rule=\"evenodd\" fill-opacity=\"1\" /><path clip-path=\"url(#clip570)\" d=\"M 0 0 M51.0477 556.026 Q47.4367 556.026 45.608 559.591 Q43.8024 563.132 43.8024 570.262 Q43.8024 577.368 45.608 580.933 Q47.4367 584.475 51.0477 584.475 Q54.682 584.475 56.4875 580.933 Q58.3162 577.368 58.3162 570.262 Q58.3162 563.132 56.4875 559.591 Q54.682 556.026 51.0477 556.026 M51.0477 552.322 Q56.8579 552.322 59.9134 556.928 Q62.9921 561.512 62.9921 570.262 Q62.9921 578.989 59.9134 583.595 Q56.8579 588.178 51.0477 588.178 Q45.2376 588.178 42.1589 583.595 Q39.1034 578.989 39.1034 570.262 Q39.1034 561.512 42.1589 556.928 Q45.2376 552.322 51.0477 552.322 Z\" fill=\"#000000\" fill-rule=\"evenodd\" fill-opacity=\"1\" /><path clip-path=\"url(#clip570)\" d=\"M 0 0 M15.0757 288.652 Q11.4646 288.652 9.63593 292.217 Q7.83038 295.758 7.83038 302.888 Q7.83038 309.995 9.63593 313.559 Q11.4646 317.101 15.0757 317.101 Q18.71 317.101 20.5155 313.559 Q22.3442 309.995 22.3442 302.888 Q22.3442 295.758 20.5155 292.217 Q18.71 288.652 15.0757 288.652 M15.0757 284.948 Q20.8859 284.948 23.9414 289.555 Q27.0201 294.138 27.0201 302.888 Q27.0201 311.615 23.9414 316.221 Q20.8859 320.805 15.0757 320.805 Q9.26556 320.805 6.18687 316.221 Q3.13134 311.615 3.13134 302.888 Q3.13134 294.138 6.18687 289.555 Q9.26556 284.948 15.0757 284.948 Z\" fill=\"#000000\" fill-rule=\"evenodd\" fill-opacity=\"1\" /><path clip-path=\"url(#clip570)\" d=\"M 0 0 M32.0895 314.254 L36.9737 314.254 L36.9737 320.133 L32.0895 320.133 L32.0895 314.254 Z\" fill=\"#000000\" fill-rule=\"evenodd\" fill-opacity=\"1\" /><path clip-path=\"url(#clip570)\" d=\"M 0 0 M42.0895 285.573 L60.4458 285.573 L60.4458 289.509 L46.3718 289.509 L46.3718 297.981 Q47.3904 297.633 48.4089 297.471 Q49.4274 297.286 50.4459 297.286 Q56.2329 297.286 59.6125 300.458 Q62.9921 303.629 62.9921 309.045 Q62.9921 314.624 59.5199 317.726 Q56.0477 320.805 49.7283 320.805 Q47.5524 320.805 45.2839 320.434 Q43.0385 320.064 40.6311 319.323 L40.6311 314.624 Q42.7145 315.758 44.9367 316.314 Q47.1589 316.869 49.6357 316.869 Q53.6403 316.869 55.9783 314.763 Q58.3162 312.657 58.3162 309.045 Q58.3162 305.434 55.9783 303.328 Q53.6403 301.221 49.6357 301.221 Q47.7607 301.221 45.8857 301.638 Q44.0339 302.055 42.0895 302.934 L42.0895 285.573 Z\" fill=\"#000000\" fill-rule=\"evenodd\" fill-opacity=\"1\" /><path clip-path=\"url(#clip572)\" d=\"\n",
       "M442.597 1479.3 L491.176 302.853 L2191.47 195.904 L2288.63 730.651 L1802.83 1158.45 L442.597 1479.3 L442.597 1479.3  Z\n",
       "  \" fill=\"#0000ff\" fill-rule=\"evenodd\" fill-opacity=\"0.2\"/>\n",
       "<polyline clip-path=\"url(#clip572)\" style=\"stroke:#000000; stroke-width:4; stroke-opacity:0.2; fill:none\" points=\"\n",
       "  442.597,1479.3 491.176,302.853 2191.47,195.904 2288.63,730.651 1802.83,1158.45 442.597,1479.3 \n",
       "  \"/>\n",
       "<path clip-path=\"url(#clip572)\" d=\"\n",
       "M151.118 1158.45 L976.975 142.429 L1414.19 88.9544 L1997.15 516.752 L2240.05 1211.92 L151.118 1158.45 L151.118 1158.45  Z\n",
       "  \" fill=\"#ff0000\" fill-rule=\"evenodd\" fill-opacity=\"0.2\"/>\n",
       "<polyline clip-path=\"url(#clip572)\" style=\"stroke:#000000; stroke-width:4; stroke-opacity:0.2; fill:none\" points=\"\n",
       "  151.118,1158.45 976.975,142.429 1414.19,88.9544 1997.15,516.752 2240.05,1211.92 151.118,1158.45 \n",
       "  \"/>\n",
       "<path clip-path=\"url(#clip572)\" d=\"\n",
       "M455.524 1166.24 L472.155 763.489 L865.726 279.294 L1609.79 232.492 L1997.15 516.752 L2122.89 876.606 L1802.83 1158.45 L1641.13 1196.59 L455.524 1166.24 L455.524 1166.24 \n",
       "   Z\n",
       "  \" fill=\"#ffff00\" fill-rule=\"evenodd\" fill-opacity=\"0.6\"/>\n",
       "<polyline clip-path=\"url(#clip572)\" style=\"stroke:#000000; stroke-width:4; stroke-opacity:0.6; fill:none\" points=\"\n",
       "  455.524,1166.24 472.155,763.489 865.726,279.294 1609.79,232.492 1997.15,516.752 2122.89,876.606 1802.83,1158.45 1641.13,1196.59 455.524,1166.24 \n",
       "  \n",
       "  \"/>\n",
       "</svg>\n"
      ],
      "image/svg+xml": [
       "<?xml version=\"1.0\" encoding=\"utf-8\"?>\n",
       "<svg xmlns=\"http://www.w3.org/2000/svg\" xmlns:xlink=\"http://www.w3.org/1999/xlink\" width=\"600\" height=\"400\" viewBox=\"0 0 2400 1600\">\n",
       "<defs>\n",
       "  <clipPath id=\"clip540\">\n",
       "    <rect x=\"0\" y=\"0\" width=\"2400\" height=\"1600\"/>\n",
       "  </clipPath>\n",
       "</defs>\n",
       "<path clip-path=\"url(#clip540)\" d=\"\n",
       "M0 1600 L2400 1600 L2400 0 L0 0  Z\n",
       "  \" fill=\"#ffffff\" fill-rule=\"evenodd\" fill-opacity=\"1\"/>\n",
       "<defs>\n",
       "  <clipPath id=\"clip541\">\n",
       "    <rect x=\"480\" y=\"0\" width=\"1681\" height=\"1600\"/>\n",
       "  </clipPath>\n",
       "</defs>\n",
       "<path clip-path=\"url(#clip540)\" d=\"\n",
       "M86.9921 1521.01 L2352.76 1521.01 L2352.76 47.2441 L86.9921 47.2441  Z\n",
       "  \" fill=\"#ffffff\" fill-rule=\"evenodd\" fill-opacity=\"1\"/>\n",
       "<defs>\n",
       "  <clipPath id=\"clip542\">\n",
       "    <rect x=\"86\" y=\"47\" width=\"2267\" height=\"1475\"/>\n",
       "  </clipPath>\n",
       "</defs>\n",
       "<polyline clip-path=\"url(#clip542)\" style=\"stroke:#000000; stroke-width:2; stroke-opacity:0.1; fill:none\" points=\"\n",
       "  394.017,1521.01 394.017,47.2441 \n",
       "  \"/>\n",
       "<polyline clip-path=\"url(#clip542)\" style=\"stroke:#000000; stroke-width:2; stroke-opacity:0.1; fill:none\" points=\"\n",
       "  879.815,1521.01 879.815,47.2441 \n",
       "  \"/>\n",
       "<polyline clip-path=\"url(#clip542)\" style=\"stroke:#000000; stroke-width:2; stroke-opacity:0.1; fill:none\" points=\"\n",
       "  1365.61,1521.01 1365.61,47.2441 \n",
       "  \"/>\n",
       "<polyline clip-path=\"url(#clip542)\" style=\"stroke:#000000; stroke-width:2; stroke-opacity:0.1; fill:none\" points=\"\n",
       "  1851.41,1521.01 1851.41,47.2441 \n",
       "  \"/>\n",
       "<polyline clip-path=\"url(#clip542)\" style=\"stroke:#000000; stroke-width:2; stroke-opacity:0.1; fill:none\" points=\"\n",
       "  2337.21,1521.01 2337.21,47.2441 \n",
       "  \"/>\n",
       "<polyline clip-path=\"url(#clip542)\" style=\"stroke:#000000; stroke-width:2; stroke-opacity:0.1; fill:none\" points=\"\n",
       "  86.9921,1372.35 2352.76,1372.35 \n",
       "  \"/>\n",
       "<polyline clip-path=\"url(#clip542)\" style=\"stroke:#000000; stroke-width:2; stroke-opacity:0.1; fill:none\" points=\"\n",
       "  86.9921,1104.97 2352.76,1104.97 \n",
       "  \"/>\n",
       "<polyline clip-path=\"url(#clip542)\" style=\"stroke:#000000; stroke-width:2; stroke-opacity:0.1; fill:none\" points=\"\n",
       "  86.9921,837.601 2352.76,837.601 \n",
       "  \"/>\n",
       "<polyline clip-path=\"url(#clip542)\" style=\"stroke:#000000; stroke-width:2; stroke-opacity:0.1; fill:none\" points=\"\n",
       "  86.9921,570.227 2352.76,570.227 \n",
       "  \"/>\n",
       "<polyline clip-path=\"url(#clip542)\" style=\"stroke:#000000; stroke-width:2; stroke-opacity:0.1; fill:none\" points=\"\n",
       "  86.9921,302.853 2352.76,302.853 \n",
       "  \"/>\n",
       "<polyline clip-path=\"url(#clip540)\" style=\"stroke:#000000; stroke-width:4; stroke-opacity:1; fill:none\" points=\"\n",
       "  86.9921,1521.01 2352.76,1521.01 \n",
       "  \"/>\n",
       "<polyline clip-path=\"url(#clip540)\" style=\"stroke:#000000; stroke-width:4; stroke-opacity:1; fill:none\" points=\"\n",
       "  86.9921,1521.01 86.9921,47.2441 \n",
       "  \"/>\n",
       "<polyline clip-path=\"url(#clip540)\" style=\"stroke:#000000; stroke-width:4; stroke-opacity:1; fill:none\" points=\"\n",
       "  394.017,1521.01 394.017,1503.32 \n",
       "  \"/>\n",
       "<polyline clip-path=\"url(#clip540)\" style=\"stroke:#000000; stroke-width:4; stroke-opacity:1; fill:none\" points=\"\n",
       "  879.815,1521.01 879.815,1503.32 \n",
       "  \"/>\n",
       "<polyline clip-path=\"url(#clip540)\" style=\"stroke:#000000; stroke-width:4; stroke-opacity:1; fill:none\" points=\"\n",
       "  1365.61,1521.01 1365.61,1503.32 \n",
       "  \"/>\n",
       "<polyline clip-path=\"url(#clip540)\" style=\"stroke:#000000; stroke-width:4; stroke-opacity:1; fill:none\" points=\"\n",
       "  1851.41,1521.01 1851.41,1503.32 \n",
       "  \"/>\n",
       "<polyline clip-path=\"url(#clip540)\" style=\"stroke:#000000; stroke-width:4; stroke-opacity:1; fill:none\" points=\"\n",
       "  2337.21,1521.01 2337.21,1503.32 \n",
       "  \"/>\n",
       "<polyline clip-path=\"url(#clip540)\" style=\"stroke:#000000; stroke-width:4; stroke-opacity:1; fill:none\" points=\"\n",
       "  86.9921,1372.35 114.181,1372.35 \n",
       "  \"/>\n",
       "<polyline clip-path=\"url(#clip540)\" style=\"stroke:#000000; stroke-width:4; stroke-opacity:1; fill:none\" points=\"\n",
       "  86.9921,1104.97 114.181,1104.97 \n",
       "  \"/>\n",
       "<polyline clip-path=\"url(#clip540)\" style=\"stroke:#000000; stroke-width:4; stroke-opacity:1; fill:none\" points=\"\n",
       "  86.9921,837.601 114.181,837.601 \n",
       "  \"/>\n",
       "<polyline clip-path=\"url(#clip540)\" style=\"stroke:#000000; stroke-width:4; stroke-opacity:1; fill:none\" points=\"\n",
       "  86.9921,570.227 114.181,570.227 \n",
       "  \"/>\n",
       "<polyline clip-path=\"url(#clip540)\" style=\"stroke:#000000; stroke-width:4; stroke-opacity:1; fill:none\" points=\"\n",
       "  86.9921,302.853 114.181,302.853 \n",
       "  \"/>\n",
       "<path clip-path=\"url(#clip540)\" d=\"M 0 0 M375.07 1559.6 L387.547 1559.6 L387.547 1563.39 L375.07 1563.39 L375.07 1559.6 Z\" fill=\"#000000\" fill-rule=\"evenodd\" fill-opacity=\"1\" /><path clip-path=\"url(#clip540)\" d=\"M 0 0 M396.644 1570.54 L412.963 1570.54 L412.963 1574.48 L391.019 1574.48 L391.019 1570.54 Q393.681 1567.79 398.264 1563.16 Q402.871 1558.51 404.051 1557.17 Q406.297 1554.64 407.176 1552.91 Q408.079 1551.15 408.079 1549.46 Q408.079 1546.7 406.135 1544.97 Q404.213 1543.23 401.112 1543.23 Q398.913 1543.23 396.459 1543.99 Q394.028 1544.76 391.251 1546.31 L391.251 1541.59 Q394.075 1540.45 396.528 1539.87 Q398.982 1539.29 401.019 1539.29 Q406.389 1539.29 409.584 1541.98 Q412.778 1544.67 412.778 1549.16 Q412.778 1551.29 411.968 1553.21 Q411.181 1555.1 409.075 1557.7 Q408.496 1558.37 405.394 1561.59 Q402.292 1564.78 396.644 1570.54 Z\" fill=\"#000000\" fill-rule=\"evenodd\" fill-opacity=\"1\" /><path clip-path=\"url(#clip540)\" d=\"M 0 0 M860.683 1559.6 L873.16 1559.6 L873.16 1563.39 L860.683 1563.39 L860.683 1559.6 Z\" fill=\"#000000\" fill-rule=\"evenodd\" fill-opacity=\"1\" /><path clip-path=\"url(#clip540)\" d=\"M 0 0 M879.04 1570.54 L886.679 1570.54 L886.679 1544.18 L878.368 1545.85 L878.368 1541.59 L886.632 1539.92 L891.308 1539.92 L891.308 1570.54 L898.947 1570.54 L898.947 1574.48 L879.04 1574.48 L879.04 1570.54 Z\" fill=\"#000000\" fill-rule=\"evenodd\" fill-opacity=\"1\" /><path clip-path=\"url(#clip540)\" d=\"M 0 0 M1365.61 1543 Q1362 1543 1360.17 1546.56 Q1358.37 1550.11 1358.37 1557.23 Q1358.37 1564.34 1360.17 1567.91 Q1362 1571.45 1365.61 1571.45 Q1369.25 1571.45 1371.05 1567.91 Q1372.88 1564.34 1372.88 1557.23 Q1372.88 1550.11 1371.05 1546.56 Q1369.25 1543 1365.61 1543 M1365.61 1539.29 Q1371.42 1539.29 1374.48 1543.9 Q1377.56 1548.48 1377.56 1557.23 Q1377.56 1565.96 1374.48 1570.57 Q1371.42 1575.15 1365.61 1575.15 Q1359.8 1575.15 1356.72 1570.57 Q1353.67 1565.96 1353.67 1557.23 Q1353.67 1548.48 1356.72 1543.9 Q1359.8 1539.29 1365.61 1539.29 Z\" fill=\"#000000\" fill-rule=\"evenodd\" fill-opacity=\"1\" /><path clip-path=\"url(#clip540)\" d=\"M 0 0 M1841.79 1570.54 L1849.43 1570.54 L1849.43 1544.18 L1841.12 1545.85 L1841.12 1541.59 L1849.39 1539.92 L1854.06 1539.92 L1854.06 1570.54 L1861.7 1570.54 L1861.7 1574.48 L1841.79 1574.48 L1841.79 1570.54 Z\" fill=\"#000000\" fill-rule=\"evenodd\" fill-opacity=\"1\" /><path clip-path=\"url(#clip540)\" d=\"M 0 0 M2331.86 1570.54 L2348.18 1570.54 L2348.18 1574.48 L2326.24 1574.48 L2326.24 1570.54 Q2328.9 1567.79 2333.48 1563.16 Q2338.09 1558.51 2339.27 1557.17 Q2341.52 1554.64 2342.4 1552.91 Q2343.3 1551.15 2343.3 1549.46 Q2343.3 1546.7 2341.35 1544.97 Q2339.43 1543.23 2336.33 1543.23 Q2334.13 1543.23 2331.68 1543.99 Q2329.25 1544.76 2326.47 1546.31 L2326.47 1541.59 Q2329.29 1540.45 2331.75 1539.87 Q2334.2 1539.29 2336.24 1539.29 Q2341.61 1539.29 2344.8 1541.98 Q2348 1544.67 2348 1549.16 Q2348 1551.29 2347.19 1553.21 Q2346.4 1555.1 2344.29 1557.7 Q2343.71 1558.37 2340.61 1561.59 Q2337.51 1564.78 2331.86 1570.54 Z\" fill=\"#000000\" fill-rule=\"evenodd\" fill-opacity=\"1\" /><path clip-path=\"url(#clip540)\" d=\"M 0 0 M-11.2436 1374.74 L1.2332 1374.74 L1.2332 1378.54 L-11.2436 1378.54 L-11.2436 1374.74 Z\" fill=\"#000000\" fill-rule=\"evenodd\" fill-opacity=\"1\" /><path clip-path=\"url(#clip540)\" d=\"M 0 0 M7.1128 1385.69 L14.7516 1385.69 L14.7516 1359.33 L6.4415 1360.99 L6.4415 1356.73 L14.7053 1355.07 L19.3812 1355.07 L19.3812 1385.69 L27.0201 1385.69 L27.0201 1389.63 L7.1128 1389.63 L7.1128 1385.69 Z\" fill=\"#000000\" fill-rule=\"evenodd\" fill-opacity=\"1\" /><path clip-path=\"url(#clip540)\" d=\"M 0 0 M32.0895 1383.75 L36.9737 1383.75 L36.9737 1389.63 L32.0895 1389.63 L32.0895 1383.75 Z\" fill=\"#000000\" fill-rule=\"evenodd\" fill-opacity=\"1\" /><path clip-path=\"url(#clip540)\" d=\"M 0 0 M42.0895 1355.07 L60.4458 1355.07 L60.4458 1359 L46.3718 1359 L46.3718 1367.48 Q47.3904 1367.13 48.4089 1366.97 Q49.4274 1366.78 50.4459 1366.78 Q56.2329 1366.78 59.6125 1369.95 Q62.9921 1373.12 62.9921 1378.54 Q62.9921 1384.12 59.5199 1387.22 Q56.0477 1390.3 49.7283 1390.3 Q47.5524 1390.3 45.2839 1389.93 Q43.0385 1389.56 40.6311 1388.82 L40.6311 1384.12 Q42.7145 1385.25 44.9367 1385.81 Q47.1589 1386.36 49.6357 1386.36 Q53.6403 1386.36 55.9783 1384.26 Q58.3162 1382.15 58.3162 1378.54 Q58.3162 1374.93 55.9783 1372.82 Q53.6403 1370.72 49.6357 1370.72 Q47.7607 1370.72 45.8857 1371.13 Q44.0339 1371.55 42.0895 1372.43 L42.0895 1355.07 Z\" fill=\"#000000\" fill-rule=\"evenodd\" fill-opacity=\"1\" /><path clip-path=\"url(#clip540)\" d=\"M 0 0 M-12.239 1107.37 L0.237833 1107.37 L0.237833 1111.17 L-12.239 1111.17 L-12.239 1107.37 Z\" fill=\"#000000\" fill-rule=\"evenodd\" fill-opacity=\"1\" /><path clip-path=\"url(#clip540)\" d=\"M 0 0 M6.11743 1118.32 L13.7563 1118.32 L13.7563 1091.95 L5.44614 1093.62 L5.44614 1089.36 L13.71 1087.69 L18.3859 1087.69 L18.3859 1118.32 L26.0247 1118.32 L26.0247 1122.25 L6.11743 1122.25 L6.11743 1118.32 Z\" fill=\"#000000\" fill-rule=\"evenodd\" fill-opacity=\"1\" /><path clip-path=\"url(#clip540)\" d=\"M 0 0 M31.0941 1116.37 L35.9784 1116.37 L35.9784 1122.25 L31.0941 1122.25 L31.0941 1116.37 Z\" fill=\"#000000\" fill-rule=\"evenodd\" fill-opacity=\"1\" /><path clip-path=\"url(#clip540)\" d=\"M 0 0 M51.0477 1090.77 Q47.4367 1090.77 45.608 1094.34 Q43.8024 1097.88 43.8024 1105.01 Q43.8024 1112.12 45.608 1115.68 Q47.4367 1119.22 51.0477 1119.22 Q54.682 1119.22 56.4875 1115.68 Q58.3162 1112.12 58.3162 1105.01 Q58.3162 1097.88 56.4875 1094.34 Q54.682 1090.77 51.0477 1090.77 M51.0477 1087.07 Q56.8579 1087.07 59.9134 1091.68 Q62.9921 1096.26 62.9921 1105.01 Q62.9921 1113.74 59.9134 1118.34 Q56.8579 1122.93 51.0477 1122.93 Q45.2376 1122.93 42.1589 1118.34 Q39.1034 1113.74 39.1034 1105.01 Q39.1034 1096.26 42.1589 1091.68 Q45.2376 1087.07 51.0477 1087.07 Z\" fill=\"#000000\" fill-rule=\"evenodd\" fill-opacity=\"1\" /><path clip-path=\"url(#clip540)\" d=\"M 0 0 M-12.4704 839.997 L0.00635237 839.997 L0.00635237 843.793 L-12.4704 843.793 L-12.4704 839.997 Z\" fill=\"#000000\" fill-rule=\"evenodd\" fill-opacity=\"1\" /><path clip-path=\"url(#clip540)\" d=\"M 0 0 M15.0757 823.399 Q11.4646 823.399 9.63593 826.964 Q7.83038 830.506 7.83038 837.635 Q7.83038 844.742 9.63593 848.307 Q11.4646 851.848 15.0757 851.848 Q18.71 851.848 20.5155 848.307 Q22.3442 844.742 22.3442 837.635 Q22.3442 830.506 20.5155 826.964 Q18.71 823.399 15.0757 823.399 M15.0757 819.696 Q20.8859 819.696 23.9414 824.302 Q27.0201 828.885 27.0201 837.635 Q27.0201 846.362 23.9414 850.969 Q20.8859 855.552 15.0757 855.552 Q9.26556 855.552 6.18687 850.969 Q3.13134 846.362 3.13134 837.635 Q3.13134 828.885 6.18687 824.302 Q9.26556 819.696 15.0757 819.696 Z\" fill=\"#000000\" fill-rule=\"evenodd\" fill-opacity=\"1\" /><path clip-path=\"url(#clip540)\" d=\"M 0 0 M32.0895 849.001 L36.9737 849.001 L36.9737 854.881 L32.0895 854.881 L32.0895 849.001 Z\" fill=\"#000000\" fill-rule=\"evenodd\" fill-opacity=\"1\" /><path clip-path=\"url(#clip540)\" d=\"M 0 0 M42.0895 820.321 L60.4458 820.321 L60.4458 824.256 L46.3718 824.256 L46.3718 832.728 Q47.3904 832.381 48.4089 832.219 Q49.4274 832.034 50.4459 832.034 Q56.2329 832.034 59.6125 835.205 Q62.9921 838.376 62.9921 843.793 Q62.9921 849.371 59.5199 852.473 Q56.0477 855.552 49.7283 855.552 Q47.5524 855.552 45.2839 855.182 Q43.0385 854.811 40.6311 854.071 L40.6311 849.371 Q42.7145 850.506 44.9367 851.061 Q47.1589 851.617 49.6357 851.617 Q53.6403 851.617 55.9783 849.51 Q58.3162 847.404 58.3162 843.793 Q58.3162 840.182 55.9783 838.075 Q53.6403 835.969 49.6357 835.969 Q47.7607 835.969 45.8857 836.385 Q44.0339 836.802 42.0895 837.682 L42.0895 820.321 Z\" fill=\"#000000\" fill-rule=\"evenodd\" fill-opacity=\"1\" /><path clip-path=\"url(#clip540)\" d=\"M 0 0 M14.0804 556.026 Q10.4693 556.026 8.64057 559.591 Q6.83502 563.132 6.83502 570.262 Q6.83502 577.368 8.64057 580.933 Q10.4693 584.475 14.0804 584.475 Q17.7146 584.475 19.5201 580.933 Q21.3488 577.368 21.3488 570.262 Q21.3488 563.132 19.5201 559.591 Q17.7146 556.026 14.0804 556.026 M14.0804 552.322 Q19.8905 552.322 22.946 556.928 Q26.0247 561.512 26.0247 570.262 Q26.0247 578.989 22.946 583.595 Q19.8905 588.178 14.0804 588.178 Q8.2702 588.178 5.19151 583.595 Q2.13597 578.989 2.13597 570.262 Q2.13597 561.512 5.19151 556.928 Q8.2702 552.322 14.0804 552.322 Z\" fill=\"#000000\" fill-rule=\"evenodd\" fill-opacity=\"1\" /><path clip-path=\"url(#clip540)\" d=\"M 0 0 M31.0941 581.627 L35.9784 581.627 L35.9784 587.507 L31.0941 587.507 L31.0941 581.627 Z\" fill=\"#000000\" fill-rule=\"evenodd\" fill-opacity=\"1\" /><path clip-path=\"url(#clip540)\" d=\"M 0 0 M51.0477 556.026 Q47.4367 556.026 45.608 559.591 Q43.8024 563.132 43.8024 570.262 Q43.8024 577.368 45.608 580.933 Q47.4367 584.475 51.0477 584.475 Q54.682 584.475 56.4875 580.933 Q58.3162 577.368 58.3162 570.262 Q58.3162 563.132 56.4875 559.591 Q54.682 556.026 51.0477 556.026 M51.0477 552.322 Q56.8579 552.322 59.9134 556.928 Q62.9921 561.512 62.9921 570.262 Q62.9921 578.989 59.9134 583.595 Q56.8579 588.178 51.0477 588.178 Q45.2376 588.178 42.1589 583.595 Q39.1034 578.989 39.1034 570.262 Q39.1034 561.512 42.1589 556.928 Q45.2376 552.322 51.0477 552.322 Z\" fill=\"#000000\" fill-rule=\"evenodd\" fill-opacity=\"1\" /><path clip-path=\"url(#clip540)\" d=\"M 0 0 M15.0757 288.652 Q11.4646 288.652 9.63593 292.217 Q7.83038 295.758 7.83038 302.888 Q7.83038 309.995 9.63593 313.559 Q11.4646 317.101 15.0757 317.101 Q18.71 317.101 20.5155 313.559 Q22.3442 309.995 22.3442 302.888 Q22.3442 295.758 20.5155 292.217 Q18.71 288.652 15.0757 288.652 M15.0757 284.948 Q20.8859 284.948 23.9414 289.555 Q27.0201 294.138 27.0201 302.888 Q27.0201 311.615 23.9414 316.221 Q20.8859 320.805 15.0757 320.805 Q9.26556 320.805 6.18687 316.221 Q3.13134 311.615 3.13134 302.888 Q3.13134 294.138 6.18687 289.555 Q9.26556 284.948 15.0757 284.948 Z\" fill=\"#000000\" fill-rule=\"evenodd\" fill-opacity=\"1\" /><path clip-path=\"url(#clip540)\" d=\"M 0 0 M32.0895 314.254 L36.9737 314.254 L36.9737 320.133 L32.0895 320.133 L32.0895 314.254 Z\" fill=\"#000000\" fill-rule=\"evenodd\" fill-opacity=\"1\" /><path clip-path=\"url(#clip540)\" d=\"M 0 0 M42.0895 285.573 L60.4458 285.573 L60.4458 289.509 L46.3718 289.509 L46.3718 297.981 Q47.3904 297.633 48.4089 297.471 Q49.4274 297.286 50.4459 297.286 Q56.2329 297.286 59.6125 300.458 Q62.9921 303.629 62.9921 309.045 Q62.9921 314.624 59.5199 317.726 Q56.0477 320.805 49.7283 320.805 Q47.5524 320.805 45.2839 320.434 Q43.0385 320.064 40.6311 319.323 L40.6311 314.624 Q42.7145 315.758 44.9367 316.314 Q47.1589 316.869 49.6357 316.869 Q53.6403 316.869 55.9783 314.763 Q58.3162 312.657 58.3162 309.045 Q58.3162 305.434 55.9783 303.328 Q53.6403 301.221 49.6357 301.221 Q47.7607 301.221 45.8857 301.638 Q44.0339 302.055 42.0895 302.934 L42.0895 285.573 Z\" fill=\"#000000\" fill-rule=\"evenodd\" fill-opacity=\"1\" /><path clip-path=\"url(#clip542)\" d=\"\n",
       "M442.597 1479.3 L491.176 302.853 L2191.47 195.904 L2288.63 730.651 L1802.83 1158.45 L442.597 1479.3 L442.597 1479.3  Z\n",
       "  \" fill=\"#0000ff\" fill-rule=\"evenodd\" fill-opacity=\"0.2\"/>\n",
       "<polyline clip-path=\"url(#clip542)\" style=\"stroke:#000000; stroke-width:4; stroke-opacity:0.2; fill:none\" points=\"\n",
       "  442.597,1479.3 491.176,302.853 2191.47,195.904 2288.63,730.651 1802.83,1158.45 442.597,1479.3 \n",
       "  \"/>\n",
       "<path clip-path=\"url(#clip542)\" d=\"\n",
       "M151.118 1158.45 L976.975 142.429 L1414.19 88.9544 L1997.15 516.752 L2240.05 1211.92 L151.118 1158.45 L151.118 1158.45  Z\n",
       "  \" fill=\"#ff0000\" fill-rule=\"evenodd\" fill-opacity=\"0.2\"/>\n",
       "<polyline clip-path=\"url(#clip542)\" style=\"stroke:#000000; stroke-width:4; stroke-opacity:0.2; fill:none\" points=\"\n",
       "  151.118,1158.45 976.975,142.429 1414.19,88.9544 1997.15,516.752 2240.05,1211.92 151.118,1158.45 \n",
       "  \"/>\n",
       "<path clip-path=\"url(#clip542)\" d=\"\n",
       "M455.524 1166.24 L472.155 763.489 L865.726 279.294 L1609.79 232.492 L1997.15 516.752 L2122.89 876.606 L1802.83 1158.45 L1641.13 1196.59 L455.524 1166.24 L455.524 1166.24 \n",
       "   Z\n",
       "  \" fill=\"#ffff00\" fill-rule=\"evenodd\" fill-opacity=\"0.6\"/>\n",
       "<polyline clip-path=\"url(#clip542)\" style=\"stroke:#000000; stroke-width:4; stroke-opacity:0.6; fill:none\" points=\"\n",
       "  455.524,1166.24 472.155,763.489 865.726,279.294 1609.79,232.492 1997.15,516.752 2122.89,876.606 1802.83,1158.45 1641.13,1196.59 455.524,1166.24 \n",
       "  \n",
       "  \"/>\n",
       "</svg>\n"
      ]
     },
     "metadata": {},
     "execution_count": 12
    }
   ],
   "cell_type": "code",
   "source": [
    "using Plots\n",
    "plot(P1, color=\"blue\", alpha=0.2)\n",
    "plot!(P2, color=\"red\", alpha=0.2)\n",
    "plot!(Pint, color=\"yellow\", alpha=0.6)"
   ],
   "metadata": {},
   "execution_count": 12
  },
  {
   "cell_type": "markdown",
   "source": [
    "---\n",
    "\n",
    "*This notebook was generated using [Literate.jl](https://github.com/fredrikekre/Literate.jl).*"
   ],
   "metadata": {}
  }
 ],
 "nbformat_minor": 3,
 "metadata": {
  "language_info": {
   "file_extension": ".jl",
   "mimetype": "application/julia",
   "name": "julia",
   "version": "1.0.5"
  },
  "kernelspec": {
   "name": "julia-1.0",
   "display_name": "Julia 1.0.5",
   "language": "julia"
  }
 },
 "nbformat": 4
}
