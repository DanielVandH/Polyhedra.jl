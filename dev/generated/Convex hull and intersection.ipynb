{
 "cells": [
  {
   "cell_type": "markdown",
   "source": [
    "These examples illustrate common operations on polyhedra using [Polyhedra.jl](https://github.com/JuliaPolyhedra/Polyhedra.jl):\n",
    "\n",
    "- The convex hull of the union of polytopes\n",
    "- The intersection of polytopes\n",
    "\n",
    "We start by choosing a polyhedral library that will be used for computing the H-representation from the V-representation and vice-versa as well as removing redundant points.\n",
    "In these example, we use the default library available in Polyhedra but it can be replaced by any other library listed [here](https://juliapolyhedra.github.io/), e.g. by changing the last two lines below by `import CDDLib` and `lib = CDDLib.Library()` to use [CDDLib](https://github.com/JuliaPolyhedra/CDDLib.jl)."
   ],
   "metadata": {}
  },
  {
   "outputs": [
    {
     "output_type": "execute_result",
     "data": {
      "text/plain": "DefaultLibrary{Float64}(GLPK.Optimizer)"
     },
     "metadata": {},
     "execution_count": 1
    }
   ],
   "cell_type": "code",
   "source": [
    "using Polyhedra\n",
    "import GLPK\n",
    "lib = DefaultLibrary{Float64}(GLPK.Optimizer)"
   ],
   "metadata": {},
   "execution_count": 1
  },
  {
   "cell_type": "markdown",
   "source": [
    "### Convex hull\n",
    "\n",
    "The binary convex hull operation between two polyhedra is obtained with the [`convexhull`](https://juliapolyhedra.github.io/Polyhedra.jl/latest/utilities.html#Polyhedra.convexhull) function.\n",
    "\n",
    "Below we compute the convex hull of the union of two polygons from their V-representation."
   ],
   "metadata": {}
  },
  {
   "outputs": [
    {
     "output_type": "execute_result",
     "data": {
      "text/plain": "Polyhedron DefaultPolyhedron{Float64,MixedMatHRep{Float64,Array{Float64,2}},MixedMatVRep{Float64,Array{Float64,2}}}:\n10-element iterator of Array{Float64,1}:\n [-1.9, -1.7]\n [-1.8, 0.5]\n [1.7, 0.7]\n [1.9, -0.3]\n [0.9, -1.1]\n [-2.5, -1.1]\n [-0.8, 0.8]\n [0.1, 0.9]\n [1.8, -1.2]\n [1.3, 0.1]"
     },
     "metadata": {},
     "execution_count": 2
    }
   ],
   "cell_type": "code",
   "source": [
    "P1 = polyhedron(vrep([\n",
    "    -1.9 -1.7\n",
    "    -1.8  0.5\n",
    "     1.7  0.7\n",
    "     1.9 -0.3\n",
    "     0.9 -1.1\n",
    "]), lib)\n",
    "\n",
    "P2 = polyhedron(vrep([\n",
    "    -2.5 -1.1\n",
    "    -0.8  0.8\n",
    "     0.1  0.9\n",
    "     1.8 -1.2\n",
    "     1.3  0.1\n",
    "]), lib)\n",
    "\n",
    "Pch = convexhull(P1, P2)"
   ],
   "metadata": {},
   "execution_count": 2
  },
  {
   "cell_type": "markdown",
   "source": [
    "Note that the convex hull operation is done in the V-representation so no representation conversion is needed for this operation since `P1` and `P2` where constructed from their V-representation:"
   ],
   "metadata": {}
  },
  {
   "outputs": [
    {
     "output_type": "execute_result",
     "data": {
      "text/plain": "(false, false, false)"
     },
     "metadata": {},
     "execution_count": 3
    }
   ],
   "cell_type": "code",
   "source": [
    "hrepiscomputed(P1), hrepiscomputed(P2), hrepiscomputed(Pch)"
   ],
   "metadata": {},
   "execution_count": 3
  },
  {
   "cell_type": "markdown",
   "source": [
    "Let us note that the `convexhull` of a V-representation contains points and rays and represents the convex hull of the points together with the conic hull of the rays. So, `convexhull(P1, P2)` does the union of the vertices:"
   ],
   "metadata": {}
  },
  {
   "outputs": [
    {
     "output_type": "execute_result",
     "data": {
      "text/plain": "10"
     },
     "metadata": {},
     "execution_count": 4
    }
   ],
   "cell_type": "code",
   "source": [
    "npoints(Pch)"
   ],
   "metadata": {},
   "execution_count": 4
  },
  {
   "cell_type": "markdown",
   "source": [
    "However, if we want to remove the redundant points we can use `removevredundancy!`:"
   ],
   "metadata": {}
  },
  {
   "outputs": [
    {
     "output_type": "execute_result",
     "data": {
      "text/plain": "8"
     },
     "metadata": {},
     "execution_count": 5
    }
   ],
   "cell_type": "code",
   "source": [
    "removevredundancy!(Pch)\n",
    "npoints(Pch)"
   ],
   "metadata": {},
   "execution_count": 5
  },
  {
   "cell_type": "markdown",
   "source": [
    "We can plot the polygons and the convex hull of their union using the `plot` function. For further plotting options see the [Plots.jl](http://docs.juliaplots.org/latest/) documentation.\n",
    "We can see below the 8 redundant points highlighted with green dots, the two points that are not highlighted are the redundant ones."
   ],
   "metadata": {}
  },
  {
   "outputs": [
    {
     "output_type": "execute_result",
     "data": {
      "text/plain": "Plot{Plots.GRBackend() n=4}",
      "image/png": "[encoded data removed]",
      "text/html": [
       "<?xml version=\"1.0\" encoding=\"utf-8\"?>\n",
       "<svg xmlns=\"http://www.w3.org/2000/svg\" xmlns:xlink=\"http://www.w3.org/1999/xlink\" width=\"600\" height=\"400\" viewBox=\"0 0 2400 1600\">\n",
       "<defs>\n",
       "  <clipPath id=\"clip710\">\n",
       "    <rect x=\"0\" y=\"0\" width=\"2400\" height=\"1600\"/>\n",
       "  </clipPath>\n",
       "</defs>\n",
       "<path clip-path=\"url(#clip710)\" d=\"\n",
       "M0 1600 L2400 1600 L2400 0 L0 0  Z\n",
       "  \" fill=\"#ffffff\" fill-rule=\"evenodd\" fill-opacity=\"1\"/>\n",
       "<defs>\n",
       "  <clipPath id=\"clip711\">\n",
       "    <rect x=\"480\" y=\"0\" width=\"1681\" height=\"1600\"/>\n",
       "  </clipPath>\n",
       "</defs>\n",
       "<path clip-path=\"url(#clip710)\" d=\"\n",
       "M86.9921 1521.01 L2352.76 1521.01 L2352.76 47.2441 L86.9921 47.2441  Z\n",
       "  \" fill=\"#ffffff\" fill-rule=\"evenodd\" fill-opacity=\"1\"/>\n",
       "<defs>\n",
       "  <clipPath id=\"clip712\">\n",
       "    <rect x=\"86\" y=\"47\" width=\"2267\" height=\"1475\"/>\n",
       "  </clipPath>\n",
       "</defs>\n",
       "<polyline clip-path=\"url(#clip712)\" style=\"stroke:#000000; stroke-width:2; stroke-opacity:0.1; fill:none\" points=\"\n",
       "  394.017,1521.01 394.017,47.2441 \n",
       "  \"/>\n",
       "<polyline clip-path=\"url(#clip712)\" style=\"stroke:#000000; stroke-width:2; stroke-opacity:0.1; fill:none\" points=\"\n",
       "  879.815,1521.01 879.815,47.2441 \n",
       "  \"/>\n",
       "<polyline clip-path=\"url(#clip712)\" style=\"stroke:#000000; stroke-width:2; stroke-opacity:0.1; fill:none\" points=\"\n",
       "  1365.61,1521.01 1365.61,47.2441 \n",
       "  \"/>\n",
       "<polyline clip-path=\"url(#clip712)\" style=\"stroke:#000000; stroke-width:2; stroke-opacity:0.1; fill:none\" points=\"\n",
       "  1851.41,1521.01 1851.41,47.2441 \n",
       "  \"/>\n",
       "<polyline clip-path=\"url(#clip712)\" style=\"stroke:#000000; stroke-width:2; stroke-opacity:0.1; fill:none\" points=\"\n",
       "  2337.21,1521.01 2337.21,47.2441 \n",
       "  \"/>\n",
       "<polyline clip-path=\"url(#clip710)\" style=\"stroke:#000000; stroke-width:4; stroke-opacity:1; fill:none\" points=\"\n",
       "  86.9921,1521.01 2352.76,1521.01 \n",
       "  \"/>\n",
       "<polyline clip-path=\"url(#clip710)\" style=\"stroke:#000000; stroke-width:4; stroke-opacity:1; fill:none\" points=\"\n",
       "  394.017,1521.01 394.017,1503.32 \n",
       "  \"/>\n",
       "<polyline clip-path=\"url(#clip710)\" style=\"stroke:#000000; stroke-width:4; stroke-opacity:1; fill:none\" points=\"\n",
       "  879.815,1521.01 879.815,1503.32 \n",
       "  \"/>\n",
       "<polyline clip-path=\"url(#clip710)\" style=\"stroke:#000000; stroke-width:4; stroke-opacity:1; fill:none\" points=\"\n",
       "  1365.61,1521.01 1365.61,1503.32 \n",
       "  \"/>\n",
       "<polyline clip-path=\"url(#clip710)\" style=\"stroke:#000000; stroke-width:4; stroke-opacity:1; fill:none\" points=\"\n",
       "  1851.41,1521.01 1851.41,1503.32 \n",
       "  \"/>\n",
       "<polyline clip-path=\"url(#clip710)\" style=\"stroke:#000000; stroke-width:4; stroke-opacity:1; fill:none\" points=\"\n",
       "  2337.21,1521.01 2337.21,1503.32 \n",
       "  \"/>\n",
       "<path clip-path=\"url(#clip710)\" d=\"M 0 0 M366.471 1564.85 L396.146 1564.85 L396.146 1568.79 L366.471 1568.79 L366.471 1564.85 Z\" fill=\"#000000\" fill-rule=\"evenodd\" fill-opacity=\"1\" /><path clip-path=\"url(#clip710)\" d=\"M 0 0 M405.244 1577.74 L421.563 1577.74 L421.563 1581.68 L399.619 1581.68 L399.619 1577.74 Q402.281 1574.99 406.864 1570.36 Q411.47 1565.71 412.651 1564.37 Q414.896 1561.84 415.776 1560.11 Q416.679 1558.35 416.679 1556.66 Q416.679 1553.9 414.734 1552.17 Q412.813 1550.43 409.711 1550.43 Q407.512 1550.43 405.058 1551.19 Q402.628 1551.96 399.85 1553.51 L399.85 1548.79 Q402.674 1547.65 405.128 1547.07 Q407.581 1546.49 409.618 1546.49 Q414.989 1546.49 418.183 1549.18 Q421.378 1551.87 421.378 1556.36 Q421.378 1558.49 420.568 1560.41 Q419.78 1562.3 417.674 1564.9 Q417.095 1565.57 413.993 1568.79 Q410.892 1571.98 405.244 1577.74 Z\" fill=\"#000000\" fill-rule=\"evenodd\" fill-opacity=\"1\" /><path clip-path=\"url(#clip710)\" d=\"M 0 0 M852.084 1564.85 L881.76 1564.85 L881.76 1568.79 L852.084 1568.79 L852.084 1564.85 Z\" fill=\"#000000\" fill-rule=\"evenodd\" fill-opacity=\"1\" /><path clip-path=\"url(#clip710)\" d=\"M 0 0 M887.639 1577.74 L895.278 1577.74 L895.278 1551.38 L886.968 1553.05 L886.968 1548.79 L895.232 1547.12 L899.908 1547.12 L899.908 1577.74 L907.546 1577.74 L907.546 1581.68 L887.639 1581.68 L887.639 1577.74 Z\" fill=\"#000000\" fill-rule=\"evenodd\" fill-opacity=\"1\" /><path clip-path=\"url(#clip710)\" d=\"M 0 0 M1365.61 1550.2 Q1362 1550.2 1360.17 1553.76 Q1358.37 1557.31 1358.37 1564.43 Q1358.37 1571.54 1360.17 1575.11 Q1362 1578.65 1365.61 1578.65 Q1369.25 1578.65 1371.05 1575.11 Q1372.88 1571.54 1372.88 1564.43 Q1372.88 1557.31 1371.05 1553.76 Q1369.25 1550.2 1365.61 1550.2 M1365.61 1546.49 Q1371.42 1546.49 1374.48 1551.1 Q1377.56 1555.68 1377.56 1564.43 Q1377.56 1573.16 1374.48 1577.77 Q1371.42 1582.35 1365.61 1582.35 Q1359.8 1582.35 1356.72 1577.77 Q1353.67 1573.16 1353.67 1564.43 Q1353.67 1555.68 1356.72 1551.1 Q1359.8 1546.49 1365.61 1546.49 Z\" fill=\"#000000\" fill-rule=\"evenodd\" fill-opacity=\"1\" /><path clip-path=\"url(#clip710)\" d=\"M 0 0 M1841.79 1577.74 L1849.43 1577.74 L1849.43 1551.38 L1841.12 1553.05 L1841.12 1548.79 L1849.39 1547.12 L1854.06 1547.12 L1854.06 1577.74 L1861.7 1577.74 L1861.7 1581.68 L1841.79 1581.68 L1841.79 1577.74 Z\" fill=\"#000000\" fill-rule=\"evenodd\" fill-opacity=\"1\" /><path clip-path=\"url(#clip710)\" d=\"M 0 0 M2331.86 1577.74 L2348.18 1577.74 L2348.18 1581.68 L2326.24 1581.68 L2326.24 1577.74 Q2328.9 1574.99 2333.48 1570.36 Q2338.09 1565.71 2339.27 1564.37 Q2341.52 1561.84 2342.4 1560.11 Q2343.3 1558.35 2343.3 1556.66 Q2343.3 1553.9 2341.35 1552.17 Q2339.43 1550.43 2336.33 1550.43 Q2334.13 1550.43 2331.68 1551.19 Q2329.25 1551.96 2326.47 1553.51 L2326.47 1548.79 Q2329.29 1547.65 2331.75 1547.07 Q2334.2 1546.49 2336.24 1546.49 Q2341.61 1546.49 2344.8 1549.18 Q2348 1551.87 2348 1556.36 Q2348 1558.49 2347.19 1560.41 Q2346.4 1562.3 2344.29 1564.9 Q2343.71 1565.57 2340.61 1568.79 Q2337.51 1571.98 2331.86 1577.74 Z\" fill=\"#000000\" fill-rule=\"evenodd\" fill-opacity=\"1\" /><polyline clip-path=\"url(#clip712)\" style=\"stroke:#000000; stroke-width:2; stroke-opacity:0.1; fill:none\" points=\"\n",
       "  86.9921,1372.35 2352.76,1372.35 \n",
       "  \"/>\n",
       "<polyline clip-path=\"url(#clip712)\" style=\"stroke:#000000; stroke-width:2; stroke-opacity:0.1; fill:none\" points=\"\n",
       "  86.9921,1104.97 2352.76,1104.97 \n",
       "  \"/>\n",
       "<polyline clip-path=\"url(#clip712)\" style=\"stroke:#000000; stroke-width:2; stroke-opacity:0.1; fill:none\" points=\"\n",
       "  86.9921,837.601 2352.76,837.601 \n",
       "  \"/>\n",
       "<polyline clip-path=\"url(#clip712)\" style=\"stroke:#000000; stroke-width:2; stroke-opacity:0.1; fill:none\" points=\"\n",
       "  86.9921,570.227 2352.76,570.227 \n",
       "  \"/>\n",
       "<polyline clip-path=\"url(#clip712)\" style=\"stroke:#000000; stroke-width:2; stroke-opacity:0.1; fill:none\" points=\"\n",
       "  86.9921,302.853 2352.76,302.853 \n",
       "  \"/>\n",
       "<polyline clip-path=\"url(#clip710)\" style=\"stroke:#000000; stroke-width:4; stroke-opacity:1; fill:none\" points=\"\n",
       "  86.9921,1521.01 86.9921,47.2441 \n",
       "  \"/>\n",
       "<polyline clip-path=\"url(#clip710)\" style=\"stroke:#000000; stroke-width:4; stroke-opacity:1; fill:none\" points=\"\n",
       "  86.9921,1372.35 114.181,1372.35 \n",
       "  \"/>\n",
       "<polyline clip-path=\"url(#clip710)\" style=\"stroke:#000000; stroke-width:4; stroke-opacity:1; fill:none\" points=\"\n",
       "  86.9921,1104.97 114.181,1104.97 \n",
       "  \"/>\n",
       "<polyline clip-path=\"url(#clip710)\" style=\"stroke:#000000; stroke-width:4; stroke-opacity:1; fill:none\" points=\"\n",
       "  86.9921,837.601 114.181,837.601 \n",
       "  \"/>\n",
       "<polyline clip-path=\"url(#clip710)\" style=\"stroke:#000000; stroke-width:4; stroke-opacity:1; fill:none\" points=\"\n",
       "  86.9921,570.227 114.181,570.227 \n",
       "  \"/>\n",
       "<polyline clip-path=\"url(#clip710)\" style=\"stroke:#000000; stroke-width:4; stroke-opacity:1; fill:none\" points=\"\n",
       "  86.9921,302.853 114.181,302.853 \n",
       "  \"/>\n",
       "<path clip-path=\"url(#clip710)\" d=\"M 0 0 M-40.4426 1372.8 L-10.7668 1372.8 L-10.7668 1376.73 L-40.4426 1376.73 L-40.4426 1372.8 Z\" fill=\"#000000\" fill-rule=\"evenodd\" fill-opacity=\"1\" /><path clip-path=\"url(#clip710)\" d=\"M 0 0 M-4.8872 1385.69 L2.75164 1385.69 L2.75164 1359.33 L-5.5585 1360.99 L-5.5585 1356.73 L2.70535 1355.07 L7.38125 1355.07 L7.38125 1385.69 L15.0201 1385.69 L15.0201 1389.63 L-4.8872 1389.63 L-4.8872 1385.69 Z\" fill=\"#000000\" fill-rule=\"evenodd\" fill-opacity=\"1\" /><path clip-path=\"url(#clip710)\" d=\"M 0 0 M20.0895 1383.75 L24.9737 1383.75 L24.9737 1389.63 L20.0895 1389.63 L20.0895 1383.75 Z\" fill=\"#000000\" fill-rule=\"evenodd\" fill-opacity=\"1\" /><path clip-path=\"url(#clip710)\" d=\"M 0 0 M30.0895 1355.07 L48.4458 1355.07 L48.4458 1359 L34.3718 1359 L34.3718 1367.48 Q35.3904 1367.13 36.4089 1366.97 Q37.4274 1366.78 38.4459 1366.78 Q44.2329 1366.78 47.6125 1369.95 Q50.9921 1373.12 50.9921 1378.54 Q50.9921 1384.12 47.5199 1387.22 Q44.0477 1390.3 37.7283 1390.3 Q35.5524 1390.3 33.2839 1389.93 Q31.0385 1389.56 28.6311 1388.82 L28.6311 1384.12 Q30.7145 1385.25 32.9367 1385.81 Q35.1589 1386.36 37.6357 1386.36 Q41.6403 1386.36 43.9783 1384.26 Q46.3162 1382.15 46.3162 1378.54 Q46.3162 1374.93 43.9783 1372.82 Q41.6403 1370.72 37.6357 1370.72 Q35.7607 1370.72 33.8857 1371.13 Q32.0339 1371.55 30.0895 1372.43 L30.0895 1355.07 Z\" fill=\"#000000\" fill-rule=\"evenodd\" fill-opacity=\"1\" /><path clip-path=\"url(#clip710)\" d=\"M 0 0 M-41.4379 1105.43 L-11.7622 1105.43 L-11.7622 1109.36 L-41.4379 1109.36 L-41.4379 1105.43 Z\" fill=\"#000000\" fill-rule=\"evenodd\" fill-opacity=\"1\" /><path clip-path=\"url(#clip710)\" d=\"M 0 0 M-5.88257 1118.32 L1.75628 1118.32 L1.75628 1091.95 L-6.55386 1093.62 L-6.55386 1089.36 L1.70998 1087.69 L6.38588 1087.69 L6.38588 1118.32 L14.0247 1118.32 L14.0247 1122.25 L-5.88257 1122.25 L-5.88257 1118.32 Z\" fill=\"#000000\" fill-rule=\"evenodd\" fill-opacity=\"1\" /><path clip-path=\"url(#clip710)\" d=\"M 0 0 M19.0941 1116.37 L23.9784 1116.37 L23.9784 1122.25 L19.0941 1122.25 L19.0941 1116.37 Z\" fill=\"#000000\" fill-rule=\"evenodd\" fill-opacity=\"1\" /><path clip-path=\"url(#clip710)\" d=\"M 0 0 M39.0477 1090.77 Q35.4367 1090.77 33.608 1094.34 Q31.8024 1097.88 31.8024 1105.01 Q31.8024 1112.12 33.608 1115.68 Q35.4367 1119.22 39.0477 1119.22 Q42.682 1119.22 44.4875 1115.68 Q46.3162 1112.12 46.3162 1105.01 Q46.3162 1097.88 44.4875 1094.34 Q42.682 1090.77 39.0477 1090.77 M39.0477 1087.07 Q44.8579 1087.07 47.9134 1091.68 Q50.9921 1096.26 50.9921 1105.01 Q50.9921 1113.74 47.9134 1118.34 Q44.8579 1122.93 39.0477 1122.93 Q33.2376 1122.93 30.1589 1118.34 Q27.1034 1113.74 27.1034 1105.01 Q27.1034 1096.26 30.1589 1091.68 Q33.2376 1087.07 39.0477 1087.07 Z\" fill=\"#000000\" fill-rule=\"evenodd\" fill-opacity=\"1\" /><path clip-path=\"url(#clip710)\" d=\"M 0 0 M-41.6694 838.052 L-11.9936 838.052 L-11.9936 841.987 L-41.6694 841.987 L-41.6694 838.052 Z\" fill=\"#000000\" fill-rule=\"evenodd\" fill-opacity=\"1\" /><path clip-path=\"url(#clip710)\" d=\"M 0 0 M3.07572 823.399 Q-0.535376 823.399 -2.36407 826.964 Q-4.16962 830.506 -4.16962 837.635 Q-4.16962 844.742 -2.36407 848.307 Q-0.535376 851.848 3.07572 851.848 Q6.70996 851.848 8.5155 848.307 Q10.3442 844.742 10.3442 837.635 Q10.3442 830.506 8.5155 826.964 Q6.70996 823.399 3.07572 823.399 M3.07572 819.696 Q8.88587 819.696 11.9414 824.302 Q15.0201 828.885 15.0201 837.635 Q15.0201 846.362 11.9414 850.969 Q8.88587 855.552 3.07572 855.552 Q-2.73444 855.552 -5.81313 850.969 Q-8.86866 846.362 -8.86866 837.635 Q-8.86866 828.885 -5.81313 824.302 Q-2.73444 819.696 3.07572 819.696 Z\" fill=\"#000000\" fill-rule=\"evenodd\" fill-opacity=\"1\" /><path clip-path=\"url(#clip710)\" d=\"M 0 0 M20.0895 849.001 L24.9737 849.001 L24.9737 854.881 L20.0895 854.881 L20.0895 849.001 Z\" fill=\"#000000\" fill-rule=\"evenodd\" fill-opacity=\"1\" /><path clip-path=\"url(#clip710)\" d=\"M 0 0 M30.0895 820.321 L48.4458 820.321 L48.4458 824.256 L34.3718 824.256 L34.3718 832.728 Q35.3904 832.381 36.4089 832.219 Q37.4274 832.034 38.4459 832.034 Q44.2329 832.034 47.6125 835.205 Q50.9921 838.376 50.9921 843.793 Q50.9921 849.371 47.5199 852.473 Q44.0477 855.552 37.7283 855.552 Q35.5524 855.552 33.2839 855.182 Q31.0385 854.811 28.6311 854.071 L28.6311 849.371 Q30.7145 850.506 32.9367 851.061 Q35.1589 851.617 37.6357 851.617 Q41.6403 851.617 43.9783 849.51 Q46.3162 847.404 46.3162 843.793 Q46.3162 840.182 43.9783 838.075 Q41.6403 835.969 37.6357 835.969 Q35.7607 835.969 33.8857 836.385 Q32.0339 836.802 30.0895 837.682 L30.0895 820.321 Z\" fill=\"#000000\" fill-rule=\"evenodd\" fill-opacity=\"1\" /><path clip-path=\"url(#clip710)\" d=\"M 0 0 M2.08035 556.026 Q-1.53074 556.026 -3.35943 559.591 Q-5.16498 563.132 -5.16498 570.262 Q-5.16498 577.368 -3.35943 580.933 Q-1.53074 584.475 2.08035 584.475 Q5.71459 584.475 7.52014 580.933 Q9.34883 577.368 9.34883 570.262 Q9.34883 563.132 7.52014 559.591 Q5.71459 556.026 2.08035 556.026 M2.08035 552.322 Q7.89051 552.322 10.946 556.928 Q14.0247 561.512 14.0247 570.262 Q14.0247 578.989 10.946 583.595 Q7.89051 588.178 2.08035 588.178 Q-3.7298 588.178 -6.80849 583.595 Q-9.86403 578.989 -9.86403 570.262 Q-9.86403 561.512 -6.80849 556.928 Q-3.7298 552.322 2.08035 552.322 Z\" fill=\"#000000\" fill-rule=\"evenodd\" fill-opacity=\"1\" /><path clip-path=\"url(#clip710)\" d=\"M 0 0 M19.0941 581.627 L23.9784 581.627 L23.9784 587.507 L19.0941 587.507 L19.0941 581.627 Z\" fill=\"#000000\" fill-rule=\"evenodd\" fill-opacity=\"1\" /><path clip-path=\"url(#clip710)\" d=\"M 0 0 M39.0477 556.026 Q35.4367 556.026 33.608 559.591 Q31.8024 563.132 31.8024 570.262 Q31.8024 577.368 33.608 580.933 Q35.4367 584.475 39.0477 584.475 Q42.682 584.475 44.4875 580.933 Q46.3162 577.368 46.3162 570.262 Q46.3162 563.132 44.4875 559.591 Q42.682 556.026 39.0477 556.026 M39.0477 552.322 Q44.8579 552.322 47.9134 556.928 Q50.9921 561.512 50.9921 570.262 Q50.9921 578.989 47.9134 583.595 Q44.8579 588.178 39.0477 588.178 Q33.2376 588.178 30.1589 583.595 Q27.1034 578.989 27.1034 570.262 Q27.1034 561.512 30.1589 556.928 Q33.2376 552.322 39.0477 552.322 Z\" fill=\"#000000\" fill-rule=\"evenodd\" fill-opacity=\"1\" /><path clip-path=\"url(#clip710)\" d=\"M 0 0 M3.07572 288.652 Q-0.535376 288.652 -2.36407 292.217 Q-4.16962 295.758 -4.16962 302.888 Q-4.16962 309.995 -2.36407 313.559 Q-0.535376 317.101 3.07572 317.101 Q6.70996 317.101 8.5155 313.559 Q10.3442 309.995 10.3442 302.888 Q10.3442 295.758 8.5155 292.217 Q6.70996 288.652 3.07572 288.652 M3.07572 284.948 Q8.88587 284.948 11.9414 289.555 Q15.0201 294.138 15.0201 302.888 Q15.0201 311.615 11.9414 316.221 Q8.88587 320.805 3.07572 320.805 Q-2.73444 320.805 -5.81313 316.221 Q-8.86866 311.615 -8.86866 302.888 Q-8.86866 294.138 -5.81313 289.555 Q-2.73444 284.948 3.07572 284.948 Z\" fill=\"#000000\" fill-rule=\"evenodd\" fill-opacity=\"1\" /><path clip-path=\"url(#clip710)\" d=\"M 0 0 M20.0895 314.254 L24.9737 314.254 L24.9737 320.133 L20.0895 320.133 L20.0895 314.254 Z\" fill=\"#000000\" fill-rule=\"evenodd\" fill-opacity=\"1\" /><path clip-path=\"url(#clip710)\" d=\"M 0 0 M30.0895 285.573 L48.4458 285.573 L48.4458 289.509 L34.3718 289.509 L34.3718 297.981 Q35.3904 297.633 36.4089 297.471 Q37.4274 297.286 38.4459 297.286 Q44.2329 297.286 47.6125 300.458 Q50.9921 303.629 50.9921 309.045 Q50.9921 314.624 47.5199 317.726 Q44.0477 320.805 37.7283 320.805 Q35.5524 320.805 33.2839 320.434 Q31.0385 320.064 28.6311 319.323 L28.6311 314.624 Q30.7145 315.758 32.9367 316.314 Q35.1589 316.869 37.6357 316.869 Q41.6403 316.869 43.9783 314.763 Q46.3162 312.657 46.3162 309.045 Q46.3162 305.434 43.9783 303.328 Q41.6403 301.221 37.6357 301.221 Q35.7607 301.221 33.8857 301.638 Q32.0339 302.055 30.0895 302.934 L30.0895 285.573 Z\" fill=\"#000000\" fill-rule=\"evenodd\" fill-opacity=\"1\" /><path clip-path=\"url(#clip712)\" d=\"\n",
       "M442.597 1479.3 L491.176 302.853 L2191.47 195.904 L2288.63 730.651 L1802.83 1158.45 L442.597 1479.3 L442.597 1479.3  Z\n",
       "  \" fill=\"#0000ff\" fill-rule=\"evenodd\" fill-opacity=\"0.2\"/>\n",
       "<polyline clip-path=\"url(#clip712)\" style=\"stroke:#000000; stroke-width:4; stroke-opacity:0.2; fill:none\" points=\"\n",
       "  442.597,1479.3 491.176,302.853 2191.47,195.904 2288.63,730.651 1802.83,1158.45 442.597,1479.3 \n",
       "  \"/>\n",
       "<path clip-path=\"url(#clip712)\" d=\"\n",
       "M151.118 1158.45 L976.975 142.429 L1414.19 88.9544 L1997.15 516.752 L2240.05 1211.92 L151.118 1158.45 L151.118 1158.45  Z\n",
       "  \" fill=\"#ff0000\" fill-rule=\"evenodd\" fill-opacity=\"0.2\"/>\n",
       "<polyline clip-path=\"url(#clip712)\" style=\"stroke:#000000; stroke-width:4; stroke-opacity:0.2; fill:none\" points=\"\n",
       "  151.118,1158.45 976.975,142.429 1414.19,88.9544 1997.15,516.752 2240.05,1211.92 151.118,1158.45 \n",
       "  \"/>\n",
       "<path clip-path=\"url(#clip712)\" d=\"\n",
       "M151.118 1158.45 L491.176 302.853 L976.975 142.429 L1414.19 88.9544 L2191.47 195.904 L2288.63 730.651 L2240.05 1211.92 L442.597 1479.3 L151.118 1158.45 L151.118 1158.45 \n",
       "   Z\n",
       "  \" fill=\"#008000\" fill-rule=\"evenodd\" fill-opacity=\"0.1\"/>\n",
       "<polyline clip-path=\"url(#clip712)\" style=\"stroke:#000000; stroke-width:4; stroke-opacity:0.1; fill:none\" points=\"\n",
       "  151.118,1158.45 491.176,302.853 976.975,142.429 1414.19,88.9544 2191.47,195.904 2288.63,730.651 2240.05,1211.92 442.597,1479.3 151.118,1158.45 \n",
       "  \n",
       "  \"/>\n",
       "<circle clip-path=\"url(#clip712)\" cx=\"151.118\" cy=\"1158.45\" r=\"14\" fill=\"#008000\" fill-rule=\"evenodd\" fill-opacity=\"1\" stroke=\"#000000\" stroke-opacity=\"1\" stroke-width=\"3.2\"/>\n",
       "<circle clip-path=\"url(#clip712)\" cx=\"491.176\" cy=\"302.853\" r=\"14\" fill=\"#008000\" fill-rule=\"evenodd\" fill-opacity=\"1\" stroke=\"#000000\" stroke-opacity=\"1\" stroke-width=\"3.2\"/>\n",
       "<circle clip-path=\"url(#clip712)\" cx=\"976.975\" cy=\"142.429\" r=\"14\" fill=\"#008000\" fill-rule=\"evenodd\" fill-opacity=\"1\" stroke=\"#000000\" stroke-opacity=\"1\" stroke-width=\"3.2\"/>\n",
       "<circle clip-path=\"url(#clip712)\" cx=\"1414.19\" cy=\"88.9544\" r=\"14\" fill=\"#008000\" fill-rule=\"evenodd\" fill-opacity=\"1\" stroke=\"#000000\" stroke-opacity=\"1\" stroke-width=\"3.2\"/>\n",
       "<circle clip-path=\"url(#clip712)\" cx=\"2191.47\" cy=\"195.904\" r=\"14\" fill=\"#008000\" fill-rule=\"evenodd\" fill-opacity=\"1\" stroke=\"#000000\" stroke-opacity=\"1\" stroke-width=\"3.2\"/>\n",
       "<circle clip-path=\"url(#clip712)\" cx=\"2288.63\" cy=\"730.651\" r=\"14\" fill=\"#008000\" fill-rule=\"evenodd\" fill-opacity=\"1\" stroke=\"#000000\" stroke-opacity=\"1\" stroke-width=\"3.2\"/>\n",
       "<circle clip-path=\"url(#clip712)\" cx=\"2240.05\" cy=\"1211.92\" r=\"14\" fill=\"#008000\" fill-rule=\"evenodd\" fill-opacity=\"1\" stroke=\"#000000\" stroke-opacity=\"1\" stroke-width=\"3.2\"/>\n",
       "<circle clip-path=\"url(#clip712)\" cx=\"442.597\" cy=\"1479.3\" r=\"14\" fill=\"#008000\" fill-rule=\"evenodd\" fill-opacity=\"1\" stroke=\"#000000\" stroke-opacity=\"1\" stroke-width=\"3.2\"/>\n",
       "<circle clip-path=\"url(#clip712)\" cx=\"151.118\" cy=\"1158.45\" r=\"14\" fill=\"#008000\" fill-rule=\"evenodd\" fill-opacity=\"1\" stroke=\"#000000\" stroke-opacity=\"1\" stroke-width=\"3.2\"/>\n",
       "</svg>\n"
      ],
      "image/svg+xml": [
       "<?xml version=\"1.0\" encoding=\"utf-8\"?>\n",
       "<svg xmlns=\"http://www.w3.org/2000/svg\" xmlns:xlink=\"http://www.w3.org/1999/xlink\" width=\"600\" height=\"400\" viewBox=\"0 0 2400 1600\">\n",
       "<defs>\n",
       "  <clipPath id=\"clip680\">\n",
       "    <rect x=\"0\" y=\"0\" width=\"2400\" height=\"1600\"/>\n",
       "  </clipPath>\n",
       "</defs>\n",
       "<path clip-path=\"url(#clip680)\" d=\"\n",
       "M0 1600 L2400 1600 L2400 0 L0 0  Z\n",
       "  \" fill=\"#ffffff\" fill-rule=\"evenodd\" fill-opacity=\"1\"/>\n",
       "<defs>\n",
       "  <clipPath id=\"clip681\">\n",
       "    <rect x=\"480\" y=\"0\" width=\"1681\" height=\"1600\"/>\n",
       "  </clipPath>\n",
       "</defs>\n",
       "<path clip-path=\"url(#clip680)\" d=\"\n",
       "M86.9921 1521.01 L2352.76 1521.01 L2352.76 47.2441 L86.9921 47.2441  Z\n",
       "  \" fill=\"#ffffff\" fill-rule=\"evenodd\" fill-opacity=\"1\"/>\n",
       "<defs>\n",
       "  <clipPath id=\"clip682\">\n",
       "    <rect x=\"86\" y=\"47\" width=\"2267\" height=\"1475\"/>\n",
       "  </clipPath>\n",
       "</defs>\n",
       "<polyline clip-path=\"url(#clip682)\" style=\"stroke:#000000; stroke-width:2; stroke-opacity:0.1; fill:none\" points=\"\n",
       "  394.017,1521.01 394.017,47.2441 \n",
       "  \"/>\n",
       "<polyline clip-path=\"url(#clip682)\" style=\"stroke:#000000; stroke-width:2; stroke-opacity:0.1; fill:none\" points=\"\n",
       "  879.815,1521.01 879.815,47.2441 \n",
       "  \"/>\n",
       "<polyline clip-path=\"url(#clip682)\" style=\"stroke:#000000; stroke-width:2; stroke-opacity:0.1; fill:none\" points=\"\n",
       "  1365.61,1521.01 1365.61,47.2441 \n",
       "  \"/>\n",
       "<polyline clip-path=\"url(#clip682)\" style=\"stroke:#000000; stroke-width:2; stroke-opacity:0.1; fill:none\" points=\"\n",
       "  1851.41,1521.01 1851.41,47.2441 \n",
       "  \"/>\n",
       "<polyline clip-path=\"url(#clip682)\" style=\"stroke:#000000; stroke-width:2; stroke-opacity:0.1; fill:none\" points=\"\n",
       "  2337.21,1521.01 2337.21,47.2441 \n",
       "  \"/>\n",
       "<polyline clip-path=\"url(#clip680)\" style=\"stroke:#000000; stroke-width:4; stroke-opacity:1; fill:none\" points=\"\n",
       "  86.9921,1521.01 2352.76,1521.01 \n",
       "  \"/>\n",
       "<polyline clip-path=\"url(#clip680)\" style=\"stroke:#000000; stroke-width:4; stroke-opacity:1; fill:none\" points=\"\n",
       "  394.017,1521.01 394.017,1503.32 \n",
       "  \"/>\n",
       "<polyline clip-path=\"url(#clip680)\" style=\"stroke:#000000; stroke-width:4; stroke-opacity:1; fill:none\" points=\"\n",
       "  879.815,1521.01 879.815,1503.32 \n",
       "  \"/>\n",
       "<polyline clip-path=\"url(#clip680)\" style=\"stroke:#000000; stroke-width:4; stroke-opacity:1; fill:none\" points=\"\n",
       "  1365.61,1521.01 1365.61,1503.32 \n",
       "  \"/>\n",
       "<polyline clip-path=\"url(#clip680)\" style=\"stroke:#000000; stroke-width:4; stroke-opacity:1; fill:none\" points=\"\n",
       "  1851.41,1521.01 1851.41,1503.32 \n",
       "  \"/>\n",
       "<polyline clip-path=\"url(#clip680)\" style=\"stroke:#000000; stroke-width:4; stroke-opacity:1; fill:none\" points=\"\n",
       "  2337.21,1521.01 2337.21,1503.32 \n",
       "  \"/>\n",
       "<path clip-path=\"url(#clip680)\" d=\"M 0 0 M366.471 1564.85 L396.146 1564.85 L396.146 1568.79 L366.471 1568.79 L366.471 1564.85 Z\" fill=\"#000000\" fill-rule=\"evenodd\" fill-opacity=\"1\" /><path clip-path=\"url(#clip680)\" d=\"M 0 0 M405.244 1577.74 L421.563 1577.74 L421.563 1581.68 L399.619 1581.68 L399.619 1577.74 Q402.281 1574.99 406.864 1570.36 Q411.47 1565.71 412.651 1564.37 Q414.896 1561.84 415.776 1560.11 Q416.679 1558.35 416.679 1556.66 Q416.679 1553.9 414.734 1552.17 Q412.813 1550.43 409.711 1550.43 Q407.512 1550.43 405.058 1551.19 Q402.628 1551.96 399.85 1553.51 L399.85 1548.79 Q402.674 1547.65 405.128 1547.07 Q407.581 1546.49 409.618 1546.49 Q414.989 1546.49 418.183 1549.18 Q421.378 1551.87 421.378 1556.36 Q421.378 1558.49 420.568 1560.41 Q419.78 1562.3 417.674 1564.9 Q417.095 1565.57 413.993 1568.79 Q410.892 1571.98 405.244 1577.74 Z\" fill=\"#000000\" fill-rule=\"evenodd\" fill-opacity=\"1\" /><path clip-path=\"url(#clip680)\" d=\"M 0 0 M852.084 1564.85 L881.76 1564.85 L881.76 1568.79 L852.084 1568.79 L852.084 1564.85 Z\" fill=\"#000000\" fill-rule=\"evenodd\" fill-opacity=\"1\" /><path clip-path=\"url(#clip680)\" d=\"M 0 0 M887.639 1577.74 L895.278 1577.74 L895.278 1551.38 L886.968 1553.05 L886.968 1548.79 L895.232 1547.12 L899.908 1547.12 L899.908 1577.74 L907.546 1577.74 L907.546 1581.68 L887.639 1581.68 L887.639 1577.74 Z\" fill=\"#000000\" fill-rule=\"evenodd\" fill-opacity=\"1\" /><path clip-path=\"url(#clip680)\" d=\"M 0 0 M1365.61 1550.2 Q1362 1550.2 1360.17 1553.76 Q1358.37 1557.31 1358.37 1564.43 Q1358.37 1571.54 1360.17 1575.11 Q1362 1578.65 1365.61 1578.65 Q1369.25 1578.65 1371.05 1575.11 Q1372.88 1571.54 1372.88 1564.43 Q1372.88 1557.31 1371.05 1553.76 Q1369.25 1550.2 1365.61 1550.2 M1365.61 1546.49 Q1371.42 1546.49 1374.48 1551.1 Q1377.56 1555.68 1377.56 1564.43 Q1377.56 1573.16 1374.48 1577.77 Q1371.42 1582.35 1365.61 1582.35 Q1359.8 1582.35 1356.72 1577.77 Q1353.67 1573.16 1353.67 1564.43 Q1353.67 1555.68 1356.72 1551.1 Q1359.8 1546.49 1365.61 1546.49 Z\" fill=\"#000000\" fill-rule=\"evenodd\" fill-opacity=\"1\" /><path clip-path=\"url(#clip680)\" d=\"M 0 0 M1841.79 1577.74 L1849.43 1577.74 L1849.43 1551.38 L1841.12 1553.05 L1841.12 1548.79 L1849.39 1547.12 L1854.06 1547.12 L1854.06 1577.74 L1861.7 1577.74 L1861.7 1581.68 L1841.79 1581.68 L1841.79 1577.74 Z\" fill=\"#000000\" fill-rule=\"evenodd\" fill-opacity=\"1\" /><path clip-path=\"url(#clip680)\" d=\"M 0 0 M2331.86 1577.74 L2348.18 1577.74 L2348.18 1581.68 L2326.24 1581.68 L2326.24 1577.74 Q2328.9 1574.99 2333.48 1570.36 Q2338.09 1565.71 2339.27 1564.37 Q2341.52 1561.84 2342.4 1560.11 Q2343.3 1558.35 2343.3 1556.66 Q2343.3 1553.9 2341.35 1552.17 Q2339.43 1550.43 2336.33 1550.43 Q2334.13 1550.43 2331.68 1551.19 Q2329.25 1551.96 2326.47 1553.51 L2326.47 1548.79 Q2329.29 1547.65 2331.75 1547.07 Q2334.2 1546.49 2336.24 1546.49 Q2341.61 1546.49 2344.8 1549.18 Q2348 1551.87 2348 1556.36 Q2348 1558.49 2347.19 1560.41 Q2346.4 1562.3 2344.29 1564.9 Q2343.71 1565.57 2340.61 1568.79 Q2337.51 1571.98 2331.86 1577.74 Z\" fill=\"#000000\" fill-rule=\"evenodd\" fill-opacity=\"1\" /><polyline clip-path=\"url(#clip682)\" style=\"stroke:#000000; stroke-width:2; stroke-opacity:0.1; fill:none\" points=\"\n",
       "  86.9921,1372.35 2352.76,1372.35 \n",
       "  \"/>\n",
       "<polyline clip-path=\"url(#clip682)\" style=\"stroke:#000000; stroke-width:2; stroke-opacity:0.1; fill:none\" points=\"\n",
       "  86.9921,1104.97 2352.76,1104.97 \n",
       "  \"/>\n",
       "<polyline clip-path=\"url(#clip682)\" style=\"stroke:#000000; stroke-width:2; stroke-opacity:0.1; fill:none\" points=\"\n",
       "  86.9921,837.601 2352.76,837.601 \n",
       "  \"/>\n",
       "<polyline clip-path=\"url(#clip682)\" style=\"stroke:#000000; stroke-width:2; stroke-opacity:0.1; fill:none\" points=\"\n",
       "  86.9921,570.227 2352.76,570.227 \n",
       "  \"/>\n",
       "<polyline clip-path=\"url(#clip682)\" style=\"stroke:#000000; stroke-width:2; stroke-opacity:0.1; fill:none\" points=\"\n",
       "  86.9921,302.853 2352.76,302.853 \n",
       "  \"/>\n",
       "<polyline clip-path=\"url(#clip680)\" style=\"stroke:#000000; stroke-width:4; stroke-opacity:1; fill:none\" points=\"\n",
       "  86.9921,1521.01 86.9921,47.2441 \n",
       "  \"/>\n",
       "<polyline clip-path=\"url(#clip680)\" style=\"stroke:#000000; stroke-width:4; stroke-opacity:1; fill:none\" points=\"\n",
       "  86.9921,1372.35 114.181,1372.35 \n",
       "  \"/>\n",
       "<polyline clip-path=\"url(#clip680)\" style=\"stroke:#000000; stroke-width:4; stroke-opacity:1; fill:none\" points=\"\n",
       "  86.9921,1104.97 114.181,1104.97 \n",
       "  \"/>\n",
       "<polyline clip-path=\"url(#clip680)\" style=\"stroke:#000000; stroke-width:4; stroke-opacity:1; fill:none\" points=\"\n",
       "  86.9921,837.601 114.181,837.601 \n",
       "  \"/>\n",
       "<polyline clip-path=\"url(#clip680)\" style=\"stroke:#000000; stroke-width:4; stroke-opacity:1; fill:none\" points=\"\n",
       "  86.9921,570.227 114.181,570.227 \n",
       "  \"/>\n",
       "<polyline clip-path=\"url(#clip680)\" style=\"stroke:#000000; stroke-width:4; stroke-opacity:1; fill:none\" points=\"\n",
       "  86.9921,302.853 114.181,302.853 \n",
       "  \"/>\n",
       "<path clip-path=\"url(#clip680)\" d=\"M 0 0 M-40.4426 1372.8 L-10.7668 1372.8 L-10.7668 1376.73 L-40.4426 1376.73 L-40.4426 1372.8 Z\" fill=\"#000000\" fill-rule=\"evenodd\" fill-opacity=\"1\" /><path clip-path=\"url(#clip680)\" d=\"M 0 0 M-4.8872 1385.69 L2.75164 1385.69 L2.75164 1359.33 L-5.5585 1360.99 L-5.5585 1356.73 L2.70535 1355.07 L7.38125 1355.07 L7.38125 1385.69 L15.0201 1385.69 L15.0201 1389.63 L-4.8872 1389.63 L-4.8872 1385.69 Z\" fill=\"#000000\" fill-rule=\"evenodd\" fill-opacity=\"1\" /><path clip-path=\"url(#clip680)\" d=\"M 0 0 M20.0895 1383.75 L24.9737 1383.75 L24.9737 1389.63 L20.0895 1389.63 L20.0895 1383.75 Z\" fill=\"#000000\" fill-rule=\"evenodd\" fill-opacity=\"1\" /><path clip-path=\"url(#clip680)\" d=\"M 0 0 M30.0895 1355.07 L48.4458 1355.07 L48.4458 1359 L34.3718 1359 L34.3718 1367.48 Q35.3904 1367.13 36.4089 1366.97 Q37.4274 1366.78 38.4459 1366.78 Q44.2329 1366.78 47.6125 1369.95 Q50.9921 1373.12 50.9921 1378.54 Q50.9921 1384.12 47.5199 1387.22 Q44.0477 1390.3 37.7283 1390.3 Q35.5524 1390.3 33.2839 1389.93 Q31.0385 1389.56 28.6311 1388.82 L28.6311 1384.12 Q30.7145 1385.25 32.9367 1385.81 Q35.1589 1386.36 37.6357 1386.36 Q41.6403 1386.36 43.9783 1384.26 Q46.3162 1382.15 46.3162 1378.54 Q46.3162 1374.93 43.9783 1372.82 Q41.6403 1370.72 37.6357 1370.72 Q35.7607 1370.72 33.8857 1371.13 Q32.0339 1371.55 30.0895 1372.43 L30.0895 1355.07 Z\" fill=\"#000000\" fill-rule=\"evenodd\" fill-opacity=\"1\" /><path clip-path=\"url(#clip680)\" d=\"M 0 0 M-41.4379 1105.43 L-11.7622 1105.43 L-11.7622 1109.36 L-41.4379 1109.36 L-41.4379 1105.43 Z\" fill=\"#000000\" fill-rule=\"evenodd\" fill-opacity=\"1\" /><path clip-path=\"url(#clip680)\" d=\"M 0 0 M-5.88257 1118.32 L1.75628 1118.32 L1.75628 1091.95 L-6.55386 1093.62 L-6.55386 1089.36 L1.70998 1087.69 L6.38588 1087.69 L6.38588 1118.32 L14.0247 1118.32 L14.0247 1122.25 L-5.88257 1122.25 L-5.88257 1118.32 Z\" fill=\"#000000\" fill-rule=\"evenodd\" fill-opacity=\"1\" /><path clip-path=\"url(#clip680)\" d=\"M 0 0 M19.0941 1116.37 L23.9784 1116.37 L23.9784 1122.25 L19.0941 1122.25 L19.0941 1116.37 Z\" fill=\"#000000\" fill-rule=\"evenodd\" fill-opacity=\"1\" /><path clip-path=\"url(#clip680)\" d=\"M 0 0 M39.0477 1090.77 Q35.4367 1090.77 33.608 1094.34 Q31.8024 1097.88 31.8024 1105.01 Q31.8024 1112.12 33.608 1115.68 Q35.4367 1119.22 39.0477 1119.22 Q42.682 1119.22 44.4875 1115.68 Q46.3162 1112.12 46.3162 1105.01 Q46.3162 1097.88 44.4875 1094.34 Q42.682 1090.77 39.0477 1090.77 M39.0477 1087.07 Q44.8579 1087.07 47.9134 1091.68 Q50.9921 1096.26 50.9921 1105.01 Q50.9921 1113.74 47.9134 1118.34 Q44.8579 1122.93 39.0477 1122.93 Q33.2376 1122.93 30.1589 1118.34 Q27.1034 1113.74 27.1034 1105.01 Q27.1034 1096.26 30.1589 1091.68 Q33.2376 1087.07 39.0477 1087.07 Z\" fill=\"#000000\" fill-rule=\"evenodd\" fill-opacity=\"1\" /><path clip-path=\"url(#clip680)\" d=\"M 0 0 M-41.6694 838.052 L-11.9936 838.052 L-11.9936 841.987 L-41.6694 841.987 L-41.6694 838.052 Z\" fill=\"#000000\" fill-rule=\"evenodd\" fill-opacity=\"1\" /><path clip-path=\"url(#clip680)\" d=\"M 0 0 M3.07572 823.399 Q-0.535376 823.399 -2.36407 826.964 Q-4.16962 830.506 -4.16962 837.635 Q-4.16962 844.742 -2.36407 848.307 Q-0.535376 851.848 3.07572 851.848 Q6.70996 851.848 8.5155 848.307 Q10.3442 844.742 10.3442 837.635 Q10.3442 830.506 8.5155 826.964 Q6.70996 823.399 3.07572 823.399 M3.07572 819.696 Q8.88587 819.696 11.9414 824.302 Q15.0201 828.885 15.0201 837.635 Q15.0201 846.362 11.9414 850.969 Q8.88587 855.552 3.07572 855.552 Q-2.73444 855.552 -5.81313 850.969 Q-8.86866 846.362 -8.86866 837.635 Q-8.86866 828.885 -5.81313 824.302 Q-2.73444 819.696 3.07572 819.696 Z\" fill=\"#000000\" fill-rule=\"evenodd\" fill-opacity=\"1\" /><path clip-path=\"url(#clip680)\" d=\"M 0 0 M20.0895 849.001 L24.9737 849.001 L24.9737 854.881 L20.0895 854.881 L20.0895 849.001 Z\" fill=\"#000000\" fill-rule=\"evenodd\" fill-opacity=\"1\" /><path clip-path=\"url(#clip680)\" d=\"M 0 0 M30.0895 820.321 L48.4458 820.321 L48.4458 824.256 L34.3718 824.256 L34.3718 832.728 Q35.3904 832.381 36.4089 832.219 Q37.4274 832.034 38.4459 832.034 Q44.2329 832.034 47.6125 835.205 Q50.9921 838.376 50.9921 843.793 Q50.9921 849.371 47.5199 852.473 Q44.0477 855.552 37.7283 855.552 Q35.5524 855.552 33.2839 855.182 Q31.0385 854.811 28.6311 854.071 L28.6311 849.371 Q30.7145 850.506 32.9367 851.061 Q35.1589 851.617 37.6357 851.617 Q41.6403 851.617 43.9783 849.51 Q46.3162 847.404 46.3162 843.793 Q46.3162 840.182 43.9783 838.075 Q41.6403 835.969 37.6357 835.969 Q35.7607 835.969 33.8857 836.385 Q32.0339 836.802 30.0895 837.682 L30.0895 820.321 Z\" fill=\"#000000\" fill-rule=\"evenodd\" fill-opacity=\"1\" /><path clip-path=\"url(#clip680)\" d=\"M 0 0 M2.08035 556.026 Q-1.53074 556.026 -3.35943 559.591 Q-5.16498 563.132 -5.16498 570.262 Q-5.16498 577.368 -3.35943 580.933 Q-1.53074 584.475 2.08035 584.475 Q5.71459 584.475 7.52014 580.933 Q9.34883 577.368 9.34883 570.262 Q9.34883 563.132 7.52014 559.591 Q5.71459 556.026 2.08035 556.026 M2.08035 552.322 Q7.89051 552.322 10.946 556.928 Q14.0247 561.512 14.0247 570.262 Q14.0247 578.989 10.946 583.595 Q7.89051 588.178 2.08035 588.178 Q-3.7298 588.178 -6.80849 583.595 Q-9.86403 578.989 -9.86403 570.262 Q-9.86403 561.512 -6.80849 556.928 Q-3.7298 552.322 2.08035 552.322 Z\" fill=\"#000000\" fill-rule=\"evenodd\" fill-opacity=\"1\" /><path clip-path=\"url(#clip680)\" d=\"M 0 0 M19.0941 581.627 L23.9784 581.627 L23.9784 587.507 L19.0941 587.507 L19.0941 581.627 Z\" fill=\"#000000\" fill-rule=\"evenodd\" fill-opacity=\"1\" /><path clip-path=\"url(#clip680)\" d=\"M 0 0 M39.0477 556.026 Q35.4367 556.026 33.608 559.591 Q31.8024 563.132 31.8024 570.262 Q31.8024 577.368 33.608 580.933 Q35.4367 584.475 39.0477 584.475 Q42.682 584.475 44.4875 580.933 Q46.3162 577.368 46.3162 570.262 Q46.3162 563.132 44.4875 559.591 Q42.682 556.026 39.0477 556.026 M39.0477 552.322 Q44.8579 552.322 47.9134 556.928 Q50.9921 561.512 50.9921 570.262 Q50.9921 578.989 47.9134 583.595 Q44.8579 588.178 39.0477 588.178 Q33.2376 588.178 30.1589 583.595 Q27.1034 578.989 27.1034 570.262 Q27.1034 561.512 30.1589 556.928 Q33.2376 552.322 39.0477 552.322 Z\" fill=\"#000000\" fill-rule=\"evenodd\" fill-opacity=\"1\" /><path clip-path=\"url(#clip680)\" d=\"M 0 0 M3.07572 288.652 Q-0.535376 288.652 -2.36407 292.217 Q-4.16962 295.758 -4.16962 302.888 Q-4.16962 309.995 -2.36407 313.559 Q-0.535376 317.101 3.07572 317.101 Q6.70996 317.101 8.5155 313.559 Q10.3442 309.995 10.3442 302.888 Q10.3442 295.758 8.5155 292.217 Q6.70996 288.652 3.07572 288.652 M3.07572 284.948 Q8.88587 284.948 11.9414 289.555 Q15.0201 294.138 15.0201 302.888 Q15.0201 311.615 11.9414 316.221 Q8.88587 320.805 3.07572 320.805 Q-2.73444 320.805 -5.81313 316.221 Q-8.86866 311.615 -8.86866 302.888 Q-8.86866 294.138 -5.81313 289.555 Q-2.73444 284.948 3.07572 284.948 Z\" fill=\"#000000\" fill-rule=\"evenodd\" fill-opacity=\"1\" /><path clip-path=\"url(#clip680)\" d=\"M 0 0 M20.0895 314.254 L24.9737 314.254 L24.9737 320.133 L20.0895 320.133 L20.0895 314.254 Z\" fill=\"#000000\" fill-rule=\"evenodd\" fill-opacity=\"1\" /><path clip-path=\"url(#clip680)\" d=\"M 0 0 M30.0895 285.573 L48.4458 285.573 L48.4458 289.509 L34.3718 289.509 L34.3718 297.981 Q35.3904 297.633 36.4089 297.471 Q37.4274 297.286 38.4459 297.286 Q44.2329 297.286 47.6125 300.458 Q50.9921 303.629 50.9921 309.045 Q50.9921 314.624 47.5199 317.726 Q44.0477 320.805 37.7283 320.805 Q35.5524 320.805 33.2839 320.434 Q31.0385 320.064 28.6311 319.323 L28.6311 314.624 Q30.7145 315.758 32.9367 316.314 Q35.1589 316.869 37.6357 316.869 Q41.6403 316.869 43.9783 314.763 Q46.3162 312.657 46.3162 309.045 Q46.3162 305.434 43.9783 303.328 Q41.6403 301.221 37.6357 301.221 Q35.7607 301.221 33.8857 301.638 Q32.0339 302.055 30.0895 302.934 L30.0895 285.573 Z\" fill=\"#000000\" fill-rule=\"evenodd\" fill-opacity=\"1\" /><path clip-path=\"url(#clip682)\" d=\"\n",
       "M442.597 1479.3 L491.176 302.853 L2191.47 195.904 L2288.63 730.651 L1802.83 1158.45 L442.597 1479.3 L442.597 1479.3  Z\n",
       "  \" fill=\"#0000ff\" fill-rule=\"evenodd\" fill-opacity=\"0.2\"/>\n",
       "<polyline clip-path=\"url(#clip682)\" style=\"stroke:#000000; stroke-width:4; stroke-opacity:0.2; fill:none\" points=\"\n",
       "  442.597,1479.3 491.176,302.853 2191.47,195.904 2288.63,730.651 1802.83,1158.45 442.597,1479.3 \n",
       "  \"/>\n",
       "<path clip-path=\"url(#clip682)\" d=\"\n",
       "M151.118 1158.45 L976.975 142.429 L1414.19 88.9544 L1997.15 516.752 L2240.05 1211.92 L151.118 1158.45 L151.118 1158.45  Z\n",
       "  \" fill=\"#ff0000\" fill-rule=\"evenodd\" fill-opacity=\"0.2\"/>\n",
       "<polyline clip-path=\"url(#clip682)\" style=\"stroke:#000000; stroke-width:4; stroke-opacity:0.2; fill:none\" points=\"\n",
       "  151.118,1158.45 976.975,142.429 1414.19,88.9544 1997.15,516.752 2240.05,1211.92 151.118,1158.45 \n",
       "  \"/>\n",
       "<path clip-path=\"url(#clip682)\" d=\"\n",
       "M151.118 1158.45 L491.176 302.853 L976.975 142.429 L1414.19 88.9544 L2191.47 195.904 L2288.63 730.651 L2240.05 1211.92 L442.597 1479.3 L151.118 1158.45 L151.118 1158.45 \n",
       "   Z\n",
       "  \" fill=\"#008000\" fill-rule=\"evenodd\" fill-opacity=\"0.1\"/>\n",
       "<polyline clip-path=\"url(#clip682)\" style=\"stroke:#000000; stroke-width:4; stroke-opacity:0.1; fill:none\" points=\"\n",
       "  151.118,1158.45 491.176,302.853 976.975,142.429 1414.19,88.9544 2191.47,195.904 2288.63,730.651 2240.05,1211.92 442.597,1479.3 151.118,1158.45 \n",
       "  \n",
       "  \"/>\n",
       "<circle clip-path=\"url(#clip682)\" cx=\"151.118\" cy=\"1158.45\" r=\"14\" fill=\"#008000\" fill-rule=\"evenodd\" fill-opacity=\"1\" stroke=\"#000000\" stroke-opacity=\"1\" stroke-width=\"3.2\"/>\n",
       "<circle clip-path=\"url(#clip682)\" cx=\"491.176\" cy=\"302.853\" r=\"14\" fill=\"#008000\" fill-rule=\"evenodd\" fill-opacity=\"1\" stroke=\"#000000\" stroke-opacity=\"1\" stroke-width=\"3.2\"/>\n",
       "<circle clip-path=\"url(#clip682)\" cx=\"976.975\" cy=\"142.429\" r=\"14\" fill=\"#008000\" fill-rule=\"evenodd\" fill-opacity=\"1\" stroke=\"#000000\" stroke-opacity=\"1\" stroke-width=\"3.2\"/>\n",
       "<circle clip-path=\"url(#clip682)\" cx=\"1414.19\" cy=\"88.9544\" r=\"14\" fill=\"#008000\" fill-rule=\"evenodd\" fill-opacity=\"1\" stroke=\"#000000\" stroke-opacity=\"1\" stroke-width=\"3.2\"/>\n",
       "<circle clip-path=\"url(#clip682)\" cx=\"2191.47\" cy=\"195.904\" r=\"14\" fill=\"#008000\" fill-rule=\"evenodd\" fill-opacity=\"1\" stroke=\"#000000\" stroke-opacity=\"1\" stroke-width=\"3.2\"/>\n",
       "<circle clip-path=\"url(#clip682)\" cx=\"2288.63\" cy=\"730.651\" r=\"14\" fill=\"#008000\" fill-rule=\"evenodd\" fill-opacity=\"1\" stroke=\"#000000\" stroke-opacity=\"1\" stroke-width=\"3.2\"/>\n",
       "<circle clip-path=\"url(#clip682)\" cx=\"2240.05\" cy=\"1211.92\" r=\"14\" fill=\"#008000\" fill-rule=\"evenodd\" fill-opacity=\"1\" stroke=\"#000000\" stroke-opacity=\"1\" stroke-width=\"3.2\"/>\n",
       "<circle clip-path=\"url(#clip682)\" cx=\"442.597\" cy=\"1479.3\" r=\"14\" fill=\"#008000\" fill-rule=\"evenodd\" fill-opacity=\"1\" stroke=\"#000000\" stroke-opacity=\"1\" stroke-width=\"3.2\"/>\n",
       "<circle clip-path=\"url(#clip682)\" cx=\"151.118\" cy=\"1158.45\" r=\"14\" fill=\"#008000\" fill-rule=\"evenodd\" fill-opacity=\"1\" stroke=\"#000000\" stroke-opacity=\"1\" stroke-width=\"3.2\"/>\n",
       "</svg>\n"
      ]
     },
     "metadata": {},
     "execution_count": 6
    }
   ],
   "cell_type": "code",
   "source": [
    "using Plots\n",
    "plot(P1, color=\"blue\", alpha=0.2)\n",
    "plot!(P2, color=\"red\", alpha=0.2)\n",
    "plot!(Pch, color=\"green\", alpha=0.1)\n",
    "scatter!(Pch, color=\"green\")"
   ],
   "metadata": {},
   "execution_count": 6
  },
  {
   "cell_type": "markdown",
   "source": [
    "### Intersection\n",
    "\n",
    "Intersection of polyhedra is obtained with the [`intersect`](https://juliapolyhedra.github.io/Polyhedra.jl/latest/utilities.html#Base.intersect) function.\n",
    "\n",
    "Below we compute the intersection of the two polygons from the previous example."
   ],
   "metadata": {}
  },
  {
   "outputs": [
    {
     "output_type": "execute_result",
     "data": {
      "text/plain": "Polyhedron DefaultPolyhedron{Float64,MixedMatHRep{Float64,Array{Float64,2}},MixedMatVRep{Float64,Array{Float64,2}}}:\n10-element iterator of HalfSpace{Float64,Array{Float64,1}}:\n HalfSpace([-0.3455704563065829, 0.015707748013935548], 0.6298806953588169)\n HalfSpace([-0.0017166112318985256, 0.03004069655822369], 0.018110248496529084)\n HalfSpace([0.006073802354108312, 0.0012147604708216669], 0.011175796331559292)\n HalfSpace([0.0033180572554464974, -0.015484267192083257], 0.020018945441193432)\n HalfSpace([0.005927124909785249, -0.007408906137231559], 0.01348420916976144)\n HalfSpace([-0.006530149577388423, -0.2807964318277026], 0.325201448953944)\n HalfSpace([-0.13321422896013135, 0.11919167854327542], 0.2019247260027254)\n HalfSpace([-0.017450175170875545, 0.1570515765378798], 0.13960140136700427)\n HalfSpace([0.10558853422007096, 0.04061097470002735], 0.141326191956095)\n HalfSpace([0.08041432933861367, 0.12062149400792055], 0.11660077754098985)"
     },
     "metadata": {},
     "execution_count": 7
    }
   ],
   "cell_type": "code",
   "source": [
    "Pint = intersect(P1, P2)"
   ],
   "metadata": {},
   "execution_count": 7
  },
  {
   "cell_type": "markdown",
   "source": [
    "While `P1` and `P2` have been constructed from their V-representation, their H-representation has been computed to build the intersection `Pint`."
   ],
   "metadata": {}
  },
  {
   "outputs": [
    {
     "output_type": "execute_result",
     "data": {
      "text/plain": "(true, true, true, true)"
     },
     "metadata": {},
     "execution_count": 8
    }
   ],
   "cell_type": "code",
   "source": [
    "hrepiscomputed(P1), vrepiscomputed(P1), hrepiscomputed(P2), vrepiscomputed(P2)"
   ],
   "metadata": {},
   "execution_count": 8
  },
  {
   "cell_type": "markdown",
   "source": [
    "On the other hand, `Pint` is constructed from its H-representation hence its V-representation has not been computed yet."
   ],
   "metadata": {}
  },
  {
   "outputs": [
    {
     "output_type": "execute_result",
     "data": {
      "text/plain": "(true, false)"
     },
     "metadata": {},
     "execution_count": 9
    }
   ],
   "cell_type": "code",
   "source": [
    "hrepiscomputed(Pint), vrepiscomputed(Pint)"
   ],
   "metadata": {},
   "execution_count": 9
  },
  {
   "cell_type": "markdown",
   "source": [
    "We can obtain the number of points in the intersection with `npoints` as follows:"
   ],
   "metadata": {}
  },
  {
   "outputs": [
    {
     "output_type": "execute_result",
     "data": {
      "text/plain": "8"
     },
     "metadata": {},
     "execution_count": 10
    }
   ],
   "cell_type": "code",
   "source": [
    "npoints(Pint)"
   ],
   "metadata": {},
   "execution_count": 10
  },
  {
   "cell_type": "markdown",
   "source": [
    "Note that this triggers the computation of the V-representation:"
   ],
   "metadata": {}
  },
  {
   "outputs": [
    {
     "output_type": "execute_result",
     "data": {
      "text/plain": "(true, true)"
     },
     "metadata": {},
     "execution_count": 11
    }
   ],
   "cell_type": "code",
   "source": [
    "hrepiscomputed(Pint), vrepiscomputed(Pint)"
   ],
   "metadata": {},
   "execution_count": 11
  },
  {
   "cell_type": "markdown",
   "source": [
    "We can plot the polygons and their intersection using the `plot` function."
   ],
   "metadata": {}
  },
  {
   "outputs": [
    {
     "output_type": "execute_result",
     "data": {
      "text/plain": "Plot{Plots.GRBackend() n=3}",
      "image/png": "[encoded data removed]",
      "text/html": [
       "<?xml version=\"1.0\" encoding=\"utf-8\"?>\n",
       "<svg xmlns=\"http://www.w3.org/2000/svg\" xmlns:xlink=\"http://www.w3.org/1999/xlink\" width=\"600\" height=\"400\" viewBox=\"0 0 2400 1600\">\n",
       "<defs>\n",
       "  <clipPath id=\"clip770\">\n",
       "    <rect x=\"0\" y=\"0\" width=\"2400\" height=\"1600\"/>\n",
       "  </clipPath>\n",
       "</defs>\n",
       "<path clip-path=\"url(#clip770)\" d=\"\n",
       "M0 1600 L2400 1600 L2400 0 L0 0  Z\n",
       "  \" fill=\"#ffffff\" fill-rule=\"evenodd\" fill-opacity=\"1\"/>\n",
       "<defs>\n",
       "  <clipPath id=\"clip771\">\n",
       "    <rect x=\"480\" y=\"0\" width=\"1681\" height=\"1600\"/>\n",
       "  </clipPath>\n",
       "</defs>\n",
       "<path clip-path=\"url(#clip770)\" d=\"\n",
       "M86.9921 1521.01 L2352.76 1521.01 L2352.76 47.2441 L86.9921 47.2441  Z\n",
       "  \" fill=\"#ffffff\" fill-rule=\"evenodd\" fill-opacity=\"1\"/>\n",
       "<defs>\n",
       "  <clipPath id=\"clip772\">\n",
       "    <rect x=\"86\" y=\"47\" width=\"2267\" height=\"1475\"/>\n",
       "  </clipPath>\n",
       "</defs>\n",
       "<polyline clip-path=\"url(#clip772)\" style=\"stroke:#000000; stroke-width:2; stroke-opacity:0.1; fill:none\" points=\"\n",
       "  394.017,1521.01 394.017,47.2441 \n",
       "  \"/>\n",
       "<polyline clip-path=\"url(#clip772)\" style=\"stroke:#000000; stroke-width:2; stroke-opacity:0.1; fill:none\" points=\"\n",
       "  879.815,1521.01 879.815,47.2441 \n",
       "  \"/>\n",
       "<polyline clip-path=\"url(#clip772)\" style=\"stroke:#000000; stroke-width:2; stroke-opacity:0.1; fill:none\" points=\"\n",
       "  1365.61,1521.01 1365.61,47.2441 \n",
       "  \"/>\n",
       "<polyline clip-path=\"url(#clip772)\" style=\"stroke:#000000; stroke-width:2; stroke-opacity:0.1; fill:none\" points=\"\n",
       "  1851.41,1521.01 1851.41,47.2441 \n",
       "  \"/>\n",
       "<polyline clip-path=\"url(#clip772)\" style=\"stroke:#000000; stroke-width:2; stroke-opacity:0.1; fill:none\" points=\"\n",
       "  2337.21,1521.01 2337.21,47.2441 \n",
       "  \"/>\n",
       "<polyline clip-path=\"url(#clip770)\" style=\"stroke:#000000; stroke-width:4; stroke-opacity:1; fill:none\" points=\"\n",
       "  86.9921,1521.01 2352.76,1521.01 \n",
       "  \"/>\n",
       "<polyline clip-path=\"url(#clip770)\" style=\"stroke:#000000; stroke-width:4; stroke-opacity:1; fill:none\" points=\"\n",
       "  394.017,1521.01 394.017,1503.32 \n",
       "  \"/>\n",
       "<polyline clip-path=\"url(#clip770)\" style=\"stroke:#000000; stroke-width:4; stroke-opacity:1; fill:none\" points=\"\n",
       "  879.815,1521.01 879.815,1503.32 \n",
       "  \"/>\n",
       "<polyline clip-path=\"url(#clip770)\" style=\"stroke:#000000; stroke-width:4; stroke-opacity:1; fill:none\" points=\"\n",
       "  1365.61,1521.01 1365.61,1503.32 \n",
       "  \"/>\n",
       "<polyline clip-path=\"url(#clip770)\" style=\"stroke:#000000; stroke-width:4; stroke-opacity:1; fill:none\" points=\"\n",
       "  1851.41,1521.01 1851.41,1503.32 \n",
       "  \"/>\n",
       "<polyline clip-path=\"url(#clip770)\" style=\"stroke:#000000; stroke-width:4; stroke-opacity:1; fill:none\" points=\"\n",
       "  2337.21,1521.01 2337.21,1503.32 \n",
       "  \"/>\n",
       "<path clip-path=\"url(#clip770)\" d=\"M 0 0 M366.471 1564.85 L396.146 1564.85 L396.146 1568.79 L366.471 1568.79 L366.471 1564.85 Z\" fill=\"#000000\" fill-rule=\"evenodd\" fill-opacity=\"1\" /><path clip-path=\"url(#clip770)\" d=\"M 0 0 M405.244 1577.74 L421.563 1577.74 L421.563 1581.68 L399.619 1581.68 L399.619 1577.74 Q402.281 1574.99 406.864 1570.36 Q411.47 1565.71 412.651 1564.37 Q414.896 1561.84 415.776 1560.11 Q416.679 1558.35 416.679 1556.66 Q416.679 1553.9 414.734 1552.17 Q412.813 1550.43 409.711 1550.43 Q407.512 1550.43 405.058 1551.19 Q402.628 1551.96 399.85 1553.51 L399.85 1548.79 Q402.674 1547.65 405.128 1547.07 Q407.581 1546.49 409.618 1546.49 Q414.989 1546.49 418.183 1549.18 Q421.378 1551.87 421.378 1556.36 Q421.378 1558.49 420.568 1560.41 Q419.78 1562.3 417.674 1564.9 Q417.095 1565.57 413.993 1568.79 Q410.892 1571.98 405.244 1577.74 Z\" fill=\"#000000\" fill-rule=\"evenodd\" fill-opacity=\"1\" /><path clip-path=\"url(#clip770)\" d=\"M 0 0 M852.084 1564.85 L881.76 1564.85 L881.76 1568.79 L852.084 1568.79 L852.084 1564.85 Z\" fill=\"#000000\" fill-rule=\"evenodd\" fill-opacity=\"1\" /><path clip-path=\"url(#clip770)\" d=\"M 0 0 M887.639 1577.74 L895.278 1577.74 L895.278 1551.38 L886.968 1553.05 L886.968 1548.79 L895.232 1547.12 L899.908 1547.12 L899.908 1577.74 L907.546 1577.74 L907.546 1581.68 L887.639 1581.68 L887.639 1577.74 Z\" fill=\"#000000\" fill-rule=\"evenodd\" fill-opacity=\"1\" /><path clip-path=\"url(#clip770)\" d=\"M 0 0 M1365.61 1550.2 Q1362 1550.2 1360.17 1553.76 Q1358.37 1557.31 1358.37 1564.43 Q1358.37 1571.54 1360.17 1575.11 Q1362 1578.65 1365.61 1578.65 Q1369.25 1578.65 1371.05 1575.11 Q1372.88 1571.54 1372.88 1564.43 Q1372.88 1557.31 1371.05 1553.76 Q1369.25 1550.2 1365.61 1550.2 M1365.61 1546.49 Q1371.42 1546.49 1374.48 1551.1 Q1377.56 1555.68 1377.56 1564.43 Q1377.56 1573.16 1374.48 1577.77 Q1371.42 1582.35 1365.61 1582.35 Q1359.8 1582.35 1356.72 1577.77 Q1353.67 1573.16 1353.67 1564.43 Q1353.67 1555.68 1356.72 1551.1 Q1359.8 1546.49 1365.61 1546.49 Z\" fill=\"#000000\" fill-rule=\"evenodd\" fill-opacity=\"1\" /><path clip-path=\"url(#clip770)\" d=\"M 0 0 M1841.79 1577.74 L1849.43 1577.74 L1849.43 1551.38 L1841.12 1553.05 L1841.12 1548.79 L1849.39 1547.12 L1854.06 1547.12 L1854.06 1577.74 L1861.7 1577.74 L1861.7 1581.68 L1841.79 1581.68 L1841.79 1577.74 Z\" fill=\"#000000\" fill-rule=\"evenodd\" fill-opacity=\"1\" /><path clip-path=\"url(#clip770)\" d=\"M 0 0 M2331.86 1577.74 L2348.18 1577.74 L2348.18 1581.68 L2326.24 1581.68 L2326.24 1577.74 Q2328.9 1574.99 2333.48 1570.36 Q2338.09 1565.71 2339.27 1564.37 Q2341.52 1561.84 2342.4 1560.11 Q2343.3 1558.35 2343.3 1556.66 Q2343.3 1553.9 2341.35 1552.17 Q2339.43 1550.43 2336.33 1550.43 Q2334.13 1550.43 2331.68 1551.19 Q2329.25 1551.96 2326.47 1553.51 L2326.47 1548.79 Q2329.29 1547.65 2331.75 1547.07 Q2334.2 1546.49 2336.24 1546.49 Q2341.61 1546.49 2344.8 1549.18 Q2348 1551.87 2348 1556.36 Q2348 1558.49 2347.19 1560.41 Q2346.4 1562.3 2344.29 1564.9 Q2343.71 1565.57 2340.61 1568.79 Q2337.51 1571.98 2331.86 1577.74 Z\" fill=\"#000000\" fill-rule=\"evenodd\" fill-opacity=\"1\" /><polyline clip-path=\"url(#clip772)\" style=\"stroke:#000000; stroke-width:2; stroke-opacity:0.1; fill:none\" points=\"\n",
       "  86.9921,1372.35 2352.76,1372.35 \n",
       "  \"/>\n",
       "<polyline clip-path=\"url(#clip772)\" style=\"stroke:#000000; stroke-width:2; stroke-opacity:0.1; fill:none\" points=\"\n",
       "  86.9921,1104.97 2352.76,1104.97 \n",
       "  \"/>\n",
       "<polyline clip-path=\"url(#clip772)\" style=\"stroke:#000000; stroke-width:2; stroke-opacity:0.1; fill:none\" points=\"\n",
       "  86.9921,837.601 2352.76,837.601 \n",
       "  \"/>\n",
       "<polyline clip-path=\"url(#clip772)\" style=\"stroke:#000000; stroke-width:2; stroke-opacity:0.1; fill:none\" points=\"\n",
       "  86.9921,570.227 2352.76,570.227 \n",
       "  \"/>\n",
       "<polyline clip-path=\"url(#clip772)\" style=\"stroke:#000000; stroke-width:2; stroke-opacity:0.1; fill:none\" points=\"\n",
       "  86.9921,302.853 2352.76,302.853 \n",
       "  \"/>\n",
       "<polyline clip-path=\"url(#clip770)\" style=\"stroke:#000000; stroke-width:4; stroke-opacity:1; fill:none\" points=\"\n",
       "  86.9921,1521.01 86.9921,47.2441 \n",
       "  \"/>\n",
       "<polyline clip-path=\"url(#clip770)\" style=\"stroke:#000000; stroke-width:4; stroke-opacity:1; fill:none\" points=\"\n",
       "  86.9921,1372.35 114.181,1372.35 \n",
       "  \"/>\n",
       "<polyline clip-path=\"url(#clip770)\" style=\"stroke:#000000; stroke-width:4; stroke-opacity:1; fill:none\" points=\"\n",
       "  86.9921,1104.97 114.181,1104.97 \n",
       "  \"/>\n",
       "<polyline clip-path=\"url(#clip770)\" style=\"stroke:#000000; stroke-width:4; stroke-opacity:1; fill:none\" points=\"\n",
       "  86.9921,837.601 114.181,837.601 \n",
       "  \"/>\n",
       "<polyline clip-path=\"url(#clip770)\" style=\"stroke:#000000; stroke-width:4; stroke-opacity:1; fill:none\" points=\"\n",
       "  86.9921,570.227 114.181,570.227 \n",
       "  \"/>\n",
       "<polyline clip-path=\"url(#clip770)\" style=\"stroke:#000000; stroke-width:4; stroke-opacity:1; fill:none\" points=\"\n",
       "  86.9921,302.853 114.181,302.853 \n",
       "  \"/>\n",
       "<path clip-path=\"url(#clip770)\" d=\"M 0 0 M-40.4426 1372.8 L-10.7668 1372.8 L-10.7668 1376.73 L-40.4426 1376.73 L-40.4426 1372.8 Z\" fill=\"#000000\" fill-rule=\"evenodd\" fill-opacity=\"1\" /><path clip-path=\"url(#clip770)\" d=\"M 0 0 M-4.8872 1385.69 L2.75164 1385.69 L2.75164 1359.33 L-5.5585 1360.99 L-5.5585 1356.73 L2.70535 1355.07 L7.38125 1355.07 L7.38125 1385.69 L15.0201 1385.69 L15.0201 1389.63 L-4.8872 1389.63 L-4.8872 1385.69 Z\" fill=\"#000000\" fill-rule=\"evenodd\" fill-opacity=\"1\" /><path clip-path=\"url(#clip770)\" d=\"M 0 0 M20.0895 1383.75 L24.9737 1383.75 L24.9737 1389.63 L20.0895 1389.63 L20.0895 1383.75 Z\" fill=\"#000000\" fill-rule=\"evenodd\" fill-opacity=\"1\" /><path clip-path=\"url(#clip770)\" d=\"M 0 0 M30.0895 1355.07 L48.4458 1355.07 L48.4458 1359 L34.3718 1359 L34.3718 1367.48 Q35.3904 1367.13 36.4089 1366.97 Q37.4274 1366.78 38.4459 1366.78 Q44.2329 1366.78 47.6125 1369.95 Q50.9921 1373.12 50.9921 1378.54 Q50.9921 1384.12 47.5199 1387.22 Q44.0477 1390.3 37.7283 1390.3 Q35.5524 1390.3 33.2839 1389.93 Q31.0385 1389.56 28.6311 1388.82 L28.6311 1384.12 Q30.7145 1385.25 32.9367 1385.81 Q35.1589 1386.36 37.6357 1386.36 Q41.6403 1386.36 43.9783 1384.26 Q46.3162 1382.15 46.3162 1378.54 Q46.3162 1374.93 43.9783 1372.82 Q41.6403 1370.72 37.6357 1370.72 Q35.7607 1370.72 33.8857 1371.13 Q32.0339 1371.55 30.0895 1372.43 L30.0895 1355.07 Z\" fill=\"#000000\" fill-rule=\"evenodd\" fill-opacity=\"1\" /><path clip-path=\"url(#clip770)\" d=\"M 0 0 M-41.4379 1105.43 L-11.7622 1105.43 L-11.7622 1109.36 L-41.4379 1109.36 L-41.4379 1105.43 Z\" fill=\"#000000\" fill-rule=\"evenodd\" fill-opacity=\"1\" /><path clip-path=\"url(#clip770)\" d=\"M 0 0 M-5.88257 1118.32 L1.75628 1118.32 L1.75628 1091.95 L-6.55386 1093.62 L-6.55386 1089.36 L1.70998 1087.69 L6.38588 1087.69 L6.38588 1118.32 L14.0247 1118.32 L14.0247 1122.25 L-5.88257 1122.25 L-5.88257 1118.32 Z\" fill=\"#000000\" fill-rule=\"evenodd\" fill-opacity=\"1\" /><path clip-path=\"url(#clip770)\" d=\"M 0 0 M19.0941 1116.37 L23.9784 1116.37 L23.9784 1122.25 L19.0941 1122.25 L19.0941 1116.37 Z\" fill=\"#000000\" fill-rule=\"evenodd\" fill-opacity=\"1\" /><path clip-path=\"url(#clip770)\" d=\"M 0 0 M39.0477 1090.77 Q35.4367 1090.77 33.608 1094.34 Q31.8024 1097.88 31.8024 1105.01 Q31.8024 1112.12 33.608 1115.68 Q35.4367 1119.22 39.0477 1119.22 Q42.682 1119.22 44.4875 1115.68 Q46.3162 1112.12 46.3162 1105.01 Q46.3162 1097.88 44.4875 1094.34 Q42.682 1090.77 39.0477 1090.77 M39.0477 1087.07 Q44.8579 1087.07 47.9134 1091.68 Q50.9921 1096.26 50.9921 1105.01 Q50.9921 1113.74 47.9134 1118.34 Q44.8579 1122.93 39.0477 1122.93 Q33.2376 1122.93 30.1589 1118.34 Q27.1034 1113.74 27.1034 1105.01 Q27.1034 1096.26 30.1589 1091.68 Q33.2376 1087.07 39.0477 1087.07 Z\" fill=\"#000000\" fill-rule=\"evenodd\" fill-opacity=\"1\" /><path clip-path=\"url(#clip770)\" d=\"M 0 0 M-41.6694 838.052 L-11.9936 838.052 L-11.9936 841.987 L-41.6694 841.987 L-41.6694 838.052 Z\" fill=\"#000000\" fill-rule=\"evenodd\" fill-opacity=\"1\" /><path clip-path=\"url(#clip770)\" d=\"M 0 0 M3.07572 823.399 Q-0.535376 823.399 -2.36407 826.964 Q-4.16962 830.506 -4.16962 837.635 Q-4.16962 844.742 -2.36407 848.307 Q-0.535376 851.848 3.07572 851.848 Q6.70996 851.848 8.5155 848.307 Q10.3442 844.742 10.3442 837.635 Q10.3442 830.506 8.5155 826.964 Q6.70996 823.399 3.07572 823.399 M3.07572 819.696 Q8.88587 819.696 11.9414 824.302 Q15.0201 828.885 15.0201 837.635 Q15.0201 846.362 11.9414 850.969 Q8.88587 855.552 3.07572 855.552 Q-2.73444 855.552 -5.81313 850.969 Q-8.86866 846.362 -8.86866 837.635 Q-8.86866 828.885 -5.81313 824.302 Q-2.73444 819.696 3.07572 819.696 Z\" fill=\"#000000\" fill-rule=\"evenodd\" fill-opacity=\"1\" /><path clip-path=\"url(#clip770)\" d=\"M 0 0 M20.0895 849.001 L24.9737 849.001 L24.9737 854.881 L20.0895 854.881 L20.0895 849.001 Z\" fill=\"#000000\" fill-rule=\"evenodd\" fill-opacity=\"1\" /><path clip-path=\"url(#clip770)\" d=\"M 0 0 M30.0895 820.321 L48.4458 820.321 L48.4458 824.256 L34.3718 824.256 L34.3718 832.728 Q35.3904 832.381 36.4089 832.219 Q37.4274 832.034 38.4459 832.034 Q44.2329 832.034 47.6125 835.205 Q50.9921 838.376 50.9921 843.793 Q50.9921 849.371 47.5199 852.473 Q44.0477 855.552 37.7283 855.552 Q35.5524 855.552 33.2839 855.182 Q31.0385 854.811 28.6311 854.071 L28.6311 849.371 Q30.7145 850.506 32.9367 851.061 Q35.1589 851.617 37.6357 851.617 Q41.6403 851.617 43.9783 849.51 Q46.3162 847.404 46.3162 843.793 Q46.3162 840.182 43.9783 838.075 Q41.6403 835.969 37.6357 835.969 Q35.7607 835.969 33.8857 836.385 Q32.0339 836.802 30.0895 837.682 L30.0895 820.321 Z\" fill=\"#000000\" fill-rule=\"evenodd\" fill-opacity=\"1\" /><path clip-path=\"url(#clip770)\" d=\"M 0 0 M2.08035 556.026 Q-1.53074 556.026 -3.35943 559.591 Q-5.16498 563.132 -5.16498 570.262 Q-5.16498 577.368 -3.35943 580.933 Q-1.53074 584.475 2.08035 584.475 Q5.71459 584.475 7.52014 580.933 Q9.34883 577.368 9.34883 570.262 Q9.34883 563.132 7.52014 559.591 Q5.71459 556.026 2.08035 556.026 M2.08035 552.322 Q7.89051 552.322 10.946 556.928 Q14.0247 561.512 14.0247 570.262 Q14.0247 578.989 10.946 583.595 Q7.89051 588.178 2.08035 588.178 Q-3.7298 588.178 -6.80849 583.595 Q-9.86403 578.989 -9.86403 570.262 Q-9.86403 561.512 -6.80849 556.928 Q-3.7298 552.322 2.08035 552.322 Z\" fill=\"#000000\" fill-rule=\"evenodd\" fill-opacity=\"1\" /><path clip-path=\"url(#clip770)\" d=\"M 0 0 M19.0941 581.627 L23.9784 581.627 L23.9784 587.507 L19.0941 587.507 L19.0941 581.627 Z\" fill=\"#000000\" fill-rule=\"evenodd\" fill-opacity=\"1\" /><path clip-path=\"url(#clip770)\" d=\"M 0 0 M39.0477 556.026 Q35.4367 556.026 33.608 559.591 Q31.8024 563.132 31.8024 570.262 Q31.8024 577.368 33.608 580.933 Q35.4367 584.475 39.0477 584.475 Q42.682 584.475 44.4875 580.933 Q46.3162 577.368 46.3162 570.262 Q46.3162 563.132 44.4875 559.591 Q42.682 556.026 39.0477 556.026 M39.0477 552.322 Q44.8579 552.322 47.9134 556.928 Q50.9921 561.512 50.9921 570.262 Q50.9921 578.989 47.9134 583.595 Q44.8579 588.178 39.0477 588.178 Q33.2376 588.178 30.1589 583.595 Q27.1034 578.989 27.1034 570.262 Q27.1034 561.512 30.1589 556.928 Q33.2376 552.322 39.0477 552.322 Z\" fill=\"#000000\" fill-rule=\"evenodd\" fill-opacity=\"1\" /><path clip-path=\"url(#clip770)\" d=\"M 0 0 M3.07572 288.652 Q-0.535376 288.652 -2.36407 292.217 Q-4.16962 295.758 -4.16962 302.888 Q-4.16962 309.995 -2.36407 313.559 Q-0.535376 317.101 3.07572 317.101 Q6.70996 317.101 8.5155 313.559 Q10.3442 309.995 10.3442 302.888 Q10.3442 295.758 8.5155 292.217 Q6.70996 288.652 3.07572 288.652 M3.07572 284.948 Q8.88587 284.948 11.9414 289.555 Q15.0201 294.138 15.0201 302.888 Q15.0201 311.615 11.9414 316.221 Q8.88587 320.805 3.07572 320.805 Q-2.73444 320.805 -5.81313 316.221 Q-8.86866 311.615 -8.86866 302.888 Q-8.86866 294.138 -5.81313 289.555 Q-2.73444 284.948 3.07572 284.948 Z\" fill=\"#000000\" fill-rule=\"evenodd\" fill-opacity=\"1\" /><path clip-path=\"url(#clip770)\" d=\"M 0 0 M20.0895 314.254 L24.9737 314.254 L24.9737 320.133 L20.0895 320.133 L20.0895 314.254 Z\" fill=\"#000000\" fill-rule=\"evenodd\" fill-opacity=\"1\" /><path clip-path=\"url(#clip770)\" d=\"M 0 0 M30.0895 285.573 L48.4458 285.573 L48.4458 289.509 L34.3718 289.509 L34.3718 297.981 Q35.3904 297.633 36.4089 297.471 Q37.4274 297.286 38.4459 297.286 Q44.2329 297.286 47.6125 300.458 Q50.9921 303.629 50.9921 309.045 Q50.9921 314.624 47.5199 317.726 Q44.0477 320.805 37.7283 320.805 Q35.5524 320.805 33.2839 320.434 Q31.0385 320.064 28.6311 319.323 L28.6311 314.624 Q30.7145 315.758 32.9367 316.314 Q35.1589 316.869 37.6357 316.869 Q41.6403 316.869 43.9783 314.763 Q46.3162 312.657 46.3162 309.045 Q46.3162 305.434 43.9783 303.328 Q41.6403 301.221 37.6357 301.221 Q35.7607 301.221 33.8857 301.638 Q32.0339 302.055 30.0895 302.934 L30.0895 285.573 Z\" fill=\"#000000\" fill-rule=\"evenodd\" fill-opacity=\"1\" /><path clip-path=\"url(#clip772)\" d=\"\n",
       "M442.597 1479.3 L491.176 302.853 L2191.47 195.904 L2288.63 730.651 L1802.83 1158.45 L442.597 1479.3 L442.597 1479.3  Z\n",
       "  \" fill=\"#0000ff\" fill-rule=\"evenodd\" fill-opacity=\"0.2\"/>\n",
       "<polyline clip-path=\"url(#clip772)\" style=\"stroke:#000000; stroke-width:4; stroke-opacity:0.2; fill:none\" points=\"\n",
       "  442.597,1479.3 491.176,302.853 2191.47,195.904 2288.63,730.651 1802.83,1158.45 442.597,1479.3 \n",
       "  \"/>\n",
       "<path clip-path=\"url(#clip772)\" d=\"\n",
       "M151.118 1158.45 L976.975 142.429 L1414.19 88.9544 L1997.15 516.752 L2240.05 1211.92 L151.118 1158.45 L151.118 1158.45  Z\n",
       "  \" fill=\"#ff0000\" fill-rule=\"evenodd\" fill-opacity=\"0.2\"/>\n",
       "<polyline clip-path=\"url(#clip772)\" style=\"stroke:#000000; stroke-width:4; stroke-opacity:0.2; fill:none\" points=\"\n",
       "  151.118,1158.45 976.975,142.429 1414.19,88.9544 1997.15,516.752 2240.05,1211.92 151.118,1158.45 \n",
       "  \"/>\n",
       "<path clip-path=\"url(#clip772)\" d=\"\n",
       "M455.524 1166.24 L472.155 763.489 L865.726 279.294 L1609.79 232.492 L1997.15 516.752 L2122.89 876.606 L1802.83 1158.45 L1641.13 1196.59 L455.524 1166.24 L455.524 1166.24 \n",
       "   Z\n",
       "  \" fill=\"#ffff00\" fill-rule=\"evenodd\" fill-opacity=\"0.6\"/>\n",
       "<polyline clip-path=\"url(#clip772)\" style=\"stroke:#000000; stroke-width:4; stroke-opacity:0.6; fill:none\" points=\"\n",
       "  455.524,1166.24 472.155,763.489 865.726,279.294 1609.79,232.492 1997.15,516.752 2122.89,876.606 1802.83,1158.45 1641.13,1196.59 455.524,1166.24 \n",
       "  \n",
       "  \"/>\n",
       "</svg>\n"
      ],
      "image/svg+xml": [
       "<?xml version=\"1.0\" encoding=\"utf-8\"?>\n",
       "<svg xmlns=\"http://www.w3.org/2000/svg\" xmlns:xlink=\"http://www.w3.org/1999/xlink\" width=\"600\" height=\"400\" viewBox=\"0 0 2400 1600\">\n",
       "<defs>\n",
       "  <clipPath id=\"clip740\">\n",
       "    <rect x=\"0\" y=\"0\" width=\"2400\" height=\"1600\"/>\n",
       "  </clipPath>\n",
       "</defs>\n",
       "<path clip-path=\"url(#clip740)\" d=\"\n",
       "M0 1600 L2400 1600 L2400 0 L0 0  Z\n",
       "  \" fill=\"#ffffff\" fill-rule=\"evenodd\" fill-opacity=\"1\"/>\n",
       "<defs>\n",
       "  <clipPath id=\"clip741\">\n",
       "    <rect x=\"480\" y=\"0\" width=\"1681\" height=\"1600\"/>\n",
       "  </clipPath>\n",
       "</defs>\n",
       "<path clip-path=\"url(#clip740)\" d=\"\n",
       "M86.9921 1521.01 L2352.76 1521.01 L2352.76 47.2441 L86.9921 47.2441  Z\n",
       "  \" fill=\"#ffffff\" fill-rule=\"evenodd\" fill-opacity=\"1\"/>\n",
       "<defs>\n",
       "  <clipPath id=\"clip742\">\n",
       "    <rect x=\"86\" y=\"47\" width=\"2267\" height=\"1475\"/>\n",
       "  </clipPath>\n",
       "</defs>\n",
       "<polyline clip-path=\"url(#clip742)\" style=\"stroke:#000000; stroke-width:2; stroke-opacity:0.1; fill:none\" points=\"\n",
       "  394.017,1521.01 394.017,47.2441 \n",
       "  \"/>\n",
       "<polyline clip-path=\"url(#clip742)\" style=\"stroke:#000000; stroke-width:2; stroke-opacity:0.1; fill:none\" points=\"\n",
       "  879.815,1521.01 879.815,47.2441 \n",
       "  \"/>\n",
       "<polyline clip-path=\"url(#clip742)\" style=\"stroke:#000000; stroke-width:2; stroke-opacity:0.1; fill:none\" points=\"\n",
       "  1365.61,1521.01 1365.61,47.2441 \n",
       "  \"/>\n",
       "<polyline clip-path=\"url(#clip742)\" style=\"stroke:#000000; stroke-width:2; stroke-opacity:0.1; fill:none\" points=\"\n",
       "  1851.41,1521.01 1851.41,47.2441 \n",
       "  \"/>\n",
       "<polyline clip-path=\"url(#clip742)\" style=\"stroke:#000000; stroke-width:2; stroke-opacity:0.1; fill:none\" points=\"\n",
       "  2337.21,1521.01 2337.21,47.2441 \n",
       "  \"/>\n",
       "<polyline clip-path=\"url(#clip740)\" style=\"stroke:#000000; stroke-width:4; stroke-opacity:1; fill:none\" points=\"\n",
       "  86.9921,1521.01 2352.76,1521.01 \n",
       "  \"/>\n",
       "<polyline clip-path=\"url(#clip740)\" style=\"stroke:#000000; stroke-width:4; stroke-opacity:1; fill:none\" points=\"\n",
       "  394.017,1521.01 394.017,1503.32 \n",
       "  \"/>\n",
       "<polyline clip-path=\"url(#clip740)\" style=\"stroke:#000000; stroke-width:4; stroke-opacity:1; fill:none\" points=\"\n",
       "  879.815,1521.01 879.815,1503.32 \n",
       "  \"/>\n",
       "<polyline clip-path=\"url(#clip740)\" style=\"stroke:#000000; stroke-width:4; stroke-opacity:1; fill:none\" points=\"\n",
       "  1365.61,1521.01 1365.61,1503.32 \n",
       "  \"/>\n",
       "<polyline clip-path=\"url(#clip740)\" style=\"stroke:#000000; stroke-width:4; stroke-opacity:1; fill:none\" points=\"\n",
       "  1851.41,1521.01 1851.41,1503.32 \n",
       "  \"/>\n",
       "<polyline clip-path=\"url(#clip740)\" style=\"stroke:#000000; stroke-width:4; stroke-opacity:1; fill:none\" points=\"\n",
       "  2337.21,1521.01 2337.21,1503.32 \n",
       "  \"/>\n",
       "<path clip-path=\"url(#clip740)\" d=\"M 0 0 M366.471 1564.85 L396.146 1564.85 L396.146 1568.79 L366.471 1568.79 L366.471 1564.85 Z\" fill=\"#000000\" fill-rule=\"evenodd\" fill-opacity=\"1\" /><path clip-path=\"url(#clip740)\" d=\"M 0 0 M405.244 1577.74 L421.563 1577.74 L421.563 1581.68 L399.619 1581.68 L399.619 1577.74 Q402.281 1574.99 406.864 1570.36 Q411.47 1565.71 412.651 1564.37 Q414.896 1561.84 415.776 1560.11 Q416.679 1558.35 416.679 1556.66 Q416.679 1553.9 414.734 1552.17 Q412.813 1550.43 409.711 1550.43 Q407.512 1550.43 405.058 1551.19 Q402.628 1551.96 399.85 1553.51 L399.85 1548.79 Q402.674 1547.65 405.128 1547.07 Q407.581 1546.49 409.618 1546.49 Q414.989 1546.49 418.183 1549.18 Q421.378 1551.87 421.378 1556.36 Q421.378 1558.49 420.568 1560.41 Q419.78 1562.3 417.674 1564.9 Q417.095 1565.57 413.993 1568.79 Q410.892 1571.98 405.244 1577.74 Z\" fill=\"#000000\" fill-rule=\"evenodd\" fill-opacity=\"1\" /><path clip-path=\"url(#clip740)\" d=\"M 0 0 M852.084 1564.85 L881.76 1564.85 L881.76 1568.79 L852.084 1568.79 L852.084 1564.85 Z\" fill=\"#000000\" fill-rule=\"evenodd\" fill-opacity=\"1\" /><path clip-path=\"url(#clip740)\" d=\"M 0 0 M887.639 1577.74 L895.278 1577.74 L895.278 1551.38 L886.968 1553.05 L886.968 1548.79 L895.232 1547.12 L899.908 1547.12 L899.908 1577.74 L907.546 1577.74 L907.546 1581.68 L887.639 1581.68 L887.639 1577.74 Z\" fill=\"#000000\" fill-rule=\"evenodd\" fill-opacity=\"1\" /><path clip-path=\"url(#clip740)\" d=\"M 0 0 M1365.61 1550.2 Q1362 1550.2 1360.17 1553.76 Q1358.37 1557.31 1358.37 1564.43 Q1358.37 1571.54 1360.17 1575.11 Q1362 1578.65 1365.61 1578.65 Q1369.25 1578.65 1371.05 1575.11 Q1372.88 1571.54 1372.88 1564.43 Q1372.88 1557.31 1371.05 1553.76 Q1369.25 1550.2 1365.61 1550.2 M1365.61 1546.49 Q1371.42 1546.49 1374.48 1551.1 Q1377.56 1555.68 1377.56 1564.43 Q1377.56 1573.16 1374.48 1577.77 Q1371.42 1582.35 1365.61 1582.35 Q1359.8 1582.35 1356.72 1577.77 Q1353.67 1573.16 1353.67 1564.43 Q1353.67 1555.68 1356.72 1551.1 Q1359.8 1546.49 1365.61 1546.49 Z\" fill=\"#000000\" fill-rule=\"evenodd\" fill-opacity=\"1\" /><path clip-path=\"url(#clip740)\" d=\"M 0 0 M1841.79 1577.74 L1849.43 1577.74 L1849.43 1551.38 L1841.12 1553.05 L1841.12 1548.79 L1849.39 1547.12 L1854.06 1547.12 L1854.06 1577.74 L1861.7 1577.74 L1861.7 1581.68 L1841.79 1581.68 L1841.79 1577.74 Z\" fill=\"#000000\" fill-rule=\"evenodd\" fill-opacity=\"1\" /><path clip-path=\"url(#clip740)\" d=\"M 0 0 M2331.86 1577.74 L2348.18 1577.74 L2348.18 1581.68 L2326.24 1581.68 L2326.24 1577.74 Q2328.9 1574.99 2333.48 1570.36 Q2338.09 1565.71 2339.27 1564.37 Q2341.52 1561.84 2342.4 1560.11 Q2343.3 1558.35 2343.3 1556.66 Q2343.3 1553.9 2341.35 1552.17 Q2339.43 1550.43 2336.33 1550.43 Q2334.13 1550.43 2331.68 1551.19 Q2329.25 1551.96 2326.47 1553.51 L2326.47 1548.79 Q2329.29 1547.65 2331.75 1547.07 Q2334.2 1546.49 2336.24 1546.49 Q2341.61 1546.49 2344.8 1549.18 Q2348 1551.87 2348 1556.36 Q2348 1558.49 2347.19 1560.41 Q2346.4 1562.3 2344.29 1564.9 Q2343.71 1565.57 2340.61 1568.79 Q2337.51 1571.98 2331.86 1577.74 Z\" fill=\"#000000\" fill-rule=\"evenodd\" fill-opacity=\"1\" /><polyline clip-path=\"url(#clip742)\" style=\"stroke:#000000; stroke-width:2; stroke-opacity:0.1; fill:none\" points=\"\n",
       "  86.9921,1372.35 2352.76,1372.35 \n",
       "  \"/>\n",
       "<polyline clip-path=\"url(#clip742)\" style=\"stroke:#000000; stroke-width:2; stroke-opacity:0.1; fill:none\" points=\"\n",
       "  86.9921,1104.97 2352.76,1104.97 \n",
       "  \"/>\n",
       "<polyline clip-path=\"url(#clip742)\" style=\"stroke:#000000; stroke-width:2; stroke-opacity:0.1; fill:none\" points=\"\n",
       "  86.9921,837.601 2352.76,837.601 \n",
       "  \"/>\n",
       "<polyline clip-path=\"url(#clip742)\" style=\"stroke:#000000; stroke-width:2; stroke-opacity:0.1; fill:none\" points=\"\n",
       "  86.9921,570.227 2352.76,570.227 \n",
       "  \"/>\n",
       "<polyline clip-path=\"url(#clip742)\" style=\"stroke:#000000; stroke-width:2; stroke-opacity:0.1; fill:none\" points=\"\n",
       "  86.9921,302.853 2352.76,302.853 \n",
       "  \"/>\n",
       "<polyline clip-path=\"url(#clip740)\" style=\"stroke:#000000; stroke-width:4; stroke-opacity:1; fill:none\" points=\"\n",
       "  86.9921,1521.01 86.9921,47.2441 \n",
       "  \"/>\n",
       "<polyline clip-path=\"url(#clip740)\" style=\"stroke:#000000; stroke-width:4; stroke-opacity:1; fill:none\" points=\"\n",
       "  86.9921,1372.35 114.181,1372.35 \n",
       "  \"/>\n",
       "<polyline clip-path=\"url(#clip740)\" style=\"stroke:#000000; stroke-width:4; stroke-opacity:1; fill:none\" points=\"\n",
       "  86.9921,1104.97 114.181,1104.97 \n",
       "  \"/>\n",
       "<polyline clip-path=\"url(#clip740)\" style=\"stroke:#000000; stroke-width:4; stroke-opacity:1; fill:none\" points=\"\n",
       "  86.9921,837.601 114.181,837.601 \n",
       "  \"/>\n",
       "<polyline clip-path=\"url(#clip740)\" style=\"stroke:#000000; stroke-width:4; stroke-opacity:1; fill:none\" points=\"\n",
       "  86.9921,570.227 114.181,570.227 \n",
       "  \"/>\n",
       "<polyline clip-path=\"url(#clip740)\" style=\"stroke:#000000; stroke-width:4; stroke-opacity:1; fill:none\" points=\"\n",
       "  86.9921,302.853 114.181,302.853 \n",
       "  \"/>\n",
       "<path clip-path=\"url(#clip740)\" d=\"M 0 0 M-40.4426 1372.8 L-10.7668 1372.8 L-10.7668 1376.73 L-40.4426 1376.73 L-40.4426 1372.8 Z\" fill=\"#000000\" fill-rule=\"evenodd\" fill-opacity=\"1\" /><path clip-path=\"url(#clip740)\" d=\"M 0 0 M-4.8872 1385.69 L2.75164 1385.69 L2.75164 1359.33 L-5.5585 1360.99 L-5.5585 1356.73 L2.70535 1355.07 L7.38125 1355.07 L7.38125 1385.69 L15.0201 1385.69 L15.0201 1389.63 L-4.8872 1389.63 L-4.8872 1385.69 Z\" fill=\"#000000\" fill-rule=\"evenodd\" fill-opacity=\"1\" /><path clip-path=\"url(#clip740)\" d=\"M 0 0 M20.0895 1383.75 L24.9737 1383.75 L24.9737 1389.63 L20.0895 1389.63 L20.0895 1383.75 Z\" fill=\"#000000\" fill-rule=\"evenodd\" fill-opacity=\"1\" /><path clip-path=\"url(#clip740)\" d=\"M 0 0 M30.0895 1355.07 L48.4458 1355.07 L48.4458 1359 L34.3718 1359 L34.3718 1367.48 Q35.3904 1367.13 36.4089 1366.97 Q37.4274 1366.78 38.4459 1366.78 Q44.2329 1366.78 47.6125 1369.95 Q50.9921 1373.12 50.9921 1378.54 Q50.9921 1384.12 47.5199 1387.22 Q44.0477 1390.3 37.7283 1390.3 Q35.5524 1390.3 33.2839 1389.93 Q31.0385 1389.56 28.6311 1388.82 L28.6311 1384.12 Q30.7145 1385.25 32.9367 1385.81 Q35.1589 1386.36 37.6357 1386.36 Q41.6403 1386.36 43.9783 1384.26 Q46.3162 1382.15 46.3162 1378.54 Q46.3162 1374.93 43.9783 1372.82 Q41.6403 1370.72 37.6357 1370.72 Q35.7607 1370.72 33.8857 1371.13 Q32.0339 1371.55 30.0895 1372.43 L30.0895 1355.07 Z\" fill=\"#000000\" fill-rule=\"evenodd\" fill-opacity=\"1\" /><path clip-path=\"url(#clip740)\" d=\"M 0 0 M-41.4379 1105.43 L-11.7622 1105.43 L-11.7622 1109.36 L-41.4379 1109.36 L-41.4379 1105.43 Z\" fill=\"#000000\" fill-rule=\"evenodd\" fill-opacity=\"1\" /><path clip-path=\"url(#clip740)\" d=\"M 0 0 M-5.88257 1118.32 L1.75628 1118.32 L1.75628 1091.95 L-6.55386 1093.62 L-6.55386 1089.36 L1.70998 1087.69 L6.38588 1087.69 L6.38588 1118.32 L14.0247 1118.32 L14.0247 1122.25 L-5.88257 1122.25 L-5.88257 1118.32 Z\" fill=\"#000000\" fill-rule=\"evenodd\" fill-opacity=\"1\" /><path clip-path=\"url(#clip740)\" d=\"M 0 0 M19.0941 1116.37 L23.9784 1116.37 L23.9784 1122.25 L19.0941 1122.25 L19.0941 1116.37 Z\" fill=\"#000000\" fill-rule=\"evenodd\" fill-opacity=\"1\" /><path clip-path=\"url(#clip740)\" d=\"M 0 0 M39.0477 1090.77 Q35.4367 1090.77 33.608 1094.34 Q31.8024 1097.88 31.8024 1105.01 Q31.8024 1112.12 33.608 1115.68 Q35.4367 1119.22 39.0477 1119.22 Q42.682 1119.22 44.4875 1115.68 Q46.3162 1112.12 46.3162 1105.01 Q46.3162 1097.88 44.4875 1094.34 Q42.682 1090.77 39.0477 1090.77 M39.0477 1087.07 Q44.8579 1087.07 47.9134 1091.68 Q50.9921 1096.26 50.9921 1105.01 Q50.9921 1113.74 47.9134 1118.34 Q44.8579 1122.93 39.0477 1122.93 Q33.2376 1122.93 30.1589 1118.34 Q27.1034 1113.74 27.1034 1105.01 Q27.1034 1096.26 30.1589 1091.68 Q33.2376 1087.07 39.0477 1087.07 Z\" fill=\"#000000\" fill-rule=\"evenodd\" fill-opacity=\"1\" /><path clip-path=\"url(#clip740)\" d=\"M 0 0 M-41.6694 838.052 L-11.9936 838.052 L-11.9936 841.987 L-41.6694 841.987 L-41.6694 838.052 Z\" fill=\"#000000\" fill-rule=\"evenodd\" fill-opacity=\"1\" /><path clip-path=\"url(#clip740)\" d=\"M 0 0 M3.07572 823.399 Q-0.535376 823.399 -2.36407 826.964 Q-4.16962 830.506 -4.16962 837.635 Q-4.16962 844.742 -2.36407 848.307 Q-0.535376 851.848 3.07572 851.848 Q6.70996 851.848 8.5155 848.307 Q10.3442 844.742 10.3442 837.635 Q10.3442 830.506 8.5155 826.964 Q6.70996 823.399 3.07572 823.399 M3.07572 819.696 Q8.88587 819.696 11.9414 824.302 Q15.0201 828.885 15.0201 837.635 Q15.0201 846.362 11.9414 850.969 Q8.88587 855.552 3.07572 855.552 Q-2.73444 855.552 -5.81313 850.969 Q-8.86866 846.362 -8.86866 837.635 Q-8.86866 828.885 -5.81313 824.302 Q-2.73444 819.696 3.07572 819.696 Z\" fill=\"#000000\" fill-rule=\"evenodd\" fill-opacity=\"1\" /><path clip-path=\"url(#clip740)\" d=\"M 0 0 M20.0895 849.001 L24.9737 849.001 L24.9737 854.881 L20.0895 854.881 L20.0895 849.001 Z\" fill=\"#000000\" fill-rule=\"evenodd\" fill-opacity=\"1\" /><path clip-path=\"url(#clip740)\" d=\"M 0 0 M30.0895 820.321 L48.4458 820.321 L48.4458 824.256 L34.3718 824.256 L34.3718 832.728 Q35.3904 832.381 36.4089 832.219 Q37.4274 832.034 38.4459 832.034 Q44.2329 832.034 47.6125 835.205 Q50.9921 838.376 50.9921 843.793 Q50.9921 849.371 47.5199 852.473 Q44.0477 855.552 37.7283 855.552 Q35.5524 855.552 33.2839 855.182 Q31.0385 854.811 28.6311 854.071 L28.6311 849.371 Q30.7145 850.506 32.9367 851.061 Q35.1589 851.617 37.6357 851.617 Q41.6403 851.617 43.9783 849.51 Q46.3162 847.404 46.3162 843.793 Q46.3162 840.182 43.9783 838.075 Q41.6403 835.969 37.6357 835.969 Q35.7607 835.969 33.8857 836.385 Q32.0339 836.802 30.0895 837.682 L30.0895 820.321 Z\" fill=\"#000000\" fill-rule=\"evenodd\" fill-opacity=\"1\" /><path clip-path=\"url(#clip740)\" d=\"M 0 0 M2.08035 556.026 Q-1.53074 556.026 -3.35943 559.591 Q-5.16498 563.132 -5.16498 570.262 Q-5.16498 577.368 -3.35943 580.933 Q-1.53074 584.475 2.08035 584.475 Q5.71459 584.475 7.52014 580.933 Q9.34883 577.368 9.34883 570.262 Q9.34883 563.132 7.52014 559.591 Q5.71459 556.026 2.08035 556.026 M2.08035 552.322 Q7.89051 552.322 10.946 556.928 Q14.0247 561.512 14.0247 570.262 Q14.0247 578.989 10.946 583.595 Q7.89051 588.178 2.08035 588.178 Q-3.7298 588.178 -6.80849 583.595 Q-9.86403 578.989 -9.86403 570.262 Q-9.86403 561.512 -6.80849 556.928 Q-3.7298 552.322 2.08035 552.322 Z\" fill=\"#000000\" fill-rule=\"evenodd\" fill-opacity=\"1\" /><path clip-path=\"url(#clip740)\" d=\"M 0 0 M19.0941 581.627 L23.9784 581.627 L23.9784 587.507 L19.0941 587.507 L19.0941 581.627 Z\" fill=\"#000000\" fill-rule=\"evenodd\" fill-opacity=\"1\" /><path clip-path=\"url(#clip740)\" d=\"M 0 0 M39.0477 556.026 Q35.4367 556.026 33.608 559.591 Q31.8024 563.132 31.8024 570.262 Q31.8024 577.368 33.608 580.933 Q35.4367 584.475 39.0477 584.475 Q42.682 584.475 44.4875 580.933 Q46.3162 577.368 46.3162 570.262 Q46.3162 563.132 44.4875 559.591 Q42.682 556.026 39.0477 556.026 M39.0477 552.322 Q44.8579 552.322 47.9134 556.928 Q50.9921 561.512 50.9921 570.262 Q50.9921 578.989 47.9134 583.595 Q44.8579 588.178 39.0477 588.178 Q33.2376 588.178 30.1589 583.595 Q27.1034 578.989 27.1034 570.262 Q27.1034 561.512 30.1589 556.928 Q33.2376 552.322 39.0477 552.322 Z\" fill=\"#000000\" fill-rule=\"evenodd\" fill-opacity=\"1\" /><path clip-path=\"url(#clip740)\" d=\"M 0 0 M3.07572 288.652 Q-0.535376 288.652 -2.36407 292.217 Q-4.16962 295.758 -4.16962 302.888 Q-4.16962 309.995 -2.36407 313.559 Q-0.535376 317.101 3.07572 317.101 Q6.70996 317.101 8.5155 313.559 Q10.3442 309.995 10.3442 302.888 Q10.3442 295.758 8.5155 292.217 Q6.70996 288.652 3.07572 288.652 M3.07572 284.948 Q8.88587 284.948 11.9414 289.555 Q15.0201 294.138 15.0201 302.888 Q15.0201 311.615 11.9414 316.221 Q8.88587 320.805 3.07572 320.805 Q-2.73444 320.805 -5.81313 316.221 Q-8.86866 311.615 -8.86866 302.888 Q-8.86866 294.138 -5.81313 289.555 Q-2.73444 284.948 3.07572 284.948 Z\" fill=\"#000000\" fill-rule=\"evenodd\" fill-opacity=\"1\" /><path clip-path=\"url(#clip740)\" d=\"M 0 0 M20.0895 314.254 L24.9737 314.254 L24.9737 320.133 L20.0895 320.133 L20.0895 314.254 Z\" fill=\"#000000\" fill-rule=\"evenodd\" fill-opacity=\"1\" /><path clip-path=\"url(#clip740)\" d=\"M 0 0 M30.0895 285.573 L48.4458 285.573 L48.4458 289.509 L34.3718 289.509 L34.3718 297.981 Q35.3904 297.633 36.4089 297.471 Q37.4274 297.286 38.4459 297.286 Q44.2329 297.286 47.6125 300.458 Q50.9921 303.629 50.9921 309.045 Q50.9921 314.624 47.5199 317.726 Q44.0477 320.805 37.7283 320.805 Q35.5524 320.805 33.2839 320.434 Q31.0385 320.064 28.6311 319.323 L28.6311 314.624 Q30.7145 315.758 32.9367 316.314 Q35.1589 316.869 37.6357 316.869 Q41.6403 316.869 43.9783 314.763 Q46.3162 312.657 46.3162 309.045 Q46.3162 305.434 43.9783 303.328 Q41.6403 301.221 37.6357 301.221 Q35.7607 301.221 33.8857 301.638 Q32.0339 302.055 30.0895 302.934 L30.0895 285.573 Z\" fill=\"#000000\" fill-rule=\"evenodd\" fill-opacity=\"1\" /><path clip-path=\"url(#clip742)\" d=\"\n",
       "M442.597 1479.3 L491.176 302.853 L2191.47 195.904 L2288.63 730.651 L1802.83 1158.45 L442.597 1479.3 L442.597 1479.3  Z\n",
       "  \" fill=\"#0000ff\" fill-rule=\"evenodd\" fill-opacity=\"0.2\"/>\n",
       "<polyline clip-path=\"url(#clip742)\" style=\"stroke:#000000; stroke-width:4; stroke-opacity:0.2; fill:none\" points=\"\n",
       "  442.597,1479.3 491.176,302.853 2191.47,195.904 2288.63,730.651 1802.83,1158.45 442.597,1479.3 \n",
       "  \"/>\n",
       "<path clip-path=\"url(#clip742)\" d=\"\n",
       "M151.118 1158.45 L976.975 142.429 L1414.19 88.9544 L1997.15 516.752 L2240.05 1211.92 L151.118 1158.45 L151.118 1158.45  Z\n",
       "  \" fill=\"#ff0000\" fill-rule=\"evenodd\" fill-opacity=\"0.2\"/>\n",
       "<polyline clip-path=\"url(#clip742)\" style=\"stroke:#000000; stroke-width:4; stroke-opacity:0.2; fill:none\" points=\"\n",
       "  151.118,1158.45 976.975,142.429 1414.19,88.9544 1997.15,516.752 2240.05,1211.92 151.118,1158.45 \n",
       "  \"/>\n",
       "<path clip-path=\"url(#clip742)\" d=\"\n",
       "M455.524 1166.24 L472.155 763.489 L865.726 279.294 L1609.79 232.492 L1997.15 516.752 L2122.89 876.606 L1802.83 1158.45 L1641.13 1196.59 L455.524 1166.24 L455.524 1166.24 \n",
       "   Z\n",
       "  \" fill=\"#ffff00\" fill-rule=\"evenodd\" fill-opacity=\"0.6\"/>\n",
       "<polyline clip-path=\"url(#clip742)\" style=\"stroke:#000000; stroke-width:4; stroke-opacity:0.6; fill:none\" points=\"\n",
       "  455.524,1166.24 472.155,763.489 865.726,279.294 1609.79,232.492 1997.15,516.752 2122.89,876.606 1802.83,1158.45 1641.13,1196.59 455.524,1166.24 \n",
       "  \n",
       "  \"/>\n",
       "</svg>\n"
      ]
     },
     "metadata": {},
     "execution_count": 12
    }
   ],
   "cell_type": "code",
   "source": [
    "using Plots\n",
    "plot(P1, color=\"blue\", alpha=0.2)\n",
    "plot!(P2, color=\"red\", alpha=0.2)\n",
    "plot!(Pint, color=\"yellow\", alpha=0.6)"
   ],
   "metadata": {},
   "execution_count": 12
  },
  {
   "cell_type": "markdown",
   "source": [
    "---\n",
    "\n",
    "*This notebook was generated using [Literate.jl](https://github.com/fredrikekre/Literate.jl).*"
   ],
   "metadata": {}
  }
 ],
 "nbformat_minor": 3,
 "metadata": {
  "language_info": {
   "file_extension": ".jl",
   "mimetype": "application/julia",
   "name": "julia",
   "version": "1.5.3"
  },
  "kernelspec": {
   "name": "julia-1.5",
   "display_name": "Julia 1.5.3",
   "language": "julia"
  }
 },
 "nbformat": 4
}
